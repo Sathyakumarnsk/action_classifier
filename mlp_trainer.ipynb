{
  "nbformat": 4,
  "nbformat_minor": 0,
  "metadata": {
    "colab": {
      "name": "mlp_trainer.ipynb",
      "provenance": [],
      "collapsed_sections": [],
      "authorship_tag": "ABX9TyN/Yn3i55VigxNwd34AIzSB",
      "include_colab_link": true
    },
    "kernelspec": {
      "name": "python3",
      "display_name": "Python 3"
    }
  },
  "cells": [
    {
      "cell_type": "markdown",
      "metadata": {
        "id": "view-in-github",
        "colab_type": "text"
      },
      "source": [
        "<a href=\"https://colab.research.google.com/github/Sathyakumarnsk/action_classifier/blob/master/mlp_trainer.ipynb\" target=\"_parent\"><img src=\"https://colab.research.google.com/assets/colab-badge.svg\" alt=\"Open In Colab\"/></a>"
      ]
    },
    {
      "cell_type": "code",
      "metadata": {
        "id": "lgH5zH0fx94p"
      },
      "source": [
        "%tensorflow_version 1.x\n",
        "import json\n",
        "import numpy as np\n",
        "#from sklearn.model_selection import train_test_split\n",
        "import tensorflow.keras as keras\n",
        "import matplotlib.pyplot as plt\n",
        "\n",
        "from tensorflow.keras.utils import to_categorical\n",
        "from keras.models import Sequential\n",
        "from keras.layers import Dense\n",
        "from keras.layers.normalization import BatchNormalization\n",
        "from tensorflow.keras import regularizers\n",
        "from keras.optimizers import Adam, SGD\n",
        "from keras.layers import LeakyReLU"
      ],
      "execution_count": 3,
      "outputs": []
    },
    {
      "cell_type": "code",
      "metadata": {
        "id": "cn9AoZvbyC_v"
      },
      "source": [
        "#Loading in data\n",
        "data_path = \"./data_500_mini.json\"\n",
        "#Load data\n",
        "with open(data_path, \"r\") as fp:\n",
        "    data = json.load(fp)\n",
        "\n"
      ],
      "execution_count": 4,
      "outputs": []
    },
    {
      "cell_type": "code",
      "metadata": {
        "id": "U2VXeXK-6pam"
      },
      "source": [
        "# data.keys()\n",
        "labels=data['metadata']['all labels in loaded order']\n",
        "# data['metadata'].keys()\n",
        "#data['dataperclass'].keys()"
      ],
      "execution_count": 7,
      "outputs": []
    },
    {
      "cell_type": "code",
      "metadata": {
        "id": "fxG8fQDV7lJM",
        "outputId": "fdba0606-fe03-4d48-fb65-880672202bc7",
        "colab": {
          "base_uri": "https://localhost:8080/",
          "height": 231
        }
      },
      "source": [
        "X=list(); Y=list()\n",
        "C_x=list();C_y=list()\n",
        "for i,c in enumerate(labels):\n",
        "  print(c)\n",
        "  skel_class=data['dataperclass'][c]['skelsinfo_list']\n",
        "  #print(np.array(skel_class))\n",
        "  C_x.append(skel_class)\n",
        "  print(np.array(C_x).shape)\n",
        "  label_class=data['dataperclass'][c]['label_list']\n",
        "  C_y.append(label_class)\n",
        "  #print(len(C_y))\n",
        "  X.extend(skel_class)\n",
        "  Y.extend(label_class)\n",
        "\n"
      ],
      "execution_count": 6,
      "outputs": [
        {
          "output_type": "error",
          "ename": "NameError",
          "evalue": "ignored",
          "traceback": [
            "\u001b[0;31m---------------------------------------------------------------------------\u001b[0m",
            "\u001b[0;31mNameError\u001b[0m                                 Traceback (most recent call last)",
            "\u001b[0;32m<ipython-input-6-790fb17cca72>\u001b[0m in \u001b[0;36m<module>\u001b[0;34m()\u001b[0m\n\u001b[1;32m      1\u001b[0m \u001b[0mX\u001b[0m\u001b[0;34m=\u001b[0m\u001b[0mlist\u001b[0m\u001b[0;34m(\u001b[0m\u001b[0;34m)\u001b[0m\u001b[0;34m;\u001b[0m \u001b[0mY\u001b[0m\u001b[0;34m=\u001b[0m\u001b[0mlist\u001b[0m\u001b[0;34m(\u001b[0m\u001b[0;34m)\u001b[0m\u001b[0;34m\u001b[0m\u001b[0;34m\u001b[0m\u001b[0m\n\u001b[1;32m      2\u001b[0m \u001b[0mC_x\u001b[0m\u001b[0;34m=\u001b[0m\u001b[0mlist\u001b[0m\u001b[0;34m(\u001b[0m\u001b[0;34m)\u001b[0m\u001b[0;34m;\u001b[0m\u001b[0mC_y\u001b[0m\u001b[0;34m=\u001b[0m\u001b[0mlist\u001b[0m\u001b[0;34m(\u001b[0m\u001b[0;34m)\u001b[0m\u001b[0;34m\u001b[0m\u001b[0;34m\u001b[0m\u001b[0m\n\u001b[0;32m----> 3\u001b[0;31m \u001b[0;32mfor\u001b[0m \u001b[0mi\u001b[0m\u001b[0;34m,\u001b[0m\u001b[0mc\u001b[0m \u001b[0;32min\u001b[0m \u001b[0menumerate\u001b[0m\u001b[0;34m(\u001b[0m\u001b[0mlabels\u001b[0m\u001b[0;34m)\u001b[0m\u001b[0;34m:\u001b[0m\u001b[0;34m\u001b[0m\u001b[0;34m\u001b[0m\u001b[0m\n\u001b[0m\u001b[1;32m      4\u001b[0m   \u001b[0mprint\u001b[0m\u001b[0;34m(\u001b[0m\u001b[0mc\u001b[0m\u001b[0;34m)\u001b[0m\u001b[0;34m\u001b[0m\u001b[0;34m\u001b[0m\u001b[0m\n\u001b[1;32m      5\u001b[0m   \u001b[0mskel_class\u001b[0m\u001b[0;34m=\u001b[0m\u001b[0mdata\u001b[0m\u001b[0;34m[\u001b[0m\u001b[0;34m'dataperclass'\u001b[0m\u001b[0;34m]\u001b[0m\u001b[0;34m[\u001b[0m\u001b[0mc\u001b[0m\u001b[0;34m]\u001b[0m\u001b[0;34m[\u001b[0m\u001b[0;34m'skelsinfo_list'\u001b[0m\u001b[0;34m]\u001b[0m\u001b[0;34m\u001b[0m\u001b[0;34m\u001b[0m\u001b[0m\n",
            "\u001b[0;31mNameError\u001b[0m: name 'labels' is not defined"
          ]
        }
      ]
    },
    {
      "cell_type": "code",
      "metadata": {
        "id": "yY9iU8JOTt_o"
      },
      "source": [
        "np.array(X).shape\n",
        "np.array(Y).shape"
      ],
      "execution_count": null,
      "outputs": []
    },
    {
      "cell_type": "code",
      "metadata": {
        "id": "H_XEFxSGJKmY"
      },
      "source": [
        "mapping={l:i for i,l in enumerate(labels)}\n",
        "print(mapping)\n",
        "labels=[]\n",
        "for y in Y:\n",
        "  labels.append(mapping[y])"
      ],
      "execution_count": null,
      "outputs": []
    },
    {
      "cell_type": "code",
      "metadata": {
        "id": "2mCS1PDSIrj8"
      },
      "source": [
        "encoder_Y = to_categorical(labels)\n",
        "print(Y[0], \": \", encoder_Y[0])\n",
        "print(Y[50], \": \", encoder_Y[50])\n",
        "print(Y[100], \": \", encoder_Y[100])\n",
        "print(Y[150], \": \", encoder_Y[150])\n",
        "print(Y[200], \": \", encoder_Y[200])"
      ],
      "execution_count": null,
      "outputs": []
    },
    {
      "cell_type": "code",
      "metadata": {
        "id": "MnG1UVIH9sSH"
      },
      "source": [
        "import numpy as np\n",
        "def train_test_split(X_data,Y_data,val=0.2,test=0.1):\n",
        "    X_data=np.array(X_data);Y_data=np.array(Y_data)\n",
        "    # create random train/test split\n",
        "    indices = list(range(X_data.shape[0]))\n",
        "    train_split=1.0-(val+test)\n",
        "    num_training_indices = int(train_split * X_data.shape[0])\n",
        "    num_valid_indices = int(val * X_data.shape[0])\n",
        "    #num_test_indices = int(train_split * X_data.shape[0])\n",
        "    np.random.shuffle(indices)\n",
        "    train_indices = indices[:num_training_indices]\n",
        "    valid_indices=indices[num_training_indices:num_training_indices+num_valid_indices]\n",
        "    test_indices = indices[num_training_indices+num_valid_indices:]\n",
        "\n",
        "    # split the actual data\n",
        "    X_data_train, X_data_val, X_data_test = X_data[train_indices], X_data[valid_indices], X_data[test_indices]\n",
        "    Y_data_train, Y_data_val ,Y_data_test = Y_data[train_indices], Y_data[valid_indices], Y_data[test_indices]\n",
        "    return (X_data_train, X_data_val, X_data_test, Y_data_train, Y_data_val, Y_data_test)\n"
      ],
      "execution_count": null,
      "outputs": []
    },
    {
      "cell_type": "code",
      "metadata": {
        "id": "PKXkxDDg-fJs"
      },
      "source": [
        "X_train, X_val, X_test, Y_train, Y_val, Y_test=train_test_split(X,encoder_Y)"
      ],
      "execution_count": null,
      "outputs": []
    },
    {
      "cell_type": "code",
      "metadata": {
        "id": "0CuiUPn9_GCp"
      },
      "source": [
        "# Build a simple DNN model with keras\n",
        "model = Sequential()\n",
        "model.add(Dense(units=48, activation='relu',kernel_regularizer=keras.regularizers.l2(0.001)))\n",
        "model.add(BatchNormalization())\n",
        "model.add(Dense(units=128, activation='relu',kernel_regularizer=keras.regularizers.l2(0.001)))\n",
        "model.add(BatchNormalization())\n",
        "keras.layers.Dropout(0.2),\n",
        "model.add(Dense(units=64, activation='relu',kernel_regularizer=keras.regularizers.l2(0.001)))\n",
        "model.add(BatchNormalization())\n",
        "keras.layers.Dropout(0.2),\n",
        "model.add(Dense(units=16, activation='relu',kernel_regularizer=keras.regularizers.l2(0.001)))\n",
        "model.add(BatchNormalization())\n",
        "model.add(Dense(units=6, activation='softmax'))\n",
        "#model.add(Dense(units=1,))\n",
        "\n",
        "# Training\n",
        "# optimiser: Adam with learning rate 0.0001\n",
        "# loss: categorical_crossentropy for the matrix form matrix_Y\n",
        "# metrics: accuracy is evaluated for the model\n",
        "model.compile(optimizer=Adam(0.0001), loss='categorical_crossentropy', metrics=['accuracy'])\n"
      ],
      "execution_count": null,
      "outputs": []
    },
    {
      "cell_type": "code",
      "metadata": {
        "id": "FssR6cVxYA4i"
      },
      "source": [
        "# batch_size: number of samples per gradient update\n",
        "# epochs: how many times to pass through the whole training set\n",
        "# verbose: show one line for every completed epoch\n",
        "history=model.fit(X_train, Y_train, batch_size=24, epochs=100, verbose=2, validation_data=(X_val, Y_val))\n"
      ],
      "execution_count": null,
      "outputs": []
    },
    {
      "cell_type": "code",
      "metadata": {
        "id": "VT5O_CdcbJ0R"
      },
      "source": [
        "#Evaluate on a test set\n",
        "test_loss, test_acc = model.evaluate(X_test,Y_test, verbose=2)\n",
        "\n",
        "print('\\nTest accuracy:', test_acc)"
      ],
      "execution_count": null,
      "outputs": []
    },
    {
      "cell_type": "code",
      "metadata": {
        "id": "xuCw_ULAYZ55"
      },
      "source": [
        "# Save the trained model\n",
        "model.save('./action_recognition_mlp.h5')"
      ],
      "execution_count": null,
      "outputs": []
    },
    {
      "cell_type": "code",
      "metadata": {
        "id": "kXN0JQ6JcAnp"
      },
      "source": [
        "  history_dict = history.history\n",
        "  history_dict.keys()"
      ],
      "execution_count": null,
      "outputs": []
    },
    {
      "cell_type": "code",
      "metadata": {
        "id": "Hpv8CKUNVIGd"
      },
      "source": [
        "def plot_history(history):\n",
        "  history_dict = history.history\n",
        "  keys=list(history_dict.keys())\n",
        "  acc = history_dict['accuracy']\n",
        "  val_acc = history_dict['val_accuracy']\n",
        "  loss = history_dict['loss']\n",
        "  val_loss = history_dict['val_loss']\n",
        "\n",
        "  epochs = range(1, len(acc) + 1)\n",
        "\n",
        "  # \"bo\" is for \"blue dot\"\n",
        "  plt.plot(epochs, loss, 'r', label='Training loss')\n",
        "  # b is for \"solid blue line\"\n",
        "  plt.plot(epochs, val_loss, 'b', label='Validation loss')\n",
        "  plt.title('Training and validation loss')\n",
        "  plt.xlabel('Epochs')\n",
        "  plt.ylabel('Loss')\n",
        "  plt.legend()\n",
        "\n",
        "  plt.show()\n",
        "\n",
        "  plt.plot(epochs, acc, 'r', label='Training acc')\n",
        "  plt.plot(epochs, val_acc, 'b', label='Validation acc')\n",
        "  plt.title('Training and validation accuracy')\n",
        "  plt.xlabel('Epochs')\n",
        "  plt.ylabel('Accuracy')\n",
        "  plt.legend(loc='lower right')\n",
        "\n",
        "  plt.show()\n",
        "\n",
        "\n",
        "\n"
      ],
      "execution_count": null,
      "outputs": []
    },
    {
      "cell_type": "code",
      "metadata": {
        "id": "rhzuNHqab3wi"
      },
      "source": [
        "plot_history(history)"
      ],
      "execution_count": null,
      "outputs": []
    },
    {
      "cell_type": "code",
      "metadata": {
        "id": "n78HaWZYb5gC"
      },
      "source": [
        ""
      ],
      "execution_count": null,
      "outputs": []
    }
  ]
}