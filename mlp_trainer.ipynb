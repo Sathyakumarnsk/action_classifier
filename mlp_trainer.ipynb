{
  "nbformat": 4,
  "nbformat_minor": 0,
  "metadata": {
    "colab": {
      "name": "mlp_trainer.ipynb",
      "provenance": [],
      "collapsed_sections": [],
      "authorship_tag": "ABX9TyNKw0pqD0koTh0xntn/Hds+",
      "include_colab_link": true
    },
    "kernelspec": {
      "name": "python3",
      "display_name": "Python 3"
    }
  },
  "cells": [
    {
      "cell_type": "markdown",
      "metadata": {
        "id": "view-in-github",
        "colab_type": "text"
      },
      "source": [
        "<a href=\"https://colab.research.google.com/github/Sathyakumarnsk/action_classifier/blob/master/mlp_trainer.ipynb\" target=\"_parent\"><img src=\"https://colab.research.google.com/assets/colab-badge.svg\" alt=\"Open In Colab\"/></a>"
      ]
    },
    {
      "cell_type": "code",
      "metadata": {
        "id": "lgH5zH0fx94p"
      },
      "source": [
        "%tensorflow_version 1.x\n",
        "import json\n",
        "import numpy as np\n",
        "#from sklearn.model_selection import train_test_split\n",
        "import tensorflow.keras as keras\n",
        "import matplotlib.pyplot as plt\n",
        "\n",
        "from tensorflow.keras.utils import to_categorical\n",
        "from keras.models import Sequential\n",
        "from keras.layers import Dense,Input\n",
        "from keras.layers.normalization import BatchNormalization\n",
        "from tensorflow.keras import regularizers\n",
        "from keras.optimizers import Adam, SGD\n",
        "from keras.layers import LeakyReLU"
      ],
      "execution_count": 21,
      "outputs": []
    },
    {
      "cell_type": "code",
      "metadata": {
        "id": "cn9AoZvbyC_v"
      },
      "source": [
        "#Loading in data\n",
        "data_path = \"./data_500_mini.json\"\n",
        "#Load data\n",
        "with open(data_path, \"r\") as fp:\n",
        "    data = json.load(fp)\n",
        "\n"
      ],
      "execution_count": 4,
      "outputs": []
    },
    {
      "cell_type": "code",
      "metadata": {
        "id": "U2VXeXK-6pam"
      },
      "source": [
        "# data.keys()\n",
        "labels=data['metadata']['all labels in loaded order']\n",
        "# data['metadata'].keys()\n",
        "#data['dataperclass'].keys()"
      ],
      "execution_count": 7,
      "outputs": []
    },
    {
      "cell_type": "code",
      "metadata": {
        "id": "fxG8fQDV7lJM",
        "outputId": "95e5ad63-d4b9-4f89-854d-2c8f1168cace",
        "colab": {
          "base_uri": "https://localhost:8080/",
          "height": 221
        }
      },
      "source": [
        "X=list(); Y=list()\n",
        "C_x=list();C_y=list()\n",
        "for i,c in enumerate(labels):\n",
        "  print(c)\n",
        "  skel_class=data['dataperclass'][c]['skelsinfo_list']\n",
        "  #print(np.array(skel_class))\n",
        "  C_x.append(skel_class)\n",
        "  print(np.array(C_x).shape)\n",
        "  label_class=data['dataperclass'][c]['label_list']\n",
        "  C_y.append(label_class)\n",
        "  #print(len(C_y))\n",
        "  X.extend(skel_class)\n",
        "  Y.extend(label_class)\n",
        "\n"
      ],
      "execution_count": 8,
      "outputs": [
        {
          "output_type": "stream",
          "text": [
            "follow\n",
            "(1, 50, 24)\n",
            "pour\n",
            "(2, 50, 24)\n",
            "pp\n",
            "(3, 50, 24)\n",
            "stand\n",
            "(4, 50, 24)\n",
            "stop\n",
            "(5, 50, 24)\n",
            "wave\n",
            "(6, 50, 24)\n"
          ],
          "name": "stdout"
        }
      ]
    },
    {
      "cell_type": "code",
      "metadata": {
        "id": "yY9iU8JOTt_o",
        "outputId": "836b028f-edc9-427b-e8f5-c6bf4d8d7a72",
        "colab": {
          "base_uri": "https://localhost:8080/",
          "height": 51
        }
      },
      "source": [
        "print(np.array(X).shape)\n",
        "print(np.array(Y).shape)"
      ],
      "execution_count": 11,
      "outputs": [
        {
          "output_type": "stream",
          "text": [
            "(300, 24)\n",
            "(300,)\n"
          ],
          "name": "stdout"
        }
      ]
    },
    {
      "cell_type": "code",
      "metadata": {
        "id": "knqhFtPQiQk_"
      },
      "source": [
        ""
      ],
      "execution_count": null,
      "outputs": []
    },
    {
      "cell_type": "code",
      "metadata": {
        "id": "H_XEFxSGJKmY",
        "outputId": "6b1021ec-d15e-41c9-fb22-243fcb079678",
        "colab": {
          "base_uri": "https://localhost:8080/",
          "height": 34
        }
      },
      "source": [
        "mapping={l:i for i,l in enumerate(labels)}\n",
        "print(mapping)\n",
        "labels=[]\n",
        "for y in Y:\n",
        "  labels.append(mapping[y])"
      ],
      "execution_count": 12,
      "outputs": [
        {
          "output_type": "stream",
          "text": [
            "{'follow': 0, 'pour': 1, 'pp': 2, 'stand': 3, 'stop': 4, 'wave': 5}\n"
          ],
          "name": "stdout"
        }
      ]
    },
    {
      "cell_type": "code",
      "metadata": {
        "id": "2mCS1PDSIrj8",
        "outputId": "986e8bcf-4018-40f0-be53-bd0feee76689",
        "colab": {
          "base_uri": "https://localhost:8080/",
          "height": 102
        }
      },
      "source": [
        "encoder_Y = to_categorical(labels)\n",
        "print(Y[0], \": \", encoder_Y[0])\n",
        "print(Y[50], \": \", encoder_Y[50])\n",
        "print(Y[100], \": \", encoder_Y[100])\n",
        "print(Y[150], \": \", encoder_Y[150])\n",
        "print(Y[200], \": \", encoder_Y[200])"
      ],
      "execution_count": 13,
      "outputs": [
        {
          "output_type": "stream",
          "text": [
            "follow :  [1. 0. 0. 0. 0. 0.]\n",
            "pour :  [0. 1. 0. 0. 0. 0.]\n",
            "pp :  [0. 0. 1. 0. 0. 0.]\n",
            "stand :  [0. 0. 0. 1. 0. 0.]\n",
            "stop :  [0. 0. 0. 0. 1. 0.]\n"
          ],
          "name": "stdout"
        }
      ]
    },
    {
      "cell_type": "code",
      "metadata": {
        "id": "MnG1UVIH9sSH"
      },
      "source": [
        "import numpy as np\n",
        "def train_test_split(X_data,Y_data,val=0.2,test=0.1):\n",
        "    X_data=np.array(X_data);Y_data=np.array(Y_data)\n",
        "    # create random train/test split\n",
        "    indices = list(range(X_data.shape[0]))\n",
        "    train_split=1.0-(val+test)\n",
        "    num_training_indices = int(train_split * X_data.shape[0])\n",
        "    num_valid_indices = int(val * X_data.shape[0])\n",
        "    #num_test_indices = int(train_split * X_data.shape[0])\n",
        "    np.random.shuffle(indices)\n",
        "    train_indices = indices[:num_training_indices]\n",
        "    valid_indices=indices[num_training_indices:num_training_indices+num_valid_indices]\n",
        "    test_indices = indices[num_training_indices+num_valid_indices:]\n",
        "\n",
        "    # split the actual data\n",
        "    X_data_train, X_data_val, X_data_test = X_data[train_indices], X_data[valid_indices], X_data[test_indices]\n",
        "    Y_data_train, Y_data_val ,Y_data_test = Y_data[train_indices], Y_data[valid_indices], Y_data[test_indices]\n",
        "    return (X_data_train, X_data_val, X_data_test, Y_data_train, Y_data_val, Y_data_test)\n"
      ],
      "execution_count": 14,
      "outputs": []
    },
    {
      "cell_type": "code",
      "metadata": {
        "id": "PKXkxDDg-fJs"
      },
      "source": [
        "X_train, X_val, X_test, Y_train, X_test, Y_test=train_test_split(X,encoder_Y)"
      ],
      "execution_count": 23,
      "outputs": []
    },
    {
      "cell_type": "code",
      "metadata": {
        "id": "sJN_3Cebkwg4",
        "outputId": "83df3cb5-4a6c-4ec8-96e4-131034bd0ecf",
        "colab": {
          "base_uri": "https://localhost:8080/",
          "height": 34
        }
      },
      "source": [
        "X_train[0].shape"
      ],
      "execution_count": 29,
      "outputs": [
        {
          "output_type": "execute_result",
          "data": {
            "text/plain": [
              "(24,)"
            ]
          },
          "metadata": {
            "tags": []
          },
          "execution_count": 29
        }
      ]
    },
    {
      "cell_type": "code",
      "metadata": {
        "id": "0CuiUPn9_GCp"
      },
      "source": [
        "# Build a simple DNN model with keras\n",
        "model = Sequential()\n",
        "#model.add(Input(shape=(24,)))\n",
        "model.add(Dense(units=48, input_shape=(24,), activation='relu',kernel_regularizer=keras.regularizers.l2(0.001)))\n",
        "model.add(BatchNormalization())\n",
        "model.add(Dense(units=128, activation='relu',kernel_regularizer=keras.regularizers.l2(0.001)))\n",
        "model.add(BatchNormalization())\n",
        "keras.layers.Dropout(0.2),\n",
        "model.add(Dense(units=64, activation='relu',kernel_regularizer=keras.regularizers.l2(0.001)))\n",
        "model.add(BatchNormalization())\n",
        "keras.layers.Dropout(0.2),\n",
        "model.add(Dense(units=16, activation='relu',kernel_regularizer=keras.regularizers.l2(0.001)))\n",
        "model.add(BatchNormalization())\n",
        "model.add(Dense(units=6, activation='softmax'))\n",
        "#model.add(Dense(units=1,))\n",
        "\n",
        "# Training\n",
        "# optimiser: Adam with learning rate 0.0001\n",
        "# loss: categorical_crossentropy for the matrix form matrix_Y\n",
        "# metrics: accuracy is evaluated for the model\n",
        "model.compile(optimizer=Adam(0.0001), loss='categorical_crossentropy', metrics=['accuracy'])\n"
      ],
      "execution_count": 25,
      "outputs": []
    },
    {
      "cell_type": "code",
      "metadata": {
        "id": "UqZAW53tiWXh",
        "outputId": "8abeb143-c1d2-40e5-ac84-d275f3b8a585",
        "colab": {
          "base_uri": "https://localhost:8080/",
          "height": 459
        }
      },
      "source": [
        "model.summary()"
      ],
      "execution_count": 26,
      "outputs": [
        {
          "output_type": "stream",
          "text": [
            "Model: \"sequential_3\"\n",
            "_________________________________________________________________\n",
            "Layer (type)                 Output Shape              Param #   \n",
            "=================================================================\n",
            "dense_6 (Dense)              (None, 48)                1200      \n",
            "_________________________________________________________________\n",
            "batch_normalization_5 (Batch (None, 48)                192       \n",
            "_________________________________________________________________\n",
            "dense_7 (Dense)              (None, 128)               6272      \n",
            "_________________________________________________________________\n",
            "batch_normalization_6 (Batch (None, 128)               512       \n",
            "_________________________________________________________________\n",
            "dense_8 (Dense)              (None, 64)                8256      \n",
            "_________________________________________________________________\n",
            "batch_normalization_7 (Batch (None, 64)                256       \n",
            "_________________________________________________________________\n",
            "dense_9 (Dense)              (None, 16)                1040      \n",
            "_________________________________________________________________\n",
            "batch_normalization_8 (Batch (None, 16)                64        \n",
            "_________________________________________________________________\n",
            "dense_10 (Dense)             (None, 6)                 102       \n",
            "=================================================================\n",
            "Total params: 17,894\n",
            "Trainable params: 17,382\n",
            "Non-trainable params: 512\n",
            "_________________________________________________________________\n"
          ],
          "name": "stdout"
        }
      ]
    },
    {
      "cell_type": "code",
      "metadata": {
        "id": "FssR6cVxYA4i",
        "outputId": "c9345d13-bf1d-4891-fe28-6b97f7aa08c8",
        "colab": {
          "base_uri": "https://localhost:8080/",
          "height": 1000
        }
      },
      "source": [
        "# batch_size: number of samples per gradient update\n",
        "# epochs: how many times to pass through the whole training set\n",
        "# verbose: show one line for every completed epoch\n",
        "history=model.fit(X_train, Y_train, batch_size=24, epochs=100, verbose=2, validation_data=(X_val, Y_val))\n"
      ],
      "execution_count": 30,
      "outputs": [
        {
          "output_type": "stream",
          "text": [
            "Train on 210 samples, validate on 60 samples\n",
            "Epoch 1/100\n",
            " - 0s - loss: 0.2651 - accuracy: 1.0000 - val_loss: 0.2631 - val_accuracy: 1.0000\n",
            "Epoch 2/100\n",
            " - 0s - loss: 0.2895 - accuracy: 0.9952 - val_loss: 0.2623 - val_accuracy: 1.0000\n",
            "Epoch 3/100\n",
            " - 0s - loss: 0.2704 - accuracy: 1.0000 - val_loss: 0.2666 - val_accuracy: 1.0000\n",
            "Epoch 4/100\n",
            " - 0s - loss: 0.2633 - accuracy: 1.0000 - val_loss: 0.2676 - val_accuracy: 1.0000\n",
            "Epoch 5/100\n",
            " - 0s - loss: 0.2517 - accuracy: 1.0000 - val_loss: 0.2667 - val_accuracy: 1.0000\n",
            "Epoch 6/100\n",
            " - 0s - loss: 0.2588 - accuracy: 1.0000 - val_loss: 0.2634 - val_accuracy: 1.0000\n",
            "Epoch 7/100\n",
            " - 0s - loss: 0.2662 - accuracy: 1.0000 - val_loss: 0.2603 - val_accuracy: 1.0000\n",
            "Epoch 8/100\n",
            " - 0s - loss: 0.2572 - accuracy: 1.0000 - val_loss: 0.2565 - val_accuracy: 1.0000\n",
            "Epoch 9/100\n",
            " - 0s - loss: 0.2646 - accuracy: 1.0000 - val_loss: 0.2530 - val_accuracy: 1.0000\n",
            "Epoch 10/100\n",
            " - 0s - loss: 0.2608 - accuracy: 1.0000 - val_loss: 0.2511 - val_accuracy: 1.0000\n",
            "Epoch 11/100\n",
            " - 0s - loss: 0.2690 - accuracy: 1.0000 - val_loss: 0.2497 - val_accuracy: 1.0000\n",
            "Epoch 12/100\n",
            " - 0s - loss: 0.2414 - accuracy: 1.0000 - val_loss: 0.2485 - val_accuracy: 1.0000\n",
            "Epoch 13/100\n",
            " - 0s - loss: 0.2586 - accuracy: 1.0000 - val_loss: 0.2485 - val_accuracy: 1.0000\n",
            "Epoch 14/100\n",
            " - 0s - loss: 0.2576 - accuracy: 1.0000 - val_loss: 0.2475 - val_accuracy: 1.0000\n",
            "Epoch 15/100\n",
            " - 0s - loss: 0.2497 - accuracy: 1.0000 - val_loss: 0.2460 - val_accuracy: 1.0000\n",
            "Epoch 16/100\n",
            " - 0s - loss: 0.2451 - accuracy: 1.0000 - val_loss: 0.2442 - val_accuracy: 1.0000\n",
            "Epoch 17/100\n",
            " - 0s - loss: 0.2448 - accuracy: 1.0000 - val_loss: 0.2436 - val_accuracy: 1.0000\n",
            "Epoch 18/100\n",
            " - 0s - loss: 0.2484 - accuracy: 1.0000 - val_loss: 0.2430 - val_accuracy: 1.0000\n",
            "Epoch 19/100\n",
            " - 0s - loss: 0.2481 - accuracy: 1.0000 - val_loss: 0.2416 - val_accuracy: 1.0000\n",
            "Epoch 20/100\n",
            " - 0s - loss: 0.2582 - accuracy: 0.9905 - val_loss: 0.2406 - val_accuracy: 1.0000\n",
            "Epoch 21/100\n",
            " - 0s - loss: 0.2469 - accuracy: 1.0000 - val_loss: 0.2428 - val_accuracy: 1.0000\n",
            "Epoch 22/100\n",
            " - 0s - loss: 0.2538 - accuracy: 1.0000 - val_loss: 0.2446 - val_accuracy: 1.0000\n",
            "Epoch 23/100\n",
            " - 0s - loss: 0.2459 - accuracy: 1.0000 - val_loss: 0.2454 - val_accuracy: 1.0000\n",
            "Epoch 24/100\n",
            " - 0s - loss: 0.2332 - accuracy: 1.0000 - val_loss: 0.2439 - val_accuracy: 1.0000\n",
            "Epoch 25/100\n",
            " - 0s - loss: 0.2515 - accuracy: 1.0000 - val_loss: 0.2402 - val_accuracy: 1.0000\n",
            "Epoch 26/100\n",
            " - 0s - loss: 0.2310 - accuracy: 1.0000 - val_loss: 0.2379 - val_accuracy: 1.0000\n",
            "Epoch 27/100\n",
            " - 0s - loss: 0.2379 - accuracy: 1.0000 - val_loss: 0.2351 - val_accuracy: 1.0000\n",
            "Epoch 28/100\n",
            " - 0s - loss: 0.2331 - accuracy: 1.0000 - val_loss: 0.2332 - val_accuracy: 1.0000\n",
            "Epoch 29/100\n",
            " - 0s - loss: 0.2359 - accuracy: 1.0000 - val_loss: 0.2329 - val_accuracy: 1.0000\n",
            "Epoch 30/100\n",
            " - 0s - loss: 0.2351 - accuracy: 1.0000 - val_loss: 0.2309 - val_accuracy: 1.0000\n",
            "Epoch 31/100\n",
            " - 0s - loss: 0.2314 - accuracy: 1.0000 - val_loss: 0.2302 - val_accuracy: 1.0000\n",
            "Epoch 32/100\n",
            " - 0s - loss: 0.2428 - accuracy: 1.0000 - val_loss: 0.2292 - val_accuracy: 1.0000\n",
            "Epoch 33/100\n",
            " - 0s - loss: 0.2268 - accuracy: 1.0000 - val_loss: 0.2286 - val_accuracy: 1.0000\n",
            "Epoch 34/100\n",
            " - 0s - loss: 0.2284 - accuracy: 1.0000 - val_loss: 0.2283 - val_accuracy: 1.0000\n",
            "Epoch 35/100\n",
            " - 0s - loss: 0.2251 - accuracy: 1.0000 - val_loss: 0.2276 - val_accuracy: 1.0000\n",
            "Epoch 36/100\n",
            " - 0s - loss: 0.2361 - accuracy: 1.0000 - val_loss: 0.2264 - val_accuracy: 1.0000\n",
            "Epoch 37/100\n",
            " - 0s - loss: 0.2229 - accuracy: 1.0000 - val_loss: 0.2254 - val_accuracy: 1.0000\n",
            "Epoch 38/100\n",
            " - 0s - loss: 0.2279 - accuracy: 1.0000 - val_loss: 0.2247 - val_accuracy: 1.0000\n",
            "Epoch 39/100\n",
            " - 0s - loss: 0.2372 - accuracy: 0.9905 - val_loss: 0.2236 - val_accuracy: 1.0000\n",
            "Epoch 40/100\n",
            " - 0s - loss: 0.2335 - accuracy: 1.0000 - val_loss: 0.2256 - val_accuracy: 1.0000\n",
            "Epoch 41/100\n",
            " - 0s - loss: 0.2235 - accuracy: 1.0000 - val_loss: 0.2267 - val_accuracy: 1.0000\n",
            "Epoch 42/100\n",
            " - 0s - loss: 0.2225 - accuracy: 1.0000 - val_loss: 0.2266 - val_accuracy: 1.0000\n",
            "Epoch 43/100\n",
            " - 0s - loss: 0.2353 - accuracy: 1.0000 - val_loss: 0.2251 - val_accuracy: 1.0000\n",
            "Epoch 44/100\n",
            " - 0s - loss: 0.2227 - accuracy: 1.0000 - val_loss: 0.2241 - val_accuracy: 1.0000\n",
            "Epoch 45/100\n",
            " - 0s - loss: 0.2181 - accuracy: 1.0000 - val_loss: 0.2215 - val_accuracy: 1.0000\n",
            "Epoch 46/100\n",
            " - 0s - loss: 0.2240 - accuracy: 1.0000 - val_loss: 0.2197 - val_accuracy: 1.0000\n",
            "Epoch 47/100\n",
            " - 0s - loss: 0.2232 - accuracy: 1.0000 - val_loss: 0.2193 - val_accuracy: 1.0000\n",
            "Epoch 48/100\n",
            " - 0s - loss: 0.2173 - accuracy: 1.0000 - val_loss: 0.2185 - val_accuracy: 1.0000\n",
            "Epoch 49/100\n",
            " - 0s - loss: 0.2256 - accuracy: 1.0000 - val_loss: 0.2165 - val_accuracy: 1.0000\n",
            "Epoch 50/100\n",
            " - 0s - loss: 0.2269 - accuracy: 1.0000 - val_loss: 0.2152 - val_accuracy: 1.0000\n",
            "Epoch 51/100\n",
            " - 0s - loss: 0.2230 - accuracy: 1.0000 - val_loss: 0.2144 - val_accuracy: 1.0000\n",
            "Epoch 52/100\n",
            " - 0s - loss: 0.2139 - accuracy: 1.0000 - val_loss: 0.2144 - val_accuracy: 1.0000\n",
            "Epoch 53/100\n",
            " - 0s - loss: 0.2195 - accuracy: 1.0000 - val_loss: 0.2141 - val_accuracy: 1.0000\n",
            "Epoch 54/100\n",
            " - 0s - loss: 0.2262 - accuracy: 1.0000 - val_loss: 0.2125 - val_accuracy: 1.0000\n",
            "Epoch 55/100\n",
            " - 0s - loss: 0.2215 - accuracy: 1.0000 - val_loss: 0.2117 - val_accuracy: 1.0000\n",
            "Epoch 56/100\n",
            " - 0s - loss: 0.2201 - accuracy: 1.0000 - val_loss: 0.2108 - val_accuracy: 1.0000\n",
            "Epoch 57/100\n",
            " - 0s - loss: 0.2211 - accuracy: 1.0000 - val_loss: 0.2101 - val_accuracy: 1.0000\n",
            "Epoch 58/100\n",
            " - 0s - loss: 0.2238 - accuracy: 1.0000 - val_loss: 0.2095 - val_accuracy: 1.0000\n",
            "Epoch 59/100\n",
            " - 0s - loss: 0.2135 - accuracy: 1.0000 - val_loss: 0.2094 - val_accuracy: 1.0000\n",
            "Epoch 60/100\n",
            " - 0s - loss: 0.2156 - accuracy: 1.0000 - val_loss: 0.2091 - val_accuracy: 1.0000\n",
            "Epoch 61/100\n",
            " - 0s - loss: 0.2324 - accuracy: 1.0000 - val_loss: 0.2079 - val_accuracy: 1.0000\n",
            "Epoch 62/100\n",
            " - 0s - loss: 0.2057 - accuracy: 1.0000 - val_loss: 0.2075 - val_accuracy: 1.0000\n",
            "Epoch 63/100\n",
            " - 0s - loss: 0.2093 - accuracy: 1.0000 - val_loss: 0.2067 - val_accuracy: 1.0000\n",
            "Epoch 64/100\n",
            " - 0s - loss: 0.2097 - accuracy: 1.0000 - val_loss: 0.2058 - val_accuracy: 1.0000\n",
            "Epoch 65/100\n",
            " - 0s - loss: 0.2140 - accuracy: 1.0000 - val_loss: 0.2047 - val_accuracy: 1.0000\n",
            "Epoch 66/100\n",
            " - 0s - loss: 0.2138 - accuracy: 1.0000 - val_loss: 0.2043 - val_accuracy: 1.0000\n",
            "Epoch 67/100\n",
            " - 0s - loss: 0.2068 - accuracy: 1.0000 - val_loss: 0.2039 - val_accuracy: 1.0000\n",
            "Epoch 68/100\n",
            " - 0s - loss: 0.2207 - accuracy: 1.0000 - val_loss: 0.2035 - val_accuracy: 1.0000\n",
            "Epoch 69/100\n",
            " - 0s - loss: 0.2117 - accuracy: 1.0000 - val_loss: 0.2028 - val_accuracy: 1.0000\n",
            "Epoch 70/100\n",
            " - 0s - loss: 0.2093 - accuracy: 1.0000 - val_loss: 0.2024 - val_accuracy: 1.0000\n",
            "Epoch 71/100\n",
            " - 0s - loss: 0.2121 - accuracy: 1.0000 - val_loss: 0.2017 - val_accuracy: 1.0000\n",
            "Epoch 72/100\n",
            " - 0s - loss: 0.2118 - accuracy: 1.0000 - val_loss: 0.2016 - val_accuracy: 1.0000\n",
            "Epoch 73/100\n",
            " - 0s - loss: 0.2023 - accuracy: 1.0000 - val_loss: 0.2015 - val_accuracy: 1.0000\n",
            "Epoch 74/100\n",
            " - 0s - loss: 0.2080 - accuracy: 1.0000 - val_loss: 0.2015 - val_accuracy: 1.0000\n",
            "Epoch 75/100\n",
            " - 0s - loss: 0.2195 - accuracy: 1.0000 - val_loss: 0.2007 - val_accuracy: 1.0000\n",
            "Epoch 76/100\n",
            " - 0s - loss: 0.2016 - accuracy: 1.0000 - val_loss: 0.1994 - val_accuracy: 1.0000\n",
            "Epoch 77/100\n",
            " - 0s - loss: 0.2111 - accuracy: 1.0000 - val_loss: 0.1988 - val_accuracy: 1.0000\n",
            "Epoch 78/100\n",
            " - 0s - loss: 0.2018 - accuracy: 1.0000 - val_loss: 0.1988 - val_accuracy: 1.0000\n",
            "Epoch 79/100\n",
            " - 0s - loss: 0.2024 - accuracy: 1.0000 - val_loss: 0.1991 - val_accuracy: 1.0000\n",
            "Epoch 80/100\n",
            " - 0s - loss: 0.2158 - accuracy: 1.0000 - val_loss: 0.1989 - val_accuracy: 1.0000\n",
            "Epoch 81/100\n",
            " - 0s - loss: 0.2000 - accuracy: 1.0000 - val_loss: 0.1986 - val_accuracy: 1.0000\n",
            "Epoch 82/100\n",
            " - 0s - loss: 0.2036 - accuracy: 1.0000 - val_loss: 0.1980 - val_accuracy: 1.0000\n",
            "Epoch 83/100\n",
            " - 0s - loss: 0.1979 - accuracy: 1.0000 - val_loss: 0.1975 - val_accuracy: 1.0000\n",
            "Epoch 84/100\n",
            " - 0s - loss: 0.1981 - accuracy: 1.0000 - val_loss: 0.1971 - val_accuracy: 1.0000\n",
            "Epoch 85/100\n",
            " - 0s - loss: 0.2029 - accuracy: 1.0000 - val_loss: 0.1966 - val_accuracy: 1.0000\n",
            "Epoch 86/100\n",
            " - 0s - loss: 0.2045 - accuracy: 1.0000 - val_loss: 0.1959 - val_accuracy: 1.0000\n",
            "Epoch 87/100\n",
            " - 0s - loss: 0.1992 - accuracy: 1.0000 - val_loss: 0.1952 - val_accuracy: 1.0000\n",
            "Epoch 88/100\n",
            " - 0s - loss: 0.2061 - accuracy: 1.0000 - val_loss: 0.1954 - val_accuracy: 1.0000\n",
            "Epoch 89/100\n",
            " - 0s - loss: 0.2252 - accuracy: 1.0000 - val_loss: 0.1949 - val_accuracy: 1.0000\n",
            "Epoch 90/100\n",
            " - 0s - loss: 0.1971 - accuracy: 1.0000 - val_loss: 0.1947 - val_accuracy: 1.0000\n",
            "Epoch 91/100\n",
            " - 0s - loss: 0.2003 - accuracy: 1.0000 - val_loss: 0.1943 - val_accuracy: 1.0000\n",
            "Epoch 92/100\n",
            " - 0s - loss: 0.1988 - accuracy: 1.0000 - val_loss: 0.1941 - val_accuracy: 1.0000\n",
            "Epoch 93/100\n",
            " - 0s - loss: 0.1930 - accuracy: 1.0000 - val_loss: 0.1937 - val_accuracy: 1.0000\n",
            "Epoch 94/100\n",
            " - 0s - loss: 0.1981 - accuracy: 1.0000 - val_loss: 0.1931 - val_accuracy: 1.0000\n",
            "Epoch 95/100\n",
            " - 0s - loss: 0.1976 - accuracy: 1.0000 - val_loss: 0.1928 - val_accuracy: 1.0000\n",
            "Epoch 96/100\n",
            " - 0s - loss: 0.1984 - accuracy: 1.0000 - val_loss: 0.1925 - val_accuracy: 1.0000\n",
            "Epoch 97/100\n",
            " - 0s - loss: 0.2000 - accuracy: 1.0000 - val_loss: 0.1923 - val_accuracy: 1.0000\n",
            "Epoch 98/100\n",
            " - 0s - loss: 0.2002 - accuracy: 1.0000 - val_loss: 0.1924 - val_accuracy: 1.0000\n",
            "Epoch 99/100\n",
            " - 0s - loss: 0.2072 - accuracy: 1.0000 - val_loss: 0.1915 - val_accuracy: 1.0000\n",
            "Epoch 100/100\n",
            " - 0s - loss: 0.1984 - accuracy: 1.0000 - val_loss: 0.1909 - val_accuracy: 1.0000\n"
          ],
          "name": "stdout"
        }
      ]
    },
    {
      "cell_type": "code",
      "metadata": {
        "id": "NjYA3PacixYR",
        "outputId": "cd51eeaa-e510-497a-9ea6-5e9541205b33",
        "colab": {
          "base_uri": "https://localhost:8080/",
          "height": 459
        }
      },
      "source": [
        "model.summary()"
      ],
      "execution_count": 31,
      "outputs": [
        {
          "output_type": "stream",
          "text": [
            "Model: \"sequential_3\"\n",
            "_________________________________________________________________\n",
            "Layer (type)                 Output Shape              Param #   \n",
            "=================================================================\n",
            "dense_6 (Dense)              (None, 48)                1200      \n",
            "_________________________________________________________________\n",
            "batch_normalization_5 (Batch (None, 48)                192       \n",
            "_________________________________________________________________\n",
            "dense_7 (Dense)              (None, 128)               6272      \n",
            "_________________________________________________________________\n",
            "batch_normalization_6 (Batch (None, 128)               512       \n",
            "_________________________________________________________________\n",
            "dense_8 (Dense)              (None, 64)                8256      \n",
            "_________________________________________________________________\n",
            "batch_normalization_7 (Batch (None, 64)                256       \n",
            "_________________________________________________________________\n",
            "dense_9 (Dense)              (None, 16)                1040      \n",
            "_________________________________________________________________\n",
            "batch_normalization_8 (Batch (None, 16)                64        \n",
            "_________________________________________________________________\n",
            "dense_10 (Dense)             (None, 6)                 102       \n",
            "=================================================================\n",
            "Total params: 17,894\n",
            "Trainable params: 17,382\n",
            "Non-trainable params: 512\n",
            "_________________________________________________________________\n"
          ],
          "name": "stdout"
        }
      ]
    },
    {
      "cell_type": "code",
      "metadata": {
        "id": "VT5O_CdcbJ0R",
        "outputId": "1c918db6-ffdf-4a68-ff7b-fdc019990535",
        "colab": {
          "base_uri": "https://localhost:8080/",
          "height": 51
        }
      },
      "source": [
        "#Evaluate on a test set\n",
        "test_loss, test_acc = model.evaluate(X_test,Y_test, verbose=2)\n",
        "\n",
        "print('\\nTest accuracy:', test_acc)"
      ],
      "execution_count": 32,
      "outputs": [
        {
          "output_type": "stream",
          "text": [
            "\n",
            "Test accuracy: 1.0\n"
          ],
          "name": "stdout"
        }
      ]
    },
    {
      "cell_type": "code",
      "metadata": {
        "id": "xuCw_ULAYZ55"
      },
      "source": [
        "# Save the trained model\n",
        "model.save('./action_recognition_mlp.h5')"
      ],
      "execution_count": 33,
      "outputs": []
    },
    {
      "cell_type": "code",
      "metadata": {
        "id": "PjTtvVQFmydw"
      },
      "source": [
        "model.predict()"
      ],
      "execution_count": null,
      "outputs": []
    },
    {
      "cell_type": "code",
      "metadata": {
        "id": "kXN0JQ6JcAnp"
      },
      "source": [
        "  history_dict = history.history\n",
        "  history_dict.keys()"
      ],
      "execution_count": null,
      "outputs": []
    },
    {
      "cell_type": "code",
      "metadata": {
        "id": "Hpv8CKUNVIGd"
      },
      "source": [
        "def plot_history(history):\n",
        "  history_dict = history.history\n",
        "  keys=list(history_dict.keys())\n",
        "  acc = history_dict['accuracy']\n",
        "  val_acc = history_dict['val_accuracy']\n",
        "  loss = history_dict['loss']\n",
        "  val_loss = history_dict['val_loss']\n",
        "\n",
        "  epochs = range(1, len(acc) + 1)\n",
        "\n",
        "  # \"bo\" is for \"blue dot\"\n",
        "  plt.plot(epochs, loss, 'r', label='Training loss')\n",
        "  # b is for \"solid blue line\"\n",
        "  plt.plot(epochs, val_loss, 'b', label='Validation loss')\n",
        "  plt.title('Training and validation loss')\n",
        "  plt.xlabel('Epochs')\n",
        "  plt.ylabel('Loss')\n",
        "  plt.legend()\n",
        "\n",
        "  plt.show()\n",
        "\n",
        "  plt.plot(epochs, acc, 'r', label='Training acc')\n",
        "  plt.plot(epochs, val_acc, 'b', label='Validation acc')\n",
        "  plt.title('Training and validation accuracy')\n",
        "  plt.xlabel('Epochs')\n",
        "  plt.ylabel('Accuracy')\n",
        "  plt.legend(loc='lower right')\n",
        "\n",
        "  plt.show()\n",
        "\n",
        "\n",
        "\n"
      ],
      "execution_count": null,
      "outputs": []
    },
    {
      "cell_type": "code",
      "metadata": {
        "id": "rhzuNHqab3wi"
      },
      "source": [
        "plot_history(history)"
      ],
      "execution_count": null,
      "outputs": []
    },
    {
      "cell_type": "code",
      "metadata": {
        "id": "n78HaWZYb5gC"
      },
      "source": [
        ""
      ],
      "execution_count": null,
      "outputs": []
    }
  ]
}