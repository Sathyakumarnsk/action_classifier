{
  "nbformat": 4,
  "nbformat_minor": 0,
  "metadata": {
    "colab": {
      "name": "mlp_trainer.ipynb",
      "provenance": [],
      "collapsed_sections": [],
      "authorship_tag": "ABX9TyPleFf5UQ2zfEG/j9gvCyRU",
      "include_colab_link": true
    },
    "kernelspec": {
      "name": "python3",
      "display_name": "Python 3"
    },
    "accelerator": "GPU"
  },
  "cells": [
    {
      "cell_type": "markdown",
      "metadata": {
        "id": "view-in-github",
        "colab_type": "text"
      },
      "source": [
        "<a href=\"https://colab.research.google.com/github/Sathyakumarnsk/action_classifier/blob/master/mlp_trainer.ipynb\" target=\"_parent\"><img src=\"https://colab.research.google.com/assets/colab-badge.svg\" alt=\"Open In Colab\"/></a>"
      ]
    },
    {
      "cell_type": "code",
      "metadata": {
        "id": "lgH5zH0fx94p",
        "outputId": "d764ed3f-42ca-4533-95e6-8ee0c375ace9",
        "colab": {
          "base_uri": "https://localhost:8080/",
          "height": 51
        }
      },
      "source": [
        "%tensorflow_version 1.x\n",
        "import json\n",
        "import numpy as np\n",
        "#from sklearn.model_selection import train_test_split\n",
        "import tensorflow.keras as keras\n",
        "import matplotlib.pyplot as plt\n",
        "\n",
        "from tensorflow.keras.utils import to_categorical\n",
        "from keras.models import Sequential\n",
        "from keras.layers import Dense,Input\n",
        "from keras.layers.normalization import BatchNormalization\n",
        "from tensorflow.keras import regularizers\n",
        "from keras.optimizers import Adam, SGD\n",
        "from keras.layers import LeakyReLU"
      ],
      "execution_count": 1,
      "outputs": [
        {
          "output_type": "stream",
          "text": [
            "TensorFlow 1.x selected.\n"
          ],
          "name": "stdout"
        },
        {
          "output_type": "stream",
          "text": [
            "Using TensorFlow backend.\n"
          ],
          "name": "stderr"
        }
      ]
    },
    {
      "cell_type": "code",
      "metadata": {
        "id": "cn9AoZvbyC_v"
      },
      "source": [
        "#Loading in data\n",
        "data_path = \"./data_humans.json\"\n",
        "#Load data\n",
        "with open(data_path, \"r\") as fp:\n",
        "    data = json.load(fp)\n",
        "\n"
      ],
      "execution_count": 2,
      "outputs": []
    },
    {
      "cell_type": "code",
      "metadata": {
        "id": "U2VXeXK-6pam"
      },
      "source": [
        "# data.keys()\n",
        "labels=data['metadata']['all labels in loaded order']\n",
        "# data['metadata'].keys()\n",
        "#data['dataperclass'].keys()"
      ],
      "execution_count": 3,
      "outputs": []
    },
    {
      "cell_type": "code",
      "metadata": {
        "id": "wiOA6eI0QAsY"
      },
      "source": [
        ""
      ],
      "execution_count": 4,
      "outputs": []
    },
    {
      "cell_type": "code",
      "metadata": {
        "id": "fxG8fQDV7lJM",
        "outputId": "1ff86884-1049-4523-f342-c8e0f6f760f3",
        "colab": {
          "base_uri": "https://localhost:8080/",
          "height": 221
        }
      },
      "source": [
        "X=list(); Y=list()\n",
        "C_x=list();C_y=list()\n",
        "for i,c in enumerate(labels):\n",
        "  print(c)\n",
        "  skel_class=data['dataperclass'][c]['skelsinfo_list']\n",
        "  #print(np.array(skel_class))\n",
        "  C_x.append(skel_class)\n",
        "  print(np.array(C_x).shape)\n",
        "  label_class=data['dataperclass'][c]['label_list']\n",
        "  C_y.append(label_class)\n",
        "  #print(len(C_y))\n",
        "  \n",
        "  X.extend(skel_class)\n",
        "  Y.extend(label_class)\n",
        "\n"
      ],
      "execution_count": 14,
      "outputs": [
        {
          "output_type": "stream",
          "text": [
            "follow\n",
            "(1, 250, 24)\n",
            "pour\n",
            "(2, 250, 24)\n",
            "pp\n",
            "(3, 250, 24)\n",
            "stand\n",
            "(4, 250, 24)\n",
            "stop\n",
            "(5, 250, 24)\n",
            "wave\n",
            "(6, 250, 24)\n"
          ],
          "name": "stdout"
        }
      ]
    },
    {
      "cell_type": "code",
      "metadata": {
        "id": "9hpYsqNDRVDW",
        "outputId": "9cf006eb-4efd-4279-ac46-d08eb0834f04",
        "colab": {
          "base_uri": "https://localhost:8080/",
          "height": 34
        }
      },
      "source": [
        "label_class[0]"
      ],
      "execution_count": 15,
      "outputs": [
        {
          "output_type": "execute_result",
          "data": {
            "text/plain": [
              "5"
            ]
          },
          "metadata": {
            "tags": []
          },
          "execution_count": 15
        }
      ]
    },
    {
      "cell_type": "code",
      "metadata": {
        "id": "yY9iU8JOTt_o",
        "outputId": "9053bbf5-f326-48b3-c1dd-beff64bf8f47",
        "colab": {
          "base_uri": "https://localhost:8080/",
          "height": 51
        }
      },
      "source": [
        "print(np.array(X).shape)\n",
        "print(np.array(Y).shape)"
      ],
      "execution_count": 6,
      "outputs": [
        {
          "output_type": "stream",
          "text": [
            "(1500, 24)\n",
            "(1500,)\n"
          ],
          "name": "stdout"
        }
      ]
    },
    {
      "cell_type": "code",
      "metadata": {
        "id": "CDAZxhMwQbf3",
        "outputId": "79b6afb4-1a20-45f1-dab9-8f1e2456428b",
        "colab": {
          "base_uri": "https://localhost:8080/",
          "height": 34
        }
      },
      "source": [
        "Y[0]"
      ],
      "execution_count": 16,
      "outputs": [
        {
          "output_type": "execute_result",
          "data": {
            "text/plain": [
              "0"
            ]
          },
          "metadata": {
            "tags": []
          },
          "execution_count": 16
        }
      ]
    },
    {
      "cell_type": "code",
      "metadata": {
        "id": "2mCS1PDSIrj8",
        "outputId": "d8922c36-4724-4187-dfc0-3ba59758a3e9",
        "colab": {
          "base_uri": "https://localhost:8080/",
          "height": 102
        }
      },
      "source": [
        "encoder_Y = to_categorical(Y)\n",
        "print(Y[0], \": \", encoder_Y[0])\n",
        "print(Y[50], \": \", encoder_Y[50])\n",
        "print(Y[100], \": \", encoder_Y[100])\n",
        "print(Y[150], \": \", encoder_Y[150])\n",
        "print(Y[200], \": \", encoder_Y[200])"
      ],
      "execution_count": 17,
      "outputs": [
        {
          "output_type": "stream",
          "text": [
            "0 :  [1. 0. 0. 0. 0. 0.]\n",
            "0 :  [1. 0. 0. 0. 0. 0.]\n",
            "0 :  [1. 0. 0. 0. 0. 0.]\n",
            "0 :  [1. 0. 0. 0. 0. 0.]\n",
            "0 :  [1. 0. 0. 0. 0. 0.]\n"
          ],
          "name": "stdout"
        }
      ]
    },
    {
      "cell_type": "code",
      "metadata": {
        "id": "MnG1UVIH9sSH"
      },
      "source": [
        "import numpy as np\n",
        "def train_test_split(X_data,Y_data,val=0.2,test=0.1):\n",
        "    X_data=np.array(X_data);Y_data=np.array(Y_data)\n",
        "    # create random train/test split\n",
        "    indices = list(range(X_data.shape[0]))\n",
        "    train_split=1.0-(val+test)\n",
        "    num_training_indices = int(train_split * X_data.shape[0])\n",
        "    num_valid_indices = int(val * X_data.shape[0])\n",
        "    #num_test_indices = int(train_split * X_data.shape[0])\n",
        "    np.random.shuffle(indices)\n",
        "    train_indices = indices[:num_training_indices]\n",
        "    valid_indices=indices[num_training_indices:num_training_indices+num_valid_indices]\n",
        "    test_indices = indices[num_training_indices+num_valid_indices:]\n",
        "\n",
        "    # split the actual data\n",
        "    X_data_train, X_data_val, X_data_test = X_data[train_indices], X_data[valid_indices], X_data[test_indices]\n",
        "    Y_data_train, Y_data_val ,Y_data_test = Y_data[train_indices], Y_data[valid_indices], Y_data[test_indices]\n",
        "    return (X_data_train, X_data_val, X_data_test, Y_data_train, Y_data_val, Y_data_test)\n"
      ],
      "execution_count": 18,
      "outputs": []
    },
    {
      "cell_type": "code",
      "metadata": {
        "id": "PKXkxDDg-fJs"
      },
      "source": [
        "X_train, X_val, X_test, Y_train, Y_val, Y_test=train_test_split(X,encoder_Y)"
      ],
      "execution_count": 24,
      "outputs": []
    },
    {
      "cell_type": "code",
      "metadata": {
        "id": "sJN_3Cebkwg4",
        "outputId": "b81fc8b0-a248-46d3-ebce-ee7e7a30f389",
        "colab": {
          "base_uri": "https://localhost:8080/",
          "height": 34
        }
      },
      "source": [
        "X_train[0].shape"
      ],
      "execution_count": 25,
      "outputs": [
        {
          "output_type": "execute_result",
          "data": {
            "text/plain": [
              "(24,)"
            ]
          },
          "metadata": {
            "tags": []
          },
          "execution_count": 25
        }
      ]
    },
    {
      "cell_type": "code",
      "metadata": {
        "id": "0CuiUPn9_GCp"
      },
      "source": [
        "# Build a simple DNN model with keras\n",
        "model = Sequential()\n",
        "#model.add(Input(shape=(24,)))\n",
        "model.add(Dense(units=48, input_shape=(24,), activation='relu',kernel_regularizer=keras.regularizers.l2(0.001)))\n",
        "model.add(BatchNormalization())\n",
        "model.add(Dense(units=128, activation='relu',kernel_regularizer=keras.regularizers.l2(0.001)))\n",
        "model.add(BatchNormalization())\n",
        "keras.layers.Dropout(0.2),\n",
        "model.add(Dense(units=64, activation='relu',kernel_regularizer=keras.regularizers.l2(0.001)))\n",
        "model.add(BatchNormalization())\n",
        "keras.layers.Dropout(0.2),\n",
        "model.add(Dense(units=16, activation='relu',kernel_regularizer=keras.regularizers.l2(0.001)))\n",
        "model.add(BatchNormalization())\n",
        "model.add(Dense(units=6, activation='softmax'))\n",
        "#model.add(Dense(units=1,))\n",
        "\n",
        "# Training\n",
        "# optimiser: Adam with learning rate 0.0001\n",
        "# loss: categorical_crossentropy for the matrix form matrix_Y\n",
        "# metrics: accuracy is evaluated for the model\n",
        "model.compile(optimizer=Adam(0.0001), loss='categorical_crossentropy', metrics=['accuracy'])\n"
      ],
      "execution_count": 26,
      "outputs": []
    },
    {
      "cell_type": "code",
      "metadata": {
        "id": "UqZAW53tiWXh",
        "outputId": "55c7aedd-6f45-47b4-8cd8-40167fb3ae56",
        "colab": {
          "base_uri": "https://localhost:8080/",
          "height": 459
        }
      },
      "source": [
        "model.summary()"
      ],
      "execution_count": 27,
      "outputs": [
        {
          "output_type": "stream",
          "text": [
            "Model: \"sequential_2\"\n",
            "_________________________________________________________________\n",
            "Layer (type)                 Output Shape              Param #   \n",
            "=================================================================\n",
            "dense_6 (Dense)              (None, 48)                1200      \n",
            "_________________________________________________________________\n",
            "batch_normalization_5 (Batch (None, 48)                192       \n",
            "_________________________________________________________________\n",
            "dense_7 (Dense)              (None, 128)               6272      \n",
            "_________________________________________________________________\n",
            "batch_normalization_6 (Batch (None, 128)               512       \n",
            "_________________________________________________________________\n",
            "dense_8 (Dense)              (None, 64)                8256      \n",
            "_________________________________________________________________\n",
            "batch_normalization_7 (Batch (None, 64)                256       \n",
            "_________________________________________________________________\n",
            "dense_9 (Dense)              (None, 16)                1040      \n",
            "_________________________________________________________________\n",
            "batch_normalization_8 (Batch (None, 16)                64        \n",
            "_________________________________________________________________\n",
            "dense_10 (Dense)             (None, 6)                 102       \n",
            "=================================================================\n",
            "Total params: 17,894\n",
            "Trainable params: 17,382\n",
            "Non-trainable params: 512\n",
            "_________________________________________________________________\n"
          ],
          "name": "stdout"
        }
      ]
    },
    {
      "cell_type": "code",
      "metadata": {
        "id": "FssR6cVxYA4i",
        "outputId": "c200b805-06fc-46dd-ebcc-3da146e6d628",
        "colab": {
          "base_uri": "https://localhost:8080/",
          "height": 1000
        }
      },
      "source": [
        "# batch_size: number of samples per gradient update\n",
        "# epochs: how many times to pass through the whole training set\n",
        "# verbose: show one line for every completed epoch\n",
        "history=model.fit(X_train, Y_train, batch_size=24, epochs=100, verbose=2, validation_data=(X_val, Y_val))\n"
      ],
      "execution_count": 28,
      "outputs": [
        {
          "output_type": "stream",
          "text": [
            "WARNING:tensorflow:From /tensorflow-1.15.2/python3.6/keras/backend/tensorflow_backend.py:422: The name tf.global_variables is deprecated. Please use tf.compat.v1.global_variables instead.\n",
            "\n",
            "Train on 1050 samples, validate on 300 samples\n",
            "Epoch 1/100\n",
            " - 3s - loss: 1.9376 - accuracy: 0.3429 - val_loss: 2.0215 - val_accuracy: 0.1700\n",
            "Epoch 2/100\n",
            " - 0s - loss: 1.2287 - accuracy: 0.6619 - val_loss: 2.0338 - val_accuracy: 0.1700\n",
            "Epoch 3/100\n",
            " - 0s - loss: 0.8978 - accuracy: 0.8562 - val_loss: 2.0376 - val_accuracy: 0.1700\n",
            "Epoch 4/100\n",
            " - 0s - loss: 0.7503 - accuracy: 0.9152 - val_loss: 2.0270 - val_accuracy: 0.1700\n",
            "Epoch 5/100\n",
            " - 0s - loss: 0.6655 - accuracy: 0.9381 - val_loss: 1.9794 - val_accuracy: 0.1700\n",
            "Epoch 6/100\n",
            " - 0s - loss: 0.6161 - accuracy: 0.9429 - val_loss: 1.8991 - val_accuracy: 0.2000\n",
            "Epoch 7/100\n",
            " - 0s - loss: 0.5624 - accuracy: 0.9476 - val_loss: 1.7917 - val_accuracy: 0.3900\n",
            "Epoch 8/100\n",
            " - 0s - loss: 0.5384 - accuracy: 0.9552 - val_loss: 1.6438 - val_accuracy: 0.5167\n",
            "Epoch 9/100\n",
            " - 0s - loss: 0.4973 - accuracy: 0.9695 - val_loss: 1.4304 - val_accuracy: 0.4967\n",
            "Epoch 10/100\n",
            " - 0s - loss: 0.4628 - accuracy: 0.9667 - val_loss: 1.2523 - val_accuracy: 0.6267\n",
            "Epoch 11/100\n",
            " - 0s - loss: 0.4675 - accuracy: 0.9590 - val_loss: 1.0650 - val_accuracy: 0.7400\n",
            "Epoch 12/100\n",
            " - 0s - loss: 0.4231 - accuracy: 0.9676 - val_loss: 0.8643 - val_accuracy: 0.8100\n",
            "Epoch 13/100\n",
            " - 0s - loss: 0.4202 - accuracy: 0.9705 - val_loss: 0.6844 - val_accuracy: 0.9700\n",
            "Epoch 14/100\n",
            " - 0s - loss: 0.3912 - accuracy: 0.9743 - val_loss: 0.5675 - val_accuracy: 0.9900\n",
            "Epoch 15/100\n",
            " - 0s - loss: 0.3753 - accuracy: 0.9733 - val_loss: 0.4683 - val_accuracy: 0.9900\n",
            "Epoch 16/100\n",
            " - 0s - loss: 0.3762 - accuracy: 0.9705 - val_loss: 0.3950 - val_accuracy: 0.9833\n",
            "Epoch 17/100\n",
            " - 0s - loss: 0.3714 - accuracy: 0.9752 - val_loss: 0.3628 - val_accuracy: 0.9833\n",
            "Epoch 18/100\n",
            " - 0s - loss: 0.3486 - accuracy: 0.9790 - val_loss: 0.3607 - val_accuracy: 0.9833\n",
            "Epoch 19/100\n",
            " - 0s - loss: 0.3461 - accuracy: 0.9771 - val_loss: 0.3373 - val_accuracy: 0.9833\n",
            "Epoch 20/100\n",
            " - 0s - loss: 0.3427 - accuracy: 0.9743 - val_loss: 0.3273 - val_accuracy: 0.9833\n",
            "Epoch 21/100\n",
            " - 0s - loss: 0.3397 - accuracy: 0.9762 - val_loss: 0.3363 - val_accuracy: 0.9833\n",
            "Epoch 22/100\n",
            " - 0s - loss: 0.3199 - accuracy: 0.9876 - val_loss: 0.3345 - val_accuracy: 0.9833\n",
            "Epoch 23/100\n",
            " - 0s - loss: 0.3153 - accuracy: 0.9810 - val_loss: 0.3176 - val_accuracy: 0.9833\n",
            "Epoch 24/100\n",
            " - 0s - loss: 0.3069 - accuracy: 0.9867 - val_loss: 0.3122 - val_accuracy: 0.9833\n",
            "Epoch 25/100\n",
            " - 0s - loss: 0.3157 - accuracy: 0.9800 - val_loss: 0.3075 - val_accuracy: 0.9833\n",
            "Epoch 26/100\n",
            " - 0s - loss: 0.3099 - accuracy: 0.9819 - val_loss: 0.2868 - val_accuracy: 0.9833\n",
            "Epoch 27/100\n",
            " - 0s - loss: 0.3013 - accuracy: 0.9819 - val_loss: 0.3633 - val_accuracy: 0.9733\n",
            "Epoch 28/100\n",
            " - 0s - loss: 0.3151 - accuracy: 0.9743 - val_loss: 0.2895 - val_accuracy: 0.9800\n",
            "Epoch 29/100\n",
            " - 0s - loss: 0.3015 - accuracy: 0.9800 - val_loss: 0.2936 - val_accuracy: 0.9800\n",
            "Epoch 30/100\n",
            " - 0s - loss: 0.2874 - accuracy: 0.9867 - val_loss: 0.3019 - val_accuracy: 0.9833\n",
            "Epoch 31/100\n",
            " - 0s - loss: 0.2804 - accuracy: 0.9857 - val_loss: 0.2945 - val_accuracy: 0.9833\n",
            "Epoch 32/100\n",
            " - 0s - loss: 0.2743 - accuracy: 0.9857 - val_loss: 0.2724 - val_accuracy: 0.9833\n",
            "Epoch 33/100\n",
            " - 0s - loss: 0.2751 - accuracy: 0.9876 - val_loss: 0.2702 - val_accuracy: 0.9833\n",
            "Epoch 34/100\n",
            " - 0s - loss: 0.2741 - accuracy: 0.9886 - val_loss: 0.2629 - val_accuracy: 0.9867\n",
            "Epoch 35/100\n",
            " - 0s - loss: 0.2678 - accuracy: 0.9848 - val_loss: 0.2634 - val_accuracy: 0.9900\n",
            "Epoch 36/100\n",
            " - 0s - loss: 0.2718 - accuracy: 0.9848 - val_loss: 0.2655 - val_accuracy: 0.9900\n",
            "Epoch 37/100\n",
            " - 0s - loss: 0.2641 - accuracy: 0.9914 - val_loss: 0.2592 - val_accuracy: 0.9867\n",
            "Epoch 38/100\n",
            " - 0s - loss: 0.2561 - accuracy: 0.9924 - val_loss: 0.2540 - val_accuracy: 0.9933\n",
            "Epoch 39/100\n",
            " - 0s - loss: 0.2704 - accuracy: 0.9838 - val_loss: 0.2694 - val_accuracy: 0.9833\n",
            "Epoch 40/100\n",
            " - 0s - loss: 0.2709 - accuracy: 0.9838 - val_loss: 0.3119 - val_accuracy: 0.9867\n",
            "Epoch 41/100\n",
            " - 0s - loss: 0.2527 - accuracy: 0.9905 - val_loss: 0.2584 - val_accuracy: 0.9900\n",
            "Epoch 42/100\n",
            " - 0s - loss: 0.2596 - accuracy: 0.9895 - val_loss: 0.2678 - val_accuracy: 0.9800\n",
            "Epoch 43/100\n",
            " - 0s - loss: 0.2572 - accuracy: 0.9895 - val_loss: 0.2799 - val_accuracy: 0.9833\n",
            "Epoch 44/100\n",
            " - 0s - loss: 0.2463 - accuracy: 0.9905 - val_loss: 0.2613 - val_accuracy: 0.9867\n",
            "Epoch 45/100\n",
            " - 0s - loss: 0.2439 - accuracy: 0.9895 - val_loss: 0.2497 - val_accuracy: 0.9867\n",
            "Epoch 46/100\n",
            " - 0s - loss: 0.2473 - accuracy: 0.9886 - val_loss: 0.2476 - val_accuracy: 0.9833\n",
            "Epoch 47/100\n",
            " - 0s - loss: 0.2337 - accuracy: 0.9924 - val_loss: 0.2617 - val_accuracy: 0.9867\n",
            "Epoch 48/100\n",
            " - 0s - loss: 0.2438 - accuracy: 0.9933 - val_loss: 0.2491 - val_accuracy: 0.9833\n",
            "Epoch 49/100\n",
            " - 0s - loss: 0.2344 - accuracy: 0.9924 - val_loss: 0.2776 - val_accuracy: 0.9900\n",
            "Epoch 50/100\n",
            " - 0s - loss: 0.2416 - accuracy: 0.9924 - val_loss: 0.2822 - val_accuracy: 0.9767\n",
            "Epoch 51/100\n",
            " - 0s - loss: 0.2299 - accuracy: 0.9914 - val_loss: 0.3600 - val_accuracy: 0.9233\n",
            "Epoch 52/100\n",
            " - 0s - loss: 0.2320 - accuracy: 0.9895 - val_loss: 0.2839 - val_accuracy: 0.9800\n",
            "Epoch 53/100\n",
            " - 0s - loss: 0.2358 - accuracy: 0.9895 - val_loss: 0.2562 - val_accuracy: 0.9867\n",
            "Epoch 54/100\n",
            " - 0s - loss: 0.2268 - accuracy: 0.9943 - val_loss: 0.2443 - val_accuracy: 0.9900\n",
            "Epoch 55/100\n",
            " - 0s - loss: 0.2307 - accuracy: 0.9914 - val_loss: 0.2517 - val_accuracy: 0.9933\n",
            "Epoch 56/100\n",
            " - 0s - loss: 0.2239 - accuracy: 0.9914 - val_loss: 0.2599 - val_accuracy: 0.9867\n",
            "Epoch 57/100\n",
            " - 0s - loss: 0.2186 - accuracy: 0.9952 - val_loss: 0.2489 - val_accuracy: 0.9833\n",
            "Epoch 58/100\n",
            " - 0s - loss: 0.2321 - accuracy: 0.9933 - val_loss: 0.2389 - val_accuracy: 0.9933\n",
            "Epoch 59/100\n",
            " - 0s - loss: 0.2183 - accuracy: 0.9924 - val_loss: 0.2375 - val_accuracy: 0.9933\n",
            "Epoch 60/100\n",
            " - 0s - loss: 0.2175 - accuracy: 0.9962 - val_loss: 0.2389 - val_accuracy: 0.9933\n",
            "Epoch 61/100\n",
            " - 0s - loss: 0.2102 - accuracy: 0.9971 - val_loss: 0.2484 - val_accuracy: 0.9833\n",
            "Epoch 62/100\n",
            " - 0s - loss: 0.2339 - accuracy: 0.9876 - val_loss: 0.2418 - val_accuracy: 0.9933\n",
            "Epoch 63/100\n",
            " - 0s - loss: 0.2144 - accuracy: 0.9943 - val_loss: 0.2505 - val_accuracy: 0.9900\n",
            "Epoch 64/100\n",
            " - 0s - loss: 0.2134 - accuracy: 0.9924 - val_loss: 0.2826 - val_accuracy: 0.9767\n",
            "Epoch 65/100\n",
            " - 0s - loss: 0.2107 - accuracy: 0.9943 - val_loss: 0.2713 - val_accuracy: 0.9800\n",
            "Epoch 66/100\n",
            " - 0s - loss: 0.2165 - accuracy: 0.9933 - val_loss: 0.2757 - val_accuracy: 0.9733\n",
            "Epoch 67/100\n",
            " - 0s - loss: 0.2244 - accuracy: 0.9895 - val_loss: 0.3178 - val_accuracy: 0.9433\n",
            "Epoch 68/100\n",
            " - 0s - loss: 0.2086 - accuracy: 0.9952 - val_loss: 0.3613 - val_accuracy: 0.9067\n",
            "Epoch 69/100\n",
            " - 0s - loss: 0.2031 - accuracy: 0.9981 - val_loss: 0.4927 - val_accuracy: 0.8500\n",
            "Epoch 70/100\n",
            " - 0s - loss: 0.1995 - accuracy: 0.9971 - val_loss: 0.2974 - val_accuracy: 0.9600\n",
            "Epoch 71/100\n",
            " - 0s - loss: 0.2079 - accuracy: 0.9933 - val_loss: 0.2504 - val_accuracy: 0.9800\n",
            "Epoch 72/100\n",
            " - 0s - loss: 0.2034 - accuracy: 0.9933 - val_loss: 0.2305 - val_accuracy: 0.9900\n",
            "Epoch 73/100\n",
            " - 0s - loss: 0.1999 - accuracy: 0.9990 - val_loss: 0.2387 - val_accuracy: 0.9800\n",
            "Epoch 74/100\n",
            " - 0s - loss: 0.1971 - accuracy: 0.9952 - val_loss: 0.2415 - val_accuracy: 0.9867\n",
            "Epoch 75/100\n",
            " - 0s - loss: 0.1997 - accuracy: 0.9971 - val_loss: 0.2505 - val_accuracy: 0.9800\n",
            "Epoch 76/100\n",
            " - 0s - loss: 0.2024 - accuracy: 0.9943 - val_loss: 0.2168 - val_accuracy: 0.9933\n",
            "Epoch 77/100\n",
            " - 0s - loss: 0.1991 - accuracy: 0.9962 - val_loss: 0.2190 - val_accuracy: 0.9933\n",
            "Epoch 78/100\n",
            " - 0s - loss: 0.2021 - accuracy: 0.9943 - val_loss: 0.2471 - val_accuracy: 0.9800\n",
            "Epoch 79/100\n",
            " - 0s - loss: 0.2119 - accuracy: 0.9933 - val_loss: 0.2504 - val_accuracy: 0.9800\n",
            "Epoch 80/100\n",
            " - 0s - loss: 0.1892 - accuracy: 0.9990 - val_loss: 0.2206 - val_accuracy: 0.9833\n",
            "Epoch 81/100\n",
            " - 0s - loss: 0.1999 - accuracy: 0.9933 - val_loss: 0.2412 - val_accuracy: 0.9800\n",
            "Epoch 82/100\n",
            " - 0s - loss: 0.1912 - accuracy: 0.9971 - val_loss: 0.2470 - val_accuracy: 0.9800\n",
            "Epoch 83/100\n",
            " - 0s - loss: 0.1930 - accuracy: 0.9971 - val_loss: 0.2995 - val_accuracy: 0.9467\n",
            "Epoch 84/100\n",
            " - 0s - loss: 0.1879 - accuracy: 0.9962 - val_loss: 0.2236 - val_accuracy: 0.9867\n",
            "Epoch 85/100\n",
            " - 0s - loss: 0.1957 - accuracy: 0.9933 - val_loss: 0.2119 - val_accuracy: 0.9933\n",
            "Epoch 86/100\n",
            " - 0s - loss: 0.1840 - accuracy: 0.9990 - val_loss: 0.2088 - val_accuracy: 0.9933\n",
            "Epoch 87/100\n",
            " - 0s - loss: 0.1842 - accuracy: 0.9990 - val_loss: 0.2116 - val_accuracy: 0.9867\n",
            "Epoch 88/100\n",
            " - 0s - loss: 0.1862 - accuracy: 0.9933 - val_loss: 0.2197 - val_accuracy: 0.9933\n",
            "Epoch 89/100\n",
            " - 0s - loss: 0.1855 - accuracy: 0.9971 - val_loss: 0.2114 - val_accuracy: 0.9833\n",
            "Epoch 90/100\n",
            " - 0s - loss: 0.1860 - accuracy: 0.9962 - val_loss: 0.2109 - val_accuracy: 0.9867\n",
            "Epoch 91/100\n",
            " - 0s - loss: 0.1827 - accuracy: 0.9962 - val_loss: 0.2088 - val_accuracy: 0.9933\n",
            "Epoch 92/100\n",
            " - 0s - loss: 0.1975 - accuracy: 0.9952 - val_loss: 0.2025 - val_accuracy: 0.9933\n",
            "Epoch 93/100\n",
            " - 0s - loss: 0.1795 - accuracy: 0.9971 - val_loss: 0.2001 - val_accuracy: 0.9933\n",
            "Epoch 94/100\n",
            " - 0s - loss: 0.1828 - accuracy: 0.9981 - val_loss: 0.2040 - val_accuracy: 0.9933\n",
            "Epoch 95/100\n",
            " - 0s - loss: 0.1797 - accuracy: 0.9981 - val_loss: 0.2189 - val_accuracy: 0.9867\n",
            "Epoch 96/100\n",
            " - 0s - loss: 0.1850 - accuracy: 0.9981 - val_loss: 0.3031 - val_accuracy: 0.9500\n",
            "Epoch 97/100\n",
            " - 0s - loss: 0.1862 - accuracy: 0.9933 - val_loss: 0.2333 - val_accuracy: 0.9767\n",
            "Epoch 98/100\n",
            " - 0s - loss: 0.1821 - accuracy: 0.9952 - val_loss: 0.2731 - val_accuracy: 0.9567\n",
            "Epoch 99/100\n",
            " - 0s - loss: 0.1764 - accuracy: 0.9981 - val_loss: 0.2103 - val_accuracy: 0.9933\n",
            "Epoch 100/100\n",
            " - 0s - loss: 0.1764 - accuracy: 0.9971 - val_loss: 0.2531 - val_accuracy: 0.9733\n"
          ],
          "name": "stdout"
        }
      ]
    },
    {
      "cell_type": "code",
      "metadata": {
        "id": "VT5O_CdcbJ0R",
        "outputId": "637149ca-4af5-4ac6-be47-defc5f2ef613",
        "colab": {
          "base_uri": "https://localhost:8080/",
          "height": 51
        }
      },
      "source": [
        "#Evaluate on a test set\n",
        "test_loss, test_acc = model.evaluate(X_test,Y_test, verbose=2)\n",
        "\n",
        "print('\\nTest accuracy:', test_acc)"
      ],
      "execution_count": 30,
      "outputs": [
        {
          "output_type": "stream",
          "text": [
            "\n",
            "Test accuracy: 0.9866666793823242\n"
          ],
          "name": "stdout"
        }
      ]
    },
    {
      "cell_type": "code",
      "metadata": {
        "id": "xuCw_ULAYZ55"
      },
      "source": [
        "# Save the trained model\n",
        "model.save('./action_recognition_mlp.h5')"
      ],
      "execution_count": 31,
      "outputs": []
    },
    {
      "cell_type": "code",
      "metadata": {
        "id": "kXN0JQ6JcAnp",
        "outputId": "8e3f9713-bc4a-4ee8-a521-e7e5e1198ded",
        "colab": {
          "base_uri": "https://localhost:8080/",
          "height": 34
        }
      },
      "source": [
        "  history_dict = history.history\n",
        "  history_dict.keys()"
      ],
      "execution_count": 33,
      "outputs": [
        {
          "output_type": "execute_result",
          "data": {
            "text/plain": [
              "dict_keys(['val_loss', 'val_accuracy', 'loss', 'accuracy'])"
            ]
          },
          "metadata": {
            "tags": []
          },
          "execution_count": 33
        }
      ]
    },
    {
      "cell_type": "code",
      "metadata": {
        "id": "Hpv8CKUNVIGd"
      },
      "source": [
        "def plot_history(history):\n",
        "  history_dict = history.history\n",
        "  keys=list(history_dict.keys())\n",
        "  acc = history_dict['accuracy']\n",
        "  val_acc = history_dict['val_accuracy']\n",
        "  loss = history_dict['loss']\n",
        "  val_loss = history_dict['val_loss']\n",
        "\n",
        "  epochs = range(1, len(acc) + 1)\n",
        "\n",
        "  # \"bo\" is for \"blue dot\"\n",
        "  plt.plot(epochs, loss, 'r', label='Training loss')\n",
        "  # b is for \"solid blue line\"\n",
        "  plt.plot(epochs, val_loss, 'b', label='Validation loss')\n",
        "  plt.title('Training and validation loss')\n",
        "  plt.xlabel('Epochs')\n",
        "  plt.ylabel('Loss')\n",
        "  plt.legend()\n",
        "\n",
        "  plt.show()\n",
        "\n",
        "  plt.plot(epochs, acc, 'r', label='Training acc')\n",
        "  plt.plot(epochs, val_acc, 'b', label='Validation acc')\n",
        "  plt.title('Training and validation accuracy')\n",
        "  plt.xlabel('Epochs')\n",
        "  plt.ylabel('Accuracy')\n",
        "  plt.legend(loc='lower right')\n",
        "\n",
        "  plt.show()\n",
        "\n",
        "\n",
        "\n"
      ],
      "execution_count": 34,
      "outputs": []
    },
    {
      "cell_type": "code",
      "metadata": {
        "id": "rhzuNHqab3wi",
        "outputId": "8ff8de41-43f6-42c8-a6dc-ed83aaf916f0",
        "colab": {
          "base_uri": "https://localhost:8080/",
          "height": 573
        }
      },
      "source": [
        "plot_history(history)"
      ],
      "execution_count": 35,
      "outputs": [
        {
          "output_type": "display_data",
          "data": {
            "image/png": "[encoded data removed]",
            "text/plain": [
              "<Figure size 432x288 with 1 Axes>"
            ]
          },
          "metadata": {
            "tags": [],
            "needs_background": "light"
          }
        },
        {
          "output_type": "display_data",
          "data": {
            "image/png": "[encoded data removed]",
            "text/plain": [
              "<Figure size 432x288 with 1 Axes>"
            ]
          },
          "metadata": {
            "tags": [],
            "needs_background": "light"
          }
        }
      ]
    },
    {
      "cell_type": "code",
      "metadata": {
        "id": "n78HaWZYb5gC"
      },
      "source": [
        ""
      ],
      "execution_count": null,
      "outputs": []
    }
  ]
}