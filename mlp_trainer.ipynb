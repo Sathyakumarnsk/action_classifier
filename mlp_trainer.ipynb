{
  "nbformat": 4,
  "nbformat_minor": 0,
  "metadata": {
    "colab": {
      "name": "mlp_trainer.ipynb",
      "provenance": [],
      "collapsed_sections": [],
      "authorship_tag": "ABX9TyNhYBBaBHgYBKgObmDkW9Uw",
      "include_colab_link": true
    },
    "kernelspec": {
      "name": "python3",
      "display_name": "Python 3"
    }
  },
  "cells": [
    {
      "cell_type": "markdown",
      "metadata": {
        "id": "view-in-github",
        "colab_type": "text"
      },
      "source": [
        "<a href=\"https://colab.research.google.com/github/Sathyakumarnsk/action_classifier/blob/master/mlp_trainer.ipynb\" target=\"_parent\"><img src=\"https://colab.research.google.com/assets/colab-badge.svg\" alt=\"Open In Colab\"/></a>"
      ]
    },
    {
      "cell_type": "code",
      "metadata": {
        "id": "lgH5zH0fx94p"
      },
      "source": [
        "%tensorflow_version 1.x\n",
        "import json\n",
        "import numpy as np\n",
        "#from sklearn.model_selection import train_test_split\n",
        "import tensorflow.keras as keras\n",
        "import matplotlib.pyplot as plt\n",
        "\n",
        "from tensorflow.keras.utils import to_categorical\n",
        "from keras.models import Sequential\n",
        "from keras.layers import Dense\n",
        "from keras.layers.normalization import BatchNormalization\n",
        "from tensorflow.keras import regularizers\n",
        "from keras.optimizers import Adam, SGD\n",
        "from keras.layers import LeakyReLU"
      ],
      "execution_count": 213,
      "outputs": []
    },
    {
      "cell_type": "code",
      "metadata": {
        "id": "cn9AoZvbyC_v"
      },
      "source": [
        "#Loading in data\n",
        "data_path = \"./data_500_mini.json\"\n",
        "#Load data\n",
        "with open(data_path, \"r\") as fp:\n",
        "    data = json.load(fp)\n",
        "\n"
      ],
      "execution_count": 183,
      "outputs": []
    },
    {
      "cell_type": "code",
      "metadata": {
        "id": "U2VXeXK-6pam",
        "outputId": "5725912a-fc51-466e-f971-7a79adfed8bb",
        "colab": {
          "base_uri": "https://localhost:8080/",
          "height": 34
        }
      },
      "source": [
        "# data.keys()\n",
        "# labels=data['metadata']['all labels in loaded order']\n",
        "# data['metadata'].keys()\n",
        "#data['dataperclass'].keys()"
      ],
      "execution_count": 21,
      "outputs": [
        {
          "output_type": "execute_result",
          "data": {
            "text/plain": [
              "dict_keys(['all labels in loaded order', 'total_files in classes', 'skel_error'])"
            ]
          },
          "metadata": {
            "tags": []
          },
          "execution_count": 21
        }
      ]
    },
    {
      "cell_type": "code",
      "metadata": {
        "id": "fxG8fQDV7lJM"
      },
      "source": [
        "X=list(); Y=list()\n",
        "C_x=list();C_y=list()\n",
        "for i,c in enumerate(labels):\n",
        "  print(c)\n",
        "  skel_class=data['dataperclass'][c]['skelsinfo_list']\n",
        "  #print(np.array(skel_class))\n",
        "  C_x.append(skel_class)\n",
        "  print(np.array(C_x).shape)\n",
        "  label_class=data['dataperclass'][c]['label_list']\n",
        "  C_y.append(label_class)\n",
        "  #print(len(C_y))\n",
        "  X.extend(skel_class)\n",
        "  Y.extend(label_class)\n",
        "\n"
      ],
      "execution_count": null,
      "outputs": []
    },
    {
      "cell_type": "code",
      "metadata": {
        "id": "yY9iU8JOTt_o",
        "outputId": "88216e0f-742d-4ca9-cb6c-efd49a3c6332",
        "colab": {
          "base_uri": "https://localhost:8080/",
          "height": 34
        }
      },
      "source": [
        "np.array(X).shape\n",
        "np.array(Y).shape"
      ],
      "execution_count": 192,
      "outputs": [
        {
          "output_type": "execute_result",
          "data": {
            "text/plain": [
              "(300,)"
            ]
          },
          "metadata": {
            "tags": []
          },
          "execution_count": 192
        }
      ]
    },
    {
      "cell_type": "code",
      "metadata": {
        "id": "H_XEFxSGJKmY",
        "outputId": "fa278069-e318-411b-b462-01a18636ce98",
        "colab": {
          "base_uri": "https://localhost:8080/",
          "height": 34
        }
      },
      "source": [
        "mapping={l:i for i,l in enumerate(labels)}\n",
        "print(mapping)\n",
        "labels=[]\n",
        "for y in Y:\n",
        "  labels.append(mapping[y])"
      ],
      "execution_count": 129,
      "outputs": [
        {
          "output_type": "stream",
          "text": [
            "{'follow': 0, 'pour': 1, 'pp': 2, 'stand': 3, 'stop': 4, 'wave': 5}\n"
          ],
          "name": "stdout"
        }
      ]
    },
    {
      "cell_type": "code",
      "metadata": {
        "id": "2mCS1PDSIrj8",
        "outputId": "bfe87aa5-c639-45d1-99ac-4b79085ba77e",
        "colab": {
          "base_uri": "https://localhost:8080/",
          "height": 102
        }
      },
      "source": [
        "encoder_Y = to_categorical(labels)\n",
        "print(Y[0], \": \", encoder_Y[0])\n",
        "print(Y[50], \": \", encoder_Y[50])\n",
        "print(Y[100], \": \", encoder_Y[100])\n",
        "print(Y[150], \": \", encoder_Y[150])\n",
        "print(Y[200], \": \", encoder_Y[200])"
      ],
      "execution_count": 205,
      "outputs": [
        {
          "output_type": "stream",
          "text": [
            "follow :  [1. 0. 0. 0. 0. 0.]\n",
            "pour :  [0. 1. 0. 0. 0. 0.]\n",
            "pp :  [0. 0. 1. 0. 0. 0.]\n",
            "stand :  [0. 0. 0. 1. 0. 0.]\n",
            "stop :  [0. 0. 0. 0. 1. 0.]\n"
          ],
          "name": "stdout"
        }
      ]
    },
    {
      "cell_type": "code",
      "metadata": {
        "id": "MnG1UVIH9sSH"
      },
      "source": [
        "import numpy as np\n",
        "def train_test_split(X_data,Y_data,val=0.2,test=0.1):\n",
        "    X_data=np.array(X_data);Y_data=np.array(Y_data)\n",
        "    # create random train/test split\n",
        "    indices = list(range(X_data.shape[0]))\n",
        "    train_split=1.0-(val+test)\n",
        "    num_training_indices = int(train_split * X_data.shape[0])\n",
        "    num_valid_indices = int(val * X_data.shape[0])\n",
        "    #num_test_indices = int(train_split * X_data.shape[0])\n",
        "    np.random.shuffle(indices)\n",
        "    train_indices = indices[:num_training_indices]\n",
        "    valid_indices=indices[num_training_indices:num_training_indices+num_valid_indices]\n",
        "    test_indices = indices[num_training_indices+num_valid_indices:]\n",
        "\n",
        "    # split the actual data\n",
        "    X_data_train, X_data_val, X_data_test = X_data[train_indices], X_data[valid_indices], X_data[test_indices]\n",
        "    Y_data_train, Y_data_val ,Y_data_test = Y_data[train_indices], Y_data[valid_indices], Y_data[test_indices]\n",
        "    return (X_data_train, X_data_val, X_data_test, Y_data_train, Y_data_val, Y_data_test)\n"
      ],
      "execution_count": 79,
      "outputs": []
    },
    {
      "cell_type": "code",
      "metadata": {
        "id": "PKXkxDDg-fJs"
      },
      "source": [
        "X_train, X_val, X_test, Y_train, Y_val, Y_test=train_test_split(X,encoder_Y)"
      ],
      "execution_count": 206,
      "outputs": []
    },
    {
      "cell_type": "code",
      "metadata": {
        "id": "O60ZzjD6ZuMa",
        "outputId": "5e16718b-c951-4eb1-8e08-5e45ba60c6fe",
        "colab": {
          "base_uri": "https://localhost:8080/",
          "height": 34
        }
      },
      "source": [
        ""
      ],
      "execution_count": 212,
      "outputs": [
        {
          "output_type": "execute_result",
          "data": {
            "text/plain": [
              "(24,)"
            ]
          },
          "metadata": {
            "tags": []
          },
          "execution_count": 212
        }
      ]
    },
    {
      "cell_type": "code",
      "metadata": {
        "id": "0CuiUPn9_GCp"
      },
      "source": [
        "# Build a simple DNN model with keras\n",
        "model = Sequential()\n",
        "model.add(Dense(units=48, activation='relu',kernel_regularizer=keras.regularizers.l2(0.001)))\n",
        "model.add(BatchNormalization())\n",
        "model.add(Dense(units=128, activation='relu',kernel_regularizer=keras.regularizers.l2(0.001)))\n",
        "model.add(BatchNormalization())\n",
        "keras.layers.Dropout(0.2),\n",
        "model.add(Dense(units=64, activation='relu',kernel_regularizer=keras.regularizers.l2(0.001)))\n",
        "model.add(BatchNormalization())\n",
        "keras.layers.Dropout(0.2),\n",
        "model.add(Dense(units=16, activation='relu',kernel_regularizer=keras.regularizers.l2(0.001)))\n",
        "model.add(BatchNormalization())\n",
        "model.add(Dense(units=6, activation='softmax'))\n",
        "#model.add(Dense(units=1,))\n",
        "\n",
        "# Training\n",
        "# optimiser: Adam with learning rate 0.0001\n",
        "# loss: categorical_crossentropy for the matrix form matrix_Y\n",
        "# metrics: accuracy is evaluated for the model\n",
        "model.compile(optimizer=Adam(0.0001), loss='categorical_crossentropy', metrics=['accuracy'])\n"
      ],
      "execution_count": 218,
      "outputs": []
    },
    {
      "cell_type": "code",
      "metadata": {
        "id": "FssR6cVxYA4i",
        "outputId": "a8b1ca4e-7520-41cf-caec-b6394aa8ba33",
        "colab": {
          "base_uri": "https://localhost:8080/",
          "height": 1000
        }
      },
      "source": [
        "# batch_size: number of samples per gradient update\n",
        "# epochs: how many times to pass through the whole training set\n",
        "# verbose: show one line for every completed epoch\n",
        "history=model.fit(X_train, Y_train, batch_size=24, epochs=100, verbose=2, validation_data=(X_val, Y_val))\n"
      ],
      "execution_count": 243,
      "outputs": [
        {
          "output_type": "stream",
          "text": [
            "Train on 210 samples, validate on 60 samples\n",
            "Epoch 1/100\n",
            " - 0s - loss: 0.2166 - accuracy: 1.0000 - val_loss: 0.2172 - val_accuracy: 1.0000\n",
            "Epoch 2/100\n",
            " - 0s - loss: 0.2113 - accuracy: 1.0000 - val_loss: 0.2164 - val_accuracy: 1.0000\n",
            "Epoch 3/100\n",
            " - 0s - loss: 0.2134 - accuracy: 1.0000 - val_loss: 0.2155 - val_accuracy: 1.0000\n",
            "Epoch 4/100\n",
            " - 0s - loss: 0.2122 - accuracy: 1.0000 - val_loss: 0.2145 - val_accuracy: 1.0000\n",
            "Epoch 5/100\n",
            " - 0s - loss: 0.2098 - accuracy: 1.0000 - val_loss: 0.2137 - val_accuracy: 1.0000\n",
            "Epoch 6/100\n",
            " - 0s - loss: 0.2107 - accuracy: 1.0000 - val_loss: 0.2129 - val_accuracy: 1.0000\n",
            "Epoch 7/100\n",
            " - 0s - loss: 0.2128 - accuracy: 1.0000 - val_loss: 0.2120 - val_accuracy: 1.0000\n",
            "Epoch 8/100\n",
            " - 0s - loss: 0.2123 - accuracy: 1.0000 - val_loss: 0.2113 - val_accuracy: 1.0000\n",
            "Epoch 9/100\n",
            " - 0s - loss: 0.2117 - accuracy: 1.0000 - val_loss: 0.2105 - val_accuracy: 1.0000\n",
            "Epoch 10/100\n",
            " - 0s - loss: 0.2150 - accuracy: 1.0000 - val_loss: 0.2098 - val_accuracy: 1.0000\n",
            "Epoch 11/100\n",
            " - 0s - loss: 0.2115 - accuracy: 1.0000 - val_loss: 0.2091 - val_accuracy: 1.0000\n",
            "Epoch 12/100\n",
            " - 0s - loss: 0.2118 - accuracy: 1.0000 - val_loss: 0.2082 - val_accuracy: 1.0000\n",
            "Epoch 13/100\n",
            " - 0s - loss: 0.2113 - accuracy: 1.0000 - val_loss: 0.2076 - val_accuracy: 1.0000\n",
            "Epoch 14/100\n",
            " - 0s - loss: 0.2067 - accuracy: 1.0000 - val_loss: 0.2071 - val_accuracy: 1.0000\n",
            "Epoch 15/100\n",
            " - 0s - loss: 0.2058 - accuracy: 1.0000 - val_loss: 0.2069 - val_accuracy: 1.0000\n",
            "Epoch 16/100\n",
            " - 0s - loss: 0.2066 - accuracy: 1.0000 - val_loss: 0.2067 - val_accuracy: 1.0000\n",
            "Epoch 17/100\n",
            " - 0s - loss: 0.2102 - accuracy: 1.0000 - val_loss: 0.2061 - val_accuracy: 1.0000\n",
            "Epoch 18/100\n",
            " - 0s - loss: 0.2077 - accuracy: 1.0000 - val_loss: 0.2058 - val_accuracy: 1.0000\n",
            "Epoch 19/100\n",
            " - 0s - loss: 0.2070 - accuracy: 1.0000 - val_loss: 0.2054 - val_accuracy: 1.0000\n",
            "Epoch 20/100\n",
            " - 0s - loss: 0.2120 - accuracy: 1.0000 - val_loss: 0.2049 - val_accuracy: 1.0000\n",
            "Epoch 21/100\n",
            " - 0s - loss: 0.2015 - accuracy: 1.0000 - val_loss: 0.2050 - val_accuracy: 1.0000\n",
            "Epoch 22/100\n",
            " - 0s - loss: 0.2109 - accuracy: 1.0000 - val_loss: 0.2048 - val_accuracy: 1.0000\n",
            "Epoch 23/100\n",
            " - 0s - loss: 0.2048 - accuracy: 1.0000 - val_loss: 0.2043 - val_accuracy: 1.0000\n",
            "Epoch 24/100\n",
            " - 0s - loss: 0.2097 - accuracy: 1.0000 - val_loss: 0.2036 - val_accuracy: 1.0000\n",
            "Epoch 25/100\n",
            " - 0s - loss: 0.2024 - accuracy: 1.0000 - val_loss: 0.2032 - val_accuracy: 1.0000\n",
            "Epoch 26/100\n",
            " - 0s - loss: 0.2073 - accuracy: 1.0000 - val_loss: 0.2029 - val_accuracy: 1.0000\n",
            "Epoch 27/100\n",
            " - 0s - loss: 0.2018 - accuracy: 1.0000 - val_loss: 0.2026 - val_accuracy: 1.0000\n",
            "Epoch 28/100\n",
            " - 0s - loss: 0.2070 - accuracy: 1.0000 - val_loss: 0.2024 - val_accuracy: 1.0000\n",
            "Epoch 29/100\n",
            " - 0s - loss: 0.2031 - accuracy: 1.0000 - val_loss: 0.2021 - val_accuracy: 1.0000\n",
            "Epoch 30/100\n",
            " - 0s - loss: 0.2040 - accuracy: 1.0000 - val_loss: 0.2018 - val_accuracy: 1.0000\n",
            "Epoch 31/100\n",
            " - 0s - loss: 0.2032 - accuracy: 1.0000 - val_loss: 0.2016 - val_accuracy: 1.0000\n",
            "Epoch 32/100\n",
            " - 0s - loss: 0.1984 - accuracy: 1.0000 - val_loss: 0.2014 - val_accuracy: 1.0000\n",
            "Epoch 33/100\n",
            " - 0s - loss: 0.2027 - accuracy: 1.0000 - val_loss: 0.2012 - val_accuracy: 1.0000\n",
            "Epoch 34/100\n",
            " - 0s - loss: 0.2043 - accuracy: 1.0000 - val_loss: 0.2009 - val_accuracy: 1.0000\n",
            "Epoch 35/100\n",
            " - 0s - loss: 0.2017 - accuracy: 1.0000 - val_loss: 0.2007 - val_accuracy: 1.0000\n",
            "Epoch 36/100\n",
            " - 0s - loss: 0.2011 - accuracy: 1.0000 - val_loss: 0.2005 - val_accuracy: 1.0000\n",
            "Epoch 37/100\n",
            " - 0s - loss: 0.2013 - accuracy: 1.0000 - val_loss: 0.2005 - val_accuracy: 1.0000\n",
            "Epoch 38/100\n",
            " - 0s - loss: 0.2020 - accuracy: 1.0000 - val_loss: 0.2005 - val_accuracy: 1.0000\n",
            "Epoch 39/100\n",
            " - 0s - loss: 0.2022 - accuracy: 1.0000 - val_loss: 0.2004 - val_accuracy: 1.0000\n",
            "Epoch 40/100\n",
            " - 0s - loss: 0.1964 - accuracy: 1.0000 - val_loss: 0.2005 - val_accuracy: 1.0000\n",
            "Epoch 41/100\n",
            " - 0s - loss: 0.2119 - accuracy: 1.0000 - val_loss: 0.1998 - val_accuracy: 1.0000\n",
            "Epoch 42/100\n",
            " - 0s - loss: 0.2141 - accuracy: 1.0000 - val_loss: 0.1985 - val_accuracy: 1.0000\n",
            "Epoch 43/100\n",
            " - 0s - loss: 0.2020 - accuracy: 1.0000 - val_loss: 0.1980 - val_accuracy: 1.0000\n",
            "Epoch 44/100\n",
            " - 0s - loss: 0.2103 - accuracy: 1.0000 - val_loss: 0.1979 - val_accuracy: 1.0000\n",
            "Epoch 45/100\n",
            " - 0s - loss: 0.2010 - accuracy: 1.0000 - val_loss: 0.1979 - val_accuracy: 1.0000\n",
            "Epoch 46/100\n",
            " - 0s - loss: 0.2012 - accuracy: 1.0000 - val_loss: 0.1977 - val_accuracy: 1.0000\n",
            "Epoch 47/100\n",
            " - 0s - loss: 0.1990 - accuracy: 1.0000 - val_loss: 0.1976 - val_accuracy: 1.0000\n",
            "Epoch 48/100\n",
            " - 0s - loss: 0.2054 - accuracy: 1.0000 - val_loss: 0.1974 - val_accuracy: 1.0000\n",
            "Epoch 49/100\n",
            " - 0s - loss: 0.1963 - accuracy: 1.0000 - val_loss: 0.1977 - val_accuracy: 1.0000\n",
            "Epoch 50/100\n",
            " - 0s - loss: 0.2007 - accuracy: 1.0000 - val_loss: 0.1977 - val_accuracy: 1.0000\n",
            "Epoch 51/100\n",
            " - 0s - loss: 0.2002 - accuracy: 1.0000 - val_loss: 0.1976 - val_accuracy: 1.0000\n",
            "Epoch 52/100\n",
            " - 0s - loss: 0.2010 - accuracy: 1.0000 - val_loss: 0.1976 - val_accuracy: 1.0000\n",
            "Epoch 53/100\n",
            " - 0s - loss: 0.2095 - accuracy: 1.0000 - val_loss: 0.1978 - val_accuracy: 1.0000\n",
            "Epoch 54/100\n",
            " - 0s - loss: 0.2044 - accuracy: 1.0000 - val_loss: 0.1974 - val_accuracy: 1.0000\n",
            "Epoch 55/100\n",
            " - 0s - loss: 0.1966 - accuracy: 1.0000 - val_loss: 0.1973 - val_accuracy: 1.0000\n",
            "Epoch 56/100\n",
            " - 0s - loss: 0.2053 - accuracy: 1.0000 - val_loss: 0.1969 - val_accuracy: 1.0000\n",
            "Epoch 57/100\n",
            " - 0s - loss: 0.2013 - accuracy: 1.0000 - val_loss: 0.1965 - val_accuracy: 1.0000\n",
            "Epoch 58/100\n",
            " - 0s - loss: 0.2010 - accuracy: 1.0000 - val_loss: 0.1959 - val_accuracy: 1.0000\n",
            "Epoch 59/100\n",
            " - 0s - loss: 0.1983 - accuracy: 1.0000 - val_loss: 0.1956 - val_accuracy: 1.0000\n",
            "Epoch 60/100\n",
            " - 0s - loss: 0.1991 - accuracy: 1.0000 - val_loss: 0.1954 - val_accuracy: 1.0000\n",
            "Epoch 61/100\n",
            " - 0s - loss: 0.1996 - accuracy: 1.0000 - val_loss: 0.1951 - val_accuracy: 1.0000\n",
            "Epoch 62/100\n",
            " - 0s - loss: 0.2046 - accuracy: 1.0000 - val_loss: 0.1948 - val_accuracy: 1.0000\n",
            "Epoch 63/100\n",
            " - 0s - loss: 0.1972 - accuracy: 1.0000 - val_loss: 0.1945 - val_accuracy: 1.0000\n",
            "Epoch 64/100\n",
            " - 0s - loss: 0.2004 - accuracy: 1.0000 - val_loss: 0.1945 - val_accuracy: 1.0000\n",
            "Epoch 65/100\n",
            " - 0s - loss: 0.1962 - accuracy: 1.0000 - val_loss: 0.1947 - val_accuracy: 1.0000\n",
            "Epoch 66/100\n",
            " - 0s - loss: 0.1933 - accuracy: 1.0000 - val_loss: 0.1946 - val_accuracy: 1.0000\n",
            "Epoch 67/100\n",
            " - 0s - loss: 0.1999 - accuracy: 1.0000 - val_loss: 0.1943 - val_accuracy: 1.0000\n",
            "Epoch 68/100\n",
            " - 0s - loss: 0.1980 - accuracy: 1.0000 - val_loss: 0.1941 - val_accuracy: 1.0000\n",
            "Epoch 69/100\n",
            " - 0s - loss: 0.1941 - accuracy: 1.0000 - val_loss: 0.1942 - val_accuracy: 1.0000\n",
            "Epoch 70/100\n",
            " - 0s - loss: 0.2003 - accuracy: 1.0000 - val_loss: 0.1939 - val_accuracy: 1.0000\n",
            "Epoch 71/100\n",
            " - 0s - loss: 0.1941 - accuracy: 1.0000 - val_loss: 0.1935 - val_accuracy: 1.0000\n",
            "Epoch 72/100\n",
            " - 0s - loss: 0.1915 - accuracy: 1.0000 - val_loss: 0.1931 - val_accuracy: 1.0000\n",
            "Epoch 73/100\n",
            " - 0s - loss: 0.1994 - accuracy: 1.0000 - val_loss: 0.1930 - val_accuracy: 1.0000\n",
            "Epoch 74/100\n",
            " - 0s - loss: 0.1934 - accuracy: 1.0000 - val_loss: 0.1929 - val_accuracy: 1.0000\n",
            "Epoch 75/100\n",
            " - 0s - loss: 0.1939 - accuracy: 1.0000 - val_loss: 0.1927 - val_accuracy: 1.0000\n",
            "Epoch 76/100\n",
            " - 0s - loss: 0.1973 - accuracy: 1.0000 - val_loss: 0.1925 - val_accuracy: 1.0000\n",
            "Epoch 77/100\n",
            " - 0s - loss: 0.1952 - accuracy: 1.0000 - val_loss: 0.1923 - val_accuracy: 1.0000\n",
            "Epoch 78/100\n",
            " - 0s - loss: 0.1955 - accuracy: 1.0000 - val_loss: 0.1920 - val_accuracy: 1.0000\n",
            "Epoch 79/100\n",
            " - 0s - loss: 0.1961 - accuracy: 1.0000 - val_loss: 0.1916 - val_accuracy: 1.0000\n",
            "Epoch 80/100\n",
            " - 0s - loss: 0.1919 - accuracy: 1.0000 - val_loss: 0.1913 - val_accuracy: 1.0000\n",
            "Epoch 81/100\n",
            " - 0s - loss: 0.1917 - accuracy: 1.0000 - val_loss: 0.1911 - val_accuracy: 1.0000\n",
            "Epoch 82/100\n",
            " - 0s - loss: 0.1961 - accuracy: 1.0000 - val_loss: 0.1911 - val_accuracy: 1.0000\n",
            "Epoch 83/100\n",
            " - 0s - loss: 0.1871 - accuracy: 1.0000 - val_loss: 0.1911 - val_accuracy: 1.0000\n",
            "Epoch 84/100\n",
            " - 0s - loss: 0.1909 - accuracy: 1.0000 - val_loss: 0.1908 - val_accuracy: 1.0000\n",
            "Epoch 85/100\n",
            " - 0s - loss: 0.2003 - accuracy: 1.0000 - val_loss: 0.1904 - val_accuracy: 1.0000\n",
            "Epoch 86/100\n",
            " - 0s - loss: 0.1932 - accuracy: 1.0000 - val_loss: 0.1898 - val_accuracy: 1.0000\n",
            "Epoch 87/100\n",
            " - 0s - loss: 0.1938 - accuracy: 1.0000 - val_loss: 0.1895 - val_accuracy: 1.0000\n",
            "Epoch 88/100\n",
            " - 0s - loss: 0.1931 - accuracy: 1.0000 - val_loss: 0.1889 - val_accuracy: 1.0000\n",
            "Epoch 89/100\n",
            " - 0s - loss: 0.1955 - accuracy: 1.0000 - val_loss: 0.1883 - val_accuracy: 1.0000\n",
            "Epoch 90/100\n",
            " - 0s - loss: 0.1909 - accuracy: 1.0000 - val_loss: 0.1880 - val_accuracy: 1.0000\n",
            "Epoch 91/100\n",
            " - 0s - loss: 0.1881 - accuracy: 1.0000 - val_loss: 0.1878 - val_accuracy: 1.0000\n",
            "Epoch 92/100\n",
            " - 0s - loss: 0.1941 - accuracy: 1.0000 - val_loss: 0.1875 - val_accuracy: 1.0000\n",
            "Epoch 93/100\n",
            " - 0s - loss: 0.1891 - accuracy: 1.0000 - val_loss: 0.1874 - val_accuracy: 1.0000\n",
            "Epoch 94/100\n",
            " - 0s - loss: 0.1893 - accuracy: 1.0000 - val_loss: 0.1876 - val_accuracy: 1.0000\n",
            "Epoch 95/100\n",
            " - 0s - loss: 0.1999 - accuracy: 1.0000 - val_loss: 0.1872 - val_accuracy: 1.0000\n",
            "Epoch 96/100\n",
            " - 0s - loss: 0.1879 - accuracy: 1.0000 - val_loss: 0.1869 - val_accuracy: 1.0000\n",
            "Epoch 97/100\n",
            " - 0s - loss: 0.1911 - accuracy: 1.0000 - val_loss: 0.1866 - val_accuracy: 1.0000\n",
            "Epoch 98/100\n",
            " - 0s - loss: 0.1895 - accuracy: 1.0000 - val_loss: 0.1865 - val_accuracy: 1.0000\n",
            "Epoch 99/100\n",
            " - 0s - loss: 0.1943 - accuracy: 1.0000 - val_loss: 0.1863 - val_accuracy: 1.0000\n",
            "Epoch 100/100\n",
            " - 0s - loss: 0.1913 - accuracy: 1.0000 - val_loss: 0.1863 - val_accuracy: 1.0000\n"
          ],
          "name": "stdout"
        }
      ]
    },
    {
      "cell_type": "code",
      "metadata": {
        "id": "VT5O_CdcbJ0R",
        "outputId": "ac469cde-1890-4d93-aa41-626c03c88414",
        "colab": {
          "base_uri": "https://localhost:8080/",
          "height": 51
        }
      },
      "source": [
        "#Evaluate on a test set\n",
        "test_loss, test_acc = model.evaluate(X_test,Y_test, verbose=2)\n",
        "\n",
        "print('\\nTest accuracy:', test_acc)"
      ],
      "execution_count": 244,
      "outputs": [
        {
          "output_type": "stream",
          "text": [
            "\n",
            "Test accuracy: 1.0\n"
          ],
          "name": "stdout"
        }
      ]
    },
    {
      "cell_type": "code",
      "metadata": {
        "id": "xuCw_ULAYZ55"
      },
      "source": [
        "# Save the trained model\n",
        "model.save('./action_recognition_mlp.h5')"
      ],
      "execution_count": 245,
      "outputs": []
    },
    {
      "cell_type": "code",
      "metadata": {
        "id": "kXN0JQ6JcAnp",
        "outputId": "6133e692-d318-416c-c25c-e9eb55227449",
        "colab": {
          "base_uri": "https://localhost:8080/",
          "height": 34
        }
      },
      "source": [
        "  history_dict = history.history\n",
        "  history_dict.keys()"
      ],
      "execution_count": 246,
      "outputs": [
        {
          "output_type": "execute_result",
          "data": {
            "text/plain": [
              "dict_keys(['val_loss', 'val_accuracy', 'loss', 'accuracy'])"
            ]
          },
          "metadata": {
            "tags": []
          },
          "execution_count": 246
        }
      ]
    },
    {
      "cell_type": "code",
      "metadata": {
        "id": "Hpv8CKUNVIGd"
      },
      "source": [
        "def plot_history(history):\n",
        "  history_dict = history.history\n",
        "  keys=list(history_dict.keys())\n",
        "  acc = history_dict['accuracy']\n",
        "  val_acc = history_dict['val_accuracy']\n",
        "  loss = history_dict['loss']\n",
        "  val_loss = history_dict['val_loss']\n",
        "\n",
        "  epochs = range(1, len(acc) + 1)\n",
        "\n",
        "  # \"bo\" is for \"blue dot\"\n",
        "  plt.plot(epochs, loss, 'r', label='Training loss')\n",
        "  # b is for \"solid blue line\"\n",
        "  plt.plot(epochs, val_loss, 'b', label='Validation loss')\n",
        "  plt.title('Training and validation loss')\n",
        "  plt.xlabel('Epochs')\n",
        "  plt.ylabel('Loss')\n",
        "  plt.legend()\n",
        "\n",
        "  plt.show()\n",
        "\n",
        "  plt.plot(epochs, acc, 'r', label='Training acc')\n",
        "  plt.plot(epochs, val_acc, 'b', label='Validation acc')\n",
        "  plt.title('Training and validation accuracy')\n",
        "  plt.xlabel('Epochs')\n",
        "  plt.ylabel('Accuracy')\n",
        "  plt.legend(loc='lower right')\n",
        "\n",
        "  plt.show()\n",
        "\n",
        "\n",
        "\n"
      ],
      "execution_count": 247,
      "outputs": []
    },
    {
      "cell_type": "code",
      "metadata": {
        "id": "rhzuNHqab3wi",
        "outputId": "9417fb1d-8410-4482-d2d0-38a2e4948feb",
        "colab": {
          "base_uri": "https://localhost:8080/",
          "height": 573
        }
      },
      "source": [
        "plot_history(history)"
      ],
      "execution_count": 248,
      "outputs": [
        {
          "output_type": "display_data",
          "data": {
            "image/png": "[encoded data removed]",
            "text/plain": [
              "<Figure size 432x288 with 1 Axes>"
            ]
          },
          "metadata": {
            "tags": [],
            "needs_background": "light"
          }
        },
        {
          "output_type": "display_data",
          "data": {
            "image/png": "[encoded data removed]",
            "text/plain": [
              "<Figure size 432x288 with 1 Axes>"
            ]
          },
          "metadata": {
            "tags": [],
            "needs_background": "light"
          }
        }
      ]
    },
    {
      "cell_type": "code",
      "metadata": {
        "id": "n78HaWZYb5gC"
      },
      "source": [
        ""
      ],
      "execution_count": null,
      "outputs": []
    }
  ]
}