{
  "nbformat": 4,
  "nbformat_minor": 0,
  "metadata": {
    "colab": {
      "name": "mlp_net_N",
      "provenance": [],
      "authorship_tag": "ABX9TyNDZvHZ5ruYUd+TBFSP6ko2",
      "include_colab_link": true
    },
    "kernelspec": {
      "name": "python3",
      "display_name": "Python 3"
    }
  },
  "cells": [
    {
      "cell_type": "markdown",
      "metadata": {
        "id": "view-in-github",
        "colab_type": "text"
      },
      "source": [
        "<a href=\"https://colab.research.google.com/github/Sathyakumarnsk/action_classifier/blob/master/mlp_net_N.ipynb\" target=\"_parent\"><img src=\"https://colab.research.google.com/assets/colab-badge.svg\" alt=\"Open In Colab\"/></a>"
      ]
    },
    {
      "cell_type": "code",
      "metadata": {
        "id": "lgH5zH0fx94p"
      },
      "source": [
        "%tensorflow_version 1.x\n",
        "import json\n",
        "import numpy as np\n",
        "#from sklearn.model_selection import train_test_split\n",
        "import tensorflow.keras as keras\n",
        "import matplotlib.pyplot as plt\n",
        "\n",
        "from tensorflow.keras.utils import to_categorical\n",
        "from keras.models import Sequential\n",
        "from keras.layers import Dense,Input\n",
        "from keras.layers.normalization import BatchNormalization\n",
        "from tensorflow.keras import regularizers\n",
        "from keras.optimizers import Adam, SGD\n",
        "from keras.layers import LeakyReLU"
      ],
      "execution_count": null,
      "outputs": []
    },
    {
      "cell_type": "code",
      "metadata": {
        "id": "MoWfF0E32PRc"
      },
      "source": [
        "#Neccessary git clones\n"
      ],
      "execution_count": null,
      "outputs": []
    },
    {
      "cell_type": "code",
      "metadata": {
        "id": "cn9AoZvbyC_v"
      },
      "source": [
        "#Loading in data\n",
        "data_path = \"./data_500_mini.json\"\n",
        "#Load data\n",
        "with open(data_path, \"r\") as fp:\n",
        "    data = json.load(fp)\n",
        "\n"
      ],
      "execution_count": null,
      "outputs": []
    },
    {
      "cell_type": "code",
      "metadata": {
        "id": "U2VXeXK-6pam"
      },
      "source": [
        "# data.keys()\n",
        "labels=data['metadata']['all labels in loaded order']\n",
        "# data['metadata'].keys()\n",
        "#data['dataperclass'].keys()"
      ],
      "execution_count": null,
      "outputs": []
    },
    {
      "cell_type": "code",
      "metadata": {
        "id": "fxG8fQDV7lJM",
        "outputId": "5ec33161-865c-4705-a4f5-4d578d943182",
        "colab": {
          "base_uri": "https://localhost:8080/",
          "height": 221
        }
      },
      "source": [
        "X=list(); Y=list()\n",
        "C_x=list();C_y=list()\n",
        "for i,c in enumerate(labels):\n",
        "  print(c)\n",
        "  skel_class=data['dataperclass'][c]['skelsinfo_list']\n",
        "  #print(np.array(skel_class))\n",
        "  C_x.append(skel_class)\n",
        "  print(np.array(C_x).shape)\n",
        "  label_class=data['dataperclass'][c]['label_list']\n",
        "  C_y.append(label_class)\n",
        "  #print(len(C_y))\n",
        "  X.extend(skel_class)\n",
        "  Y.extend(label_class)\n",
        "\n"
      ],
      "execution_count": null,
      "outputs": [
        {
          "output_type": "stream",
          "text": [
            "follow\n",
            "(1, 50, 24)\n",
            "pour\n",
            "(2, 50, 24)\n",
            "pp\n",
            "(3, 50, 24)\n",
            "stand\n",
            "(4, 50, 24)\n",
            "stop\n",
            "(5, 50, 24)\n",
            "wave\n",
            "(6, 50, 24)\n"
          ],
          "name": "stdout"
        }
      ]
    },
    {
      "cell_type": "code",
      "metadata": {
        "id": "yY9iU8JOTt_o",
        "outputId": "ce5ef940-d00c-4434-aaf1-18d1f17179b1",
        "colab": {
          "base_uri": "https://localhost:8080/",
          "height": 51
        }
      },
      "source": [
        "print(np.array(X).shape)\n",
        "print(np.array(Y).shape)"
      ],
      "execution_count": null,
      "outputs": [
        {
          "output_type": "stream",
          "text": [
            "(300, 24)\n",
            "(300,)\n"
          ],
          "name": "stdout"
        }
      ]
    },
    {
      "cell_type": "code",
      "metadata": {
        "id": "H_XEFxSGJKmY",
        "outputId": "32f7a314-69df-4ad1-f58f-350098bb4eaa",
        "colab": {
          "base_uri": "https://localhost:8080/",
          "height": 34
        }
      },
      "source": [
        "mapping={l:i for i,l in enumerate(labels)}\n",
        "print(mapping)\n",
        "labels=[]\n",
        "for y in Y:\n",
        "  labels.append(mapping[y])"
      ],
      "execution_count": null,
      "outputs": [
        {
          "output_type": "stream",
          "text": [
            "{'follow': 0, 'pour': 1, 'pp': 2, 'stand': 3, 'stop': 4, 'wave': 5}\n"
          ],
          "name": "stdout"
        }
      ]
    },
    {
      "cell_type": "code",
      "metadata": {
        "id": "2mCS1PDSIrj8",
        "outputId": "5e118ef4-295a-478e-ba7f-f8d19fc01cfc",
        "colab": {
          "base_uri": "https://localhost:8080/",
          "height": 102
        }
      },
      "source": [
        "encoder_Y = to_categorical(labels)\n",
        "print(Y[0], \": \", encoder_Y[0])\n",
        "print(Y[50], \": \", encoder_Y[50])\n",
        "print(Y[100], \": \", encoder_Y[100])\n",
        "print(Y[150], \": \", encoder_Y[150])\n",
        "print(Y[200], \": \", encoder_Y[200])"
      ],
      "execution_count": null,
      "outputs": [
        {
          "output_type": "stream",
          "text": [
            "follow :  [1. 0. 0. 0. 0. 0.]\n",
            "pour :  [0. 1. 0. 0. 0. 0.]\n",
            "pp :  [0. 0. 1. 0. 0. 0.]\n",
            "stand :  [0. 0. 0. 1. 0. 0.]\n",
            "stop :  [0. 0. 0. 0. 1. 0.]\n"
          ],
          "name": "stdout"
        }
      ]
    },
    {
      "cell_type": "code",
      "metadata": {
        "id": "MnG1UVIH9sSH"
      },
      "source": [
        "import numpy as np\n",
        "def train_test_split(X_data,Y_data,val=0.2,test=0.1):\n",
        "    X_data=np.array(X_data);Y_data=np.array(Y_data)\n",
        "    # create random train/test split\n",
        "    indices = list(range(X_data.shape[0]))\n",
        "    train_split=1.0-(val+test)\n",
        "    num_training_indices = int(train_split * X_data.shape[0])\n",
        "    num_valid_indices = int(val * X_data.shape[0])\n",
        "    #num_test_indices = int(train_split * X_data.shape[0])\n",
        "    np.random.shuffle(indices)\n",
        "    train_indices = indices[:num_training_indices]\n",
        "    valid_indices=indices[num_training_indices:num_training_indices+num_valid_indices]\n",
        "    test_indices = indices[num_training_indices+num_valid_indices:]\n",
        "\n",
        "    # split the actual data\n",
        "    X_data_train, X_data_val, X_data_test = X_data[train_indices], X_data[valid_indices], X_data[test_indices]\n",
        "    Y_data_train, Y_data_val ,Y_data_test = Y_data[train_indices], Y_data[valid_indices], Y_data[test_indices]\n",
        "    return (X_data_train, X_data_val, X_data_test, Y_data_train, Y_data_val, Y_data_test)\n"
      ],
      "execution_count": null,
      "outputs": []
    },
    {
      "cell_type": "code",
      "metadata": {
        "id": "Ej14Lr0Brh4d"
      },
      "source": [
        "from tensorflow.keras.utils import normalize\n",
        "X=normalize(X)\n",
        "X_train, X_val, X_test, Y_train, X_test, Y_test=train_test_split(X,encoder_Y)"
      ],
      "execution_count": null,
      "outputs": []
    },
    {
      "cell_type": "code",
      "metadata": {
        "id": "sJN_3Cebkwg4",
        "outputId": "fb98b523-1600-4da0-d56e-758327636fc4",
        "colab": {
          "base_uri": "https://localhost:8080/",
          "height": 34
        }
      },
      "source": [
        "X_train[0].shape"
      ],
      "execution_count": null,
      "outputs": [
        {
          "output_type": "execute_result",
          "data": {
            "text/plain": [
              "(24,)"
            ]
          },
          "metadata": {
            "tags": []
          },
          "execution_count": 54
        }
      ]
    },
    {
      "cell_type": "code",
      "metadata": {
        "id": "0CuiUPn9_GCp"
      },
      "source": [
        "# Build a simple DNN model with keras\n",
        "model = Sequential()\n",
        "#model.add(Input(shape=(24,)))\n",
        "model.add(Dense(units=48, input_shape=(24,), activation='relu',kernel_regularizer=keras.regularizers.l2(0.001)))\n",
        "model.add(BatchNormalization())\n",
        "model.add(Dense(units=128, activation='relu',kernel_regularizer=keras.regularizers.l2(0.001)))\n",
        "model.add(BatchNormalization())\n",
        "keras.layers.Dropout(0.2),\n",
        "model.add(Dense(units=64, activation='relu',kernel_regularizer=keras.regularizers.l2(0.001)))\n",
        "model.add(BatchNormalization())\n",
        "keras.layers.Dropout(0.2),\n",
        "model.add(Dense(units=16, activation='relu',kernel_regularizer=keras.regularizers.l2(0.001)))\n",
        "model.add(BatchNormalization())\n",
        "model.add(Dense(units=6, activation='softmax'))\n",
        "#model.add(Dense(units=1,))\n",
        "\n",
        "# Training\n",
        "# optimiser: Adam with learning rate 0.0001\n",
        "# loss: categorical_crossentropy for the matrix form matrix_Y\n",
        "# metrics: accuracy is evaluated for the model\n",
        "model.compile(optimizer=Adam(0.0001), loss='categorical_crossentropy', metrics=['accuracy'])\n"
      ],
      "execution_count": null,
      "outputs": []
    },
    {
      "cell_type": "code",
      "metadata": {
        "id": "UqZAW53tiWXh",
        "outputId": "1522a568-48b7-499f-a0a2-1cba3720682f",
        "colab": {
          "base_uri": "https://localhost:8080/",
          "height": 459
        }
      },
      "source": [
        "model.summary()"
      ],
      "execution_count": null,
      "outputs": [
        {
          "output_type": "stream",
          "text": [
            "Model: \"sequential_4\"\n",
            "_________________________________________________________________\n",
            "Layer (type)                 Output Shape              Param #   \n",
            "=================================================================\n",
            "dense_11 (Dense)             (None, 48)                1200      \n",
            "_________________________________________________________________\n",
            "batch_normalization_9 (Batch (None, 48)                192       \n",
            "_________________________________________________________________\n",
            "dense_12 (Dense)             (None, 128)               6272      \n",
            "_________________________________________________________________\n",
            "batch_normalization_10 (Batc (None, 128)               512       \n",
            "_________________________________________________________________\n",
            "dense_13 (Dense)             (None, 64)                8256      \n",
            "_________________________________________________________________\n",
            "batch_normalization_11 (Batc (None, 64)                256       \n",
            "_________________________________________________________________\n",
            "dense_14 (Dense)             (None, 16)                1040      \n",
            "_________________________________________________________________\n",
            "batch_normalization_12 (Batc (None, 16)                64        \n",
            "_________________________________________________________________\n",
            "dense_15 (Dense)             (None, 6)                 102       \n",
            "=================================================================\n",
            "Total params: 17,894\n",
            "Trainable params: 17,382\n",
            "Non-trainable params: 512\n",
            "_________________________________________________________________\n"
          ],
          "name": "stdout"
        }
      ]
    },
    {
      "cell_type": "code",
      "metadata": {
        "id": "FssR6cVxYA4i",
        "outputId": "fd970a2c-e1ef-43a4-875e-ef9902dd8420",
        "colab": {
          "base_uri": "https://localhost:8080/",
          "height": 1000
        }
      },
      "source": [
        "# batch_size: number of samples per gradient update\n",
        "# epochs: how many times to pass through the whole training set\n",
        "# verbose: show one line for every completed epoch\n",
        "history=model.fit(X_train, Y_train, batch_size=24, epochs=100, verbose=2, validation_data=(X_val, Y_val))\n",
        "#model.summary()"
      ],
      "execution_count": null,
      "outputs": [
        {
          "output_type": "stream",
          "text": [
            "Train on 210 samples, validate on 60 samples\n",
            "Epoch 1/100\n",
            " - 1s - loss: 2.5909 - accuracy: 0.1286 - val_loss: 2.0052 - val_accuracy: 0.1667\n",
            "Epoch 2/100\n",
            " - 0s - loss: 2.1550 - accuracy: 0.2762 - val_loss: 2.0063 - val_accuracy: 0.1667\n",
            "Epoch 3/100\n",
            " - 0s - loss: 1.8395 - accuracy: 0.3762 - val_loss: 2.0083 - val_accuracy: 0.1333\n",
            "Epoch 4/100\n",
            " - 0s - loss: 1.6051 - accuracy: 0.5048 - val_loss: 2.0112 - val_accuracy: 0.1833\n",
            "Epoch 5/100\n",
            " - 0s - loss: 1.3947 - accuracy: 0.5952 - val_loss: 2.0147 - val_accuracy: 0.1833\n",
            "Epoch 6/100\n",
            " - 0s - loss: 1.1886 - accuracy: 0.7190 - val_loss: 2.0187 - val_accuracy: 0.1833\n",
            "Epoch 7/100\n",
            " - 0s - loss: 1.0391 - accuracy: 0.8000 - val_loss: 2.0238 - val_accuracy: 0.1833\n",
            "Epoch 8/100\n",
            " - 0s - loss: 0.9140 - accuracy: 0.8571 - val_loss: 2.0290 - val_accuracy: 0.1833\n",
            "Epoch 9/100\n",
            " - 0s - loss: 0.8419 - accuracy: 0.8762 - val_loss: 2.0335 - val_accuracy: 0.1833\n",
            "Epoch 10/100\n",
            " - 0s - loss: 0.7826 - accuracy: 0.9000 - val_loss: 2.0378 - val_accuracy: 0.1833\n",
            "Epoch 11/100\n",
            " - 0s - loss: 0.7501 - accuracy: 0.9143 - val_loss: 2.0420 - val_accuracy: 0.1833\n",
            "Epoch 12/100\n",
            " - 0s - loss: 0.6538 - accuracy: 0.9619 - val_loss: 2.0463 - val_accuracy: 0.1833\n",
            "Epoch 13/100\n",
            " - 0s - loss: 0.6432 - accuracy: 0.9714 - val_loss: 2.0510 - val_accuracy: 0.1833\n",
            "Epoch 14/100\n",
            " - 0s - loss: 0.6232 - accuracy: 0.9810 - val_loss: 2.0560 - val_accuracy: 0.1833\n",
            "Epoch 15/100\n",
            " - 0s - loss: 0.6208 - accuracy: 0.9810 - val_loss: 2.0611 - val_accuracy: 0.1833\n",
            "Epoch 16/100\n",
            " - 0s - loss: 0.6116 - accuracy: 0.9810 - val_loss: 2.0659 - val_accuracy: 0.1833\n",
            "Epoch 17/100\n",
            " - 0s - loss: 0.5463 - accuracy: 0.9905 - val_loss: 2.0701 - val_accuracy: 0.1833\n",
            "Epoch 18/100\n",
            " - 0s - loss: 0.5102 - accuracy: 1.0000 - val_loss: 2.0753 - val_accuracy: 0.1833\n",
            "Epoch 19/100\n",
            " - 0s - loss: 0.5215 - accuracy: 0.9905 - val_loss: 2.0812 - val_accuracy: 0.1833\n",
            "Epoch 20/100\n",
            " - 0s - loss: 0.4818 - accuracy: 1.0000 - val_loss: 2.0873 - val_accuracy: 0.1833\n",
            "Epoch 21/100\n",
            " - 0s - loss: 0.4919 - accuracy: 0.9952 - val_loss: 2.0937 - val_accuracy: 0.1667\n",
            "Epoch 22/100\n",
            " - 0s - loss: 0.5275 - accuracy: 0.9762 - val_loss: 2.0992 - val_accuracy: 0.2167\n",
            "Epoch 23/100\n",
            " - 0s - loss: 0.4812 - accuracy: 1.0000 - val_loss: 2.1066 - val_accuracy: 0.2333\n",
            "Epoch 24/100\n",
            " - 0s - loss: 0.4831 - accuracy: 0.9952 - val_loss: 2.1126 - val_accuracy: 0.2500\n",
            "Epoch 25/100\n",
            " - 0s - loss: 0.4485 - accuracy: 1.0000 - val_loss: 2.1188 - val_accuracy: 0.2333\n",
            "Epoch 26/100\n",
            " - 0s - loss: 0.4689 - accuracy: 0.9905 - val_loss: 2.1246 - val_accuracy: 0.2333\n",
            "Epoch 27/100\n",
            " - 0s - loss: 0.4485 - accuracy: 0.9952 - val_loss: 2.1311 - val_accuracy: 0.2333\n",
            "Epoch 28/100\n",
            " - 0s - loss: 0.4454 - accuracy: 0.9952 - val_loss: 2.1375 - val_accuracy: 0.2333\n",
            "Epoch 29/100\n",
            " - 0s - loss: 0.5052 - accuracy: 0.9905 - val_loss: 2.1427 - val_accuracy: 0.2167\n",
            "Epoch 30/100\n",
            " - 0s - loss: 0.4571 - accuracy: 0.9952 - val_loss: 2.1495 - val_accuracy: 0.2333\n",
            "Epoch 31/100\n",
            " - 0s - loss: 0.4637 - accuracy: 0.9952 - val_loss: 2.1544 - val_accuracy: 0.2333\n",
            "Epoch 32/100\n",
            " - 0s - loss: 0.4559 - accuracy: 0.9905 - val_loss: 2.1570 - val_accuracy: 0.2333\n",
            "Epoch 33/100\n",
            " - 0s - loss: 0.4204 - accuracy: 1.0000 - val_loss: 2.1625 - val_accuracy: 0.1833\n",
            "Epoch 34/100\n",
            " - 0s - loss: 0.4162 - accuracy: 1.0000 - val_loss: 2.1690 - val_accuracy: 0.1833\n",
            "Epoch 35/100\n",
            " - 0s - loss: 0.4367 - accuracy: 0.9857 - val_loss: 2.1754 - val_accuracy: 0.1833\n",
            "Epoch 36/100\n",
            " - 0s - loss: 0.4125 - accuracy: 0.9952 - val_loss: 2.1810 - val_accuracy: 0.1833\n",
            "Epoch 37/100\n",
            " - 0s - loss: 0.4343 - accuracy: 0.9952 - val_loss: 2.1834 - val_accuracy: 0.1833\n",
            "Epoch 38/100\n",
            " - 0s - loss: 0.4061 - accuracy: 1.0000 - val_loss: 2.1885 - val_accuracy: 0.1833\n",
            "Epoch 39/100\n",
            " - 0s - loss: 0.4161 - accuracy: 0.9905 - val_loss: 2.1959 - val_accuracy: 0.1833\n",
            "Epoch 40/100\n",
            " - 0s - loss: 0.4067 - accuracy: 0.9952 - val_loss: 2.2061 - val_accuracy: 0.1833\n",
            "Epoch 41/100\n",
            " - 0s - loss: 0.3779 - accuracy: 1.0000 - val_loss: 2.2181 - val_accuracy: 0.1833\n",
            "Epoch 42/100\n",
            " - 0s - loss: 0.3716 - accuracy: 1.0000 - val_loss: 2.2281 - val_accuracy: 0.2000\n",
            "Epoch 43/100\n",
            " - 0s - loss: 0.4054 - accuracy: 1.0000 - val_loss: 2.2338 - val_accuracy: 0.1833\n",
            "Epoch 44/100\n",
            " - 0s - loss: 0.3674 - accuracy: 1.0000 - val_loss: 2.2417 - val_accuracy: 0.1833\n",
            "Epoch 45/100\n",
            " - 0s - loss: 0.3836 - accuracy: 1.0000 - val_loss: 2.2500 - val_accuracy: 0.1833\n",
            "Epoch 46/100\n",
            " - 0s - loss: 0.4053 - accuracy: 1.0000 - val_loss: 2.2566 - val_accuracy: 0.1833\n",
            "Epoch 47/100\n",
            " - 0s - loss: 0.3526 - accuracy: 1.0000 - val_loss: 2.2620 - val_accuracy: 0.1833\n",
            "Epoch 48/100\n",
            " - 0s - loss: 0.3980 - accuracy: 0.9952 - val_loss: 2.2728 - val_accuracy: 0.1833\n",
            "Epoch 49/100\n",
            " - 0s - loss: 0.3746 - accuracy: 1.0000 - val_loss: 2.2816 - val_accuracy: 0.1833\n",
            "Epoch 50/100\n",
            " - 0s - loss: 0.3585 - accuracy: 1.0000 - val_loss: 2.2892 - val_accuracy: 0.1833\n",
            "Epoch 51/100\n",
            " - 0s - loss: 0.3839 - accuracy: 1.0000 - val_loss: 2.2994 - val_accuracy: 0.1500\n",
            "Epoch 52/100\n",
            " - 0s - loss: 0.3383 - accuracy: 1.0000 - val_loss: 2.3079 - val_accuracy: 0.1500\n",
            "Epoch 53/100\n",
            " - 0s - loss: 0.3640 - accuracy: 1.0000 - val_loss: 2.3169 - val_accuracy: 0.1500\n",
            "Epoch 54/100\n",
            " - 0s - loss: 0.3487 - accuracy: 1.0000 - val_loss: 2.3229 - val_accuracy: 0.1833\n",
            "Epoch 55/100\n",
            " - 0s - loss: 0.3765 - accuracy: 1.0000 - val_loss: 2.3380 - val_accuracy: 0.2000\n",
            "Epoch 56/100\n",
            " - 0s - loss: 0.3438 - accuracy: 1.0000 - val_loss: 2.3524 - val_accuracy: 0.2000\n",
            "Epoch 57/100\n",
            " - 0s - loss: 0.3379 - accuracy: 1.0000 - val_loss: 2.3705 - val_accuracy: 0.2167\n",
            "Epoch 58/100\n",
            " - 0s - loss: 0.3357 - accuracy: 1.0000 - val_loss: 2.3829 - val_accuracy: 0.2000\n",
            "Epoch 59/100\n",
            " - 0s - loss: 0.3663 - accuracy: 0.9952 - val_loss: 2.3946 - val_accuracy: 0.1833\n",
            "Epoch 60/100\n",
            " - 0s - loss: 0.3538 - accuracy: 1.0000 - val_loss: 2.4141 - val_accuracy: 0.1833\n",
            "Epoch 61/100\n",
            " - 0s - loss: 0.3453 - accuracy: 1.0000 - val_loss: 2.4392 - val_accuracy: 0.1833\n",
            "Epoch 62/100\n",
            " - 0s - loss: 0.3465 - accuracy: 1.0000 - val_loss: 2.4580 - val_accuracy: 0.1833\n",
            "Epoch 63/100\n",
            " - 0s - loss: 0.3277 - accuracy: 1.0000 - val_loss: 2.4824 - val_accuracy: 0.1833\n",
            "Epoch 64/100\n",
            " - 0s - loss: 0.3903 - accuracy: 0.9952 - val_loss: 2.5348 - val_accuracy: 0.1833\n",
            "Epoch 65/100\n",
            " - 0s - loss: 0.3189 - accuracy: 1.0000 - val_loss: 2.5795 - val_accuracy: 0.1833\n",
            "Epoch 66/100\n",
            " - 0s - loss: 0.3109 - accuracy: 1.0000 - val_loss: 2.6189 - val_accuracy: 0.1833\n",
            "Epoch 67/100\n",
            " - 0s - loss: 0.3170 - accuracy: 1.0000 - val_loss: 2.6522 - val_accuracy: 0.1833\n",
            "Epoch 68/100\n",
            " - 0s - loss: 0.3067 - accuracy: 1.0000 - val_loss: 2.6859 - val_accuracy: 0.1833\n",
            "Epoch 69/100\n",
            " - 0s - loss: 0.3146 - accuracy: 1.0000 - val_loss: 2.7233 - val_accuracy: 0.1833\n",
            "Epoch 70/100\n",
            " - 0s - loss: 0.3257 - accuracy: 1.0000 - val_loss: 2.7638 - val_accuracy: 0.1833\n",
            "Epoch 71/100\n",
            " - 0s - loss: 0.3191 - accuracy: 1.0000 - val_loss: 2.8043 - val_accuracy: 0.1833\n",
            "Epoch 72/100\n",
            " - 0s - loss: 0.3134 - accuracy: 1.0000 - val_loss: 2.8483 - val_accuracy: 0.1833\n",
            "Epoch 73/100\n",
            " - 0s - loss: 0.3037 - accuracy: 0.9952 - val_loss: 2.9118 - val_accuracy: 0.1833\n",
            "Epoch 74/100\n",
            " - 0s - loss: 0.3010 - accuracy: 1.0000 - val_loss: 2.9684 - val_accuracy: 0.1833\n",
            "Epoch 75/100\n",
            " - 0s - loss: 0.3244 - accuracy: 1.0000 - val_loss: 3.0264 - val_accuracy: 0.1833\n",
            "Epoch 76/100\n",
            " - 0s - loss: 0.3185 - accuracy: 1.0000 - val_loss: 3.1109 - val_accuracy: 0.1833\n",
            "Epoch 77/100\n",
            " - 0s - loss: 0.3138 - accuracy: 0.9952 - val_loss: 3.1787 - val_accuracy: 0.1833\n",
            "Epoch 78/100\n",
            " - 0s - loss: 0.3118 - accuracy: 1.0000 - val_loss: 3.2273 - val_accuracy: 0.1833\n",
            "Epoch 79/100\n",
            " - 0s - loss: 0.2875 - accuracy: 1.0000 - val_loss: 3.2712 - val_accuracy: 0.1833\n",
            "Epoch 80/100\n",
            " - 0s - loss: 0.2872 - accuracy: 1.0000 - val_loss: 3.3167 - val_accuracy: 0.1833\n",
            "Epoch 81/100\n",
            " - 0s - loss: 0.2862 - accuracy: 1.0000 - val_loss: 3.3626 - val_accuracy: 0.1833\n",
            "Epoch 82/100\n",
            " - 0s - loss: 0.3006 - accuracy: 1.0000 - val_loss: 3.4161 - val_accuracy: 0.1833\n",
            "Epoch 83/100\n",
            " - 0s - loss: 0.3205 - accuracy: 0.9952 - val_loss: 3.5022 - val_accuracy: 0.1833\n",
            "Epoch 84/100\n",
            " - 0s - loss: 0.2914 - accuracy: 1.0000 - val_loss: 3.5631 - val_accuracy: 0.1833\n",
            "Epoch 85/100\n",
            " - 0s - loss: 0.2967 - accuracy: 1.0000 - val_loss: 3.6010 - val_accuracy: 0.1833\n",
            "Epoch 86/100\n",
            " - 0s - loss: 0.2961 - accuracy: 1.0000 - val_loss: 3.6308 - val_accuracy: 0.1833\n",
            "Epoch 87/100\n",
            " - 0s - loss: 0.3043 - accuracy: 1.0000 - val_loss: 3.6758 - val_accuracy: 0.1833\n",
            "Epoch 88/100\n",
            " - 0s - loss: 0.2855 - accuracy: 1.0000 - val_loss: 3.7174 - val_accuracy: 0.1833\n",
            "Epoch 89/100\n",
            " - 0s - loss: 0.2865 - accuracy: 1.0000 - val_loss: 3.7501 - val_accuracy: 0.1833\n",
            "Epoch 90/100\n",
            " - 0s - loss: 0.2970 - accuracy: 1.0000 - val_loss: 3.7931 - val_accuracy: 0.1833\n",
            "Epoch 91/100\n",
            " - 0s - loss: 0.3000 - accuracy: 1.0000 - val_loss: 3.8528 - val_accuracy: 0.1833\n",
            "Epoch 92/100\n",
            " - 0s - loss: 0.2928 - accuracy: 1.0000 - val_loss: 3.9151 - val_accuracy: 0.1833\n",
            "Epoch 93/100\n",
            " - 0s - loss: 0.2763 - accuracy: 1.0000 - val_loss: 3.9530 - val_accuracy: 0.1833\n",
            "Epoch 94/100\n",
            " - 0s - loss: 0.2697 - accuracy: 1.0000 - val_loss: 3.9760 - val_accuracy: 0.1833\n",
            "Epoch 95/100\n",
            " - 0s - loss: 0.2676 - accuracy: 1.0000 - val_loss: 3.9899 - val_accuracy: 0.1833\n",
            "Epoch 96/100\n",
            " - 0s - loss: 0.2754 - accuracy: 1.0000 - val_loss: 4.0137 - val_accuracy: 0.1833\n",
            "Epoch 97/100\n",
            " - 0s - loss: 0.2647 - accuracy: 1.0000 - val_loss: 4.0175 - val_accuracy: 0.1833\n",
            "Epoch 98/100\n",
            " - 0s - loss: 0.2727 - accuracy: 1.0000 - val_loss: 4.0616 - val_accuracy: 0.1833\n",
            "Epoch 99/100\n",
            " - 0s - loss: 0.2627 - accuracy: 1.0000 - val_loss: 4.0778 - val_accuracy: 0.1833\n",
            "Epoch 100/100\n",
            " - 0s - loss: 0.2601 - accuracy: 1.0000 - val_loss: 4.0839 - val_accuracy: 0.1833\n"
          ],
          "name": "stdout"
        }
      ]
    },
    {
      "cell_type": "code",
      "metadata": {
        "id": "VT5O_CdcbJ0R",
        "outputId": "1c918db6-ffdf-4a68-ff7b-fdc019990535",
        "colab": {
          "base_uri": "https://localhost:8080/",
          "height": 51
        }
      },
      "source": [
        "#Evaluate on a test set\n",
        "test_loss, test_acc = model.evaluate(X_test,Y_test, verbose=2)\n",
        "\n",
        "print('\\nTest accuracy:', test_acc)"
      ],
      "execution_count": null,
      "outputs": [
        {
          "output_type": "stream",
          "text": [
            "\n",
            "Test accuracy: 1.0\n"
          ],
          "name": "stdout"
        }
      ]
    },
    {
      "cell_type": "code",
      "metadata": {
        "id": "xuCw_ULAYZ55"
      },
      "source": [
        "# Save the trained model\n",
        "model.save('./action_recognition_mlp.h5')"
      ],
      "execution_count": null,
      "outputs": []
    },
    {
      "cell_type": "code",
      "metadata": {
        "id": "PjTtvVQFmydw",
        "outputId": "324e57ea-80bd-4a0d-c367-844a86d362c0",
        "colab": {
          "base_uri": "https://localhost:8080/",
          "height": 1000
        }
      },
      "source": [
        "model.predict(X_test)\n",
        "for i in "
      ],
      "execution_count": null,
      "outputs": [
        {
          "output_type": "execute_result",
          "data": {
            "text/plain": [
              "array([[2.86830496e-03, 9.86109316e-01, 3.12390458e-03, 4.86621168e-03,\n",
              "        2.08732253e-03, 9.45040723e-04],\n",
              "       [2.57861009e-03, 3.89045221e-03, 9.73893583e-01, 9.33307037e-03,\n",
              "        2.44309800e-03, 7.86119699e-03],\n",
              "       [2.97154556e-03, 9.86587703e-01, 4.03046701e-03, 4.24968358e-03,\n",
              "        1.49510556e-03, 6.65450818e-04],\n",
              "       [6.06596330e-03, 4.05704556e-03, 1.16498757e-03, 1.35262841e-02,\n",
              "        9.65379596e-01, 9.80612915e-03],\n",
              "       [6.15591276e-03, 1.43273761e-02, 1.91315096e-02, 9.24100161e-01,\n",
              "        3.21352407e-02, 4.14979644e-03],\n",
              "       [1.20190112e-02, 2.80692917e-03, 9.36150458e-03, 2.40340456e-03,\n",
              "        6.19117124e-03, 9.67217982e-01],\n",
              "       [6.96006324e-03, 1.21154357e-02, 2.42109075e-02, 9.23848093e-01,\n",
              "        2.85078809e-02, 4.35757777e-03],\n",
              "       [5.27912099e-03, 1.32443598e-02, 1.79772768e-02, 9.28091407e-01,\n",
              "        3.13008390e-02, 4.10707295e-03],\n",
              "       [4.09296807e-03, 9.79252398e-01, 2.72114319e-03, 8.38650856e-03,\n",
              "        4.43117088e-03, 1.11571490e-03],\n",
              "       [2.78137834e-03, 4.40933695e-03, 3.58704623e-04, 1.03273485e-02,\n",
              "        9.69701767e-01, 1.24213770e-02],\n",
              "       [6.06424315e-03, 1.49680870e-02, 1.93560813e-02, 9.24838424e-01,\n",
              "        3.02613117e-02, 4.51180479e-03],\n",
              "       [2.00047460e-03, 9.85167861e-01, 4.56945598e-03, 5.58132119e-03,\n",
              "        1.65250921e-03, 1.02838210e-03],\n",
              "       [2.39506294e-03, 7.62104942e-03, 6.25076471e-04, 2.16182345e-03,\n",
              "        9.38577391e-03, 9.77811217e-01],\n",
              "       [3.21716210e-03, 2.53348681e-03, 6.95194351e-04, 1.17887212e-02,\n",
              "        9.75017607e-01, 6.74774591e-03],\n",
              "       [7.65827112e-03, 3.37057142e-03, 2.29572156e-03, 2.25017965e-03,\n",
              "        5.66770229e-03, 9.78757560e-01],\n",
              "       [6.40217634e-03, 3.68556846e-03, 1.17599894e-03, 1.31588560e-02,\n",
              "        9.67677534e-01, 7.89984409e-03],\n",
              "       [9.87121284e-01, 4.86146193e-03, 7.22319004e-04, 2.56277830e-03,\n",
              "        2.60732253e-03, 2.12487625e-03],\n",
              "       [3.06914677e-03, 1.39199607e-02, 1.31062632e-02, 9.38095450e-01,\n",
              "        2.69294363e-02, 4.87966230e-03],\n",
              "       [4.84605599e-03, 1.93286408e-03, 2.30189483e-03, 1.83100870e-03,\n",
              "        4.41740686e-03, 9.84670758e-01],\n",
              "       [9.86120999e-01, 5.38074225e-03, 1.15430809e-03, 2.80629448e-03,\n",
              "        2.21194071e-03, 2.32579769e-03],\n",
              "       [2.72733229e-03, 9.83991444e-01, 4.36096499e-03, 6.02783309e-03,\n",
              "        1.94701389e-03, 9.45272855e-04],\n",
              "       [3.68042127e-03, 9.85206664e-01, 3.27287731e-03, 3.98195954e-03,\n",
              "        3.00845085e-03, 8.49581847e-04],\n",
              "       [9.85533297e-01, 5.29284403e-03, 8.17799300e-04, 3.79163283e-03,\n",
              "        2.53320299e-03, 2.03135051e-03],\n",
              "       [9.88408029e-01, 4.13998356e-03, 6.69994566e-04, 3.60222324e-03,\n",
              "        1.86233001e-03, 1.31743925e-03],\n",
              "       [3.44084227e-03, 1.05018457e-02, 1.64028145e-02, 9.39318597e-01,\n",
              "        2.58558225e-02, 4.48012492e-03],\n",
              "       [5.79696894e-03, 1.18243173e-02, 2.24316139e-02, 9.28717971e-01,\n",
              "        2.66015362e-02, 4.62769438e-03],\n",
              "       [4.57458291e-03, 9.85473514e-01, 2.94075604e-03, 3.30937956e-03,\n",
              "        2.58389371e-03, 1.11791783e-03],\n",
              "       [9.88313138e-01, 5.02501149e-03, 5.81684813e-04, 1.77170185e-03,\n",
              "        2.52884021e-03, 1.77968736e-03],\n",
              "       [1.24353322e-03, 3.16924392e-03, 9.89130616e-01, 2.16561789e-03,\n",
              "        7.60112365e-04, 3.53095611e-03],\n",
              "       [3.25739291e-03, 4.00765147e-03, 6.56330900e-04, 1.62433609e-02,\n",
              "        9.68309760e-01, 7.52547709e-03]], dtype=float32)"
            ]
          },
          "metadata": {
            "tags": []
          },
          "execution_count": 37
        }
      ]
    },
    {
      "cell_type": "code",
      "metadata": {
        "id": "ujKx2oPNnVjO",
        "outputId": "92a95c09-9abe-4afb-8a34-512b24b2a847",
        "colab": {
          "base_uri": "https://localhost:8080/",
          "height": 34
        }
      },
      "source": [
        "X_test.shape"
      ],
      "execution_count": null,
      "outputs": [
        {
          "output_type": "execute_result",
          "data": {
            "text/plain": [
              "(30, 24)"
            ]
          },
          "metadata": {
            "tags": []
          },
          "execution_count": 38
        }
      ]
    },
    {
      "cell_type": "code",
      "metadata": {
        "id": "kXN0JQ6JcAnp"
      },
      "source": [
        "  history_dict = history.history\n",
        "  history_dict.keys()"
      ],
      "execution_count": null,
      "outputs": []
    },
    {
      "cell_type": "code",
      "metadata": {
        "id": "Hpv8CKUNVIGd"
      },
      "source": [
        "def plot_history(history):\n",
        "  history_dict = history.history\n",
        "  keys=list(history_dict.keys())\n",
        "  acc = history_dict['accuracy']\n",
        "  val_acc = history_dict['val_accuracy']\n",
        "  loss = history_dict['loss']\n",
        "  val_loss = history_dict['val_loss']\n",
        "\n",
        "  epochs = range(1, len(acc) + 1)\n",
        "\n",
        "  # \"bo\" is for \"blue dot\"\n",
        "  plt.plot(epochs, loss, 'r', label='Training loss')\n",
        "  # b is for \"solid blue line\"\n",
        "  plt.plot(epochs, val_loss, 'b', label='Validation loss')\n",
        "  plt.title('Training and validation loss')\n",
        "  plt.xlabel('Epochs')\n",
        "  plt.ylabel('Loss')\n",
        "  plt.legend()\n",
        "\n",
        "  plt.show()\n",
        "\n",
        "  plt.plot(epochs, acc, 'r', label='Training acc')\n",
        "  plt.plot(epochs, val_acc, 'b', label='Validation acc')\n",
        "  plt.title('Training and validation accuracy')\n",
        "  plt.xlabel('Epochs')\n",
        "  plt.ylabel('Accuracy')\n",
        "  plt.legend(loc='lower right')\n",
        "\n",
        "  plt.show()\n",
        "\n",
        "\n",
        "\n"
      ],
      "execution_count": null,
      "outputs": []
    },
    {
      "cell_type": "code",
      "metadata": {
        "id": "rhzuNHqab3wi"
      },
      "source": [
        "plot_history(history)"
      ],
      "execution_count": null,
      "outputs": []
    },
    {
      "cell_type": "code",
      "metadata": {
        "id": "n78HaWZYb5gC"
      },
      "source": [
        ""
      ],
      "execution_count": null,
      "outputs": []
    }
  ]
}