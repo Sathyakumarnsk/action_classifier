{
  "nbformat": 4,
  "nbformat_minor": 0,
  "metadata": {
    "colab": {
      "name": "lstm_N.ipynb",
      "provenance": [],
      "collapsed_sections": [],
      "authorship_tag": "ABX9TyOUlaPQevTlqoeXm5IV3k+A",
      "include_colab_link": true
    },
    "kernelspec": {
      "name": "python3",
      "display_name": "Python 3"
    }
  },
  "cells": [
    {
      "cell_type": "markdown",
      "metadata": {
        "id": "view-in-github",
        "colab_type": "text"
      },
      "source": [
        "<a href=\"https://colab.research.google.com/github/Sathyakumarnsk/action_classifier/blob/master/lstm_N.ipynb\" target=\"_parent\"><img src=\"https://colab.research.google.com/assets/colab-badge.svg\" alt=\"Open In Colab\"/></a>"
      ]
    },
    {
      "cell_type": "code",
      "metadata": {
        "id": "Bnezd7OCSsyn",
        "outputId": "92261a7f-ebe3-4b40-fa2e-a7eff70c5a0a",
        "colab": {
          "base_uri": "https://localhost:8080/",
          "height": 51
        }
      },
      "source": [
        "%tensorflow_version 1.x\n",
        "import json\n",
        "import numpy as np\n",
        "#from sklearn.model_selection import train_test_split\n",
        "import tensorflow.keras as keras\n",
        "import matplotlib.pyplot as plt\n",
        "import tensorflow as tf\n",
        "\n",
        "from tensorflow.keras.utils import to_categorical\n",
        "from keras.models import Sequential\n",
        "from keras.layers import Dense,Input\n",
        "from keras.layers.normalization import BatchNormalization\n",
        "from tensorflow.keras import regularizers\n",
        "from keras.optimizers import Adam, SGD\n",
        "from keras.layers import LeakyReLU"
      ],
      "execution_count": 1,
      "outputs": [
        {
          "output_type": "stream",
          "text": [
            "TensorFlow 1.x selected.\n"
          ],
          "name": "stdout"
        },
        {
          "output_type": "stream",
          "text": [
            "Using TensorFlow backend.\n"
          ],
          "name": "stderr"
        }
      ]
    },
    {
      "cell_type": "code",
      "metadata": {
        "id": "ICNw9rAmSxe8"
      },
      "source": [
        "#Loading in data\n",
        "data_path = \"./data_humans.json\"\n",
        "#Load data\n",
        "with open(data_path, \"r\") as fp:\n",
        "    data = json.load(fp)\n"
      ],
      "execution_count": 2,
      "outputs": []
    },
    {
      "cell_type": "code",
      "metadata": {
        "id": "_7Fnl_S7TJWy"
      },
      "source": [
        "# data.keys()\n",
        "labels=data['metadata']['all labels in loaded order']\n",
        "# data['metadata'].keys()\n",
        "#data['dataperclass'].keys()"
      ],
      "execution_count": 3,
      "outputs": []
    },
    {
      "cell_type": "code",
      "metadata": {
        "id": "iOhtYTjhTMAs",
        "outputId": "03181b88-6dc1-488e-bc75-a11fe0977ffb",
        "colab": {
          "base_uri": "https://localhost:8080/",
          "height": 221
        }
      },
      "source": [
        "X=list(); Y=list()\n",
        "C_x=list();C_y=list()\n",
        "for i,c in enumerate(labels):\n",
        "  print(c)\n",
        "  skel_class=data['dataperclass'][c]['skelsinfo_list']\n",
        "  #print(np.array(skel_class))\n",
        "  C_x.append(skel_class)\n",
        "  print(np.array(C_x).shape)\n",
        "  label_class=data['dataperclass'][c]['label_list']\n",
        "  C_y.append(label_class)\n",
        "  #print(len(C_y))\n",
        "  X.extend(skel_class)\n",
        "  Y.extend(label_class)"
      ],
      "execution_count": 4,
      "outputs": [
        {
          "output_type": "stream",
          "text": [
            "follow\n",
            "(1, 500, 24)\n",
            "pour\n",
            "(2, 500, 24)\n",
            "pp\n",
            "(3, 500, 24)\n",
            "stand\n",
            "(4, 500, 24)\n",
            "stop\n",
            "(5, 500, 24)\n",
            "wave\n",
            "(6, 500, 24)\n"
          ],
          "name": "stdout"
        }
      ]
    },
    {
      "cell_type": "code",
      "metadata": {
        "id": "WpXYd8h8T5io",
        "outputId": "bb5b48c2-1897-4356-aae7-5d257aa9b718",
        "colab": {
          "base_uri": "https://localhost:8080/",
          "height": 51
        }
      },
      "source": [
        "print(np.array(X).shape)\n",
        "print(np.array(Y).shape)"
      ],
      "execution_count": 5,
      "outputs": [
        {
          "output_type": "stream",
          "text": [
            "(3000, 24)\n",
            "(3000,)\n"
          ],
          "name": "stdout"
        }
      ]
    },
    {
      "cell_type": "code",
      "metadata": {
        "id": "0NZKsVtpT_Ux"
      },
      "source": [
        "targets=[]\n",
        "for y in Y:\n",
        "  targets.append(y-1)"
      ],
      "execution_count": 6,
      "outputs": []
    },
    {
      "cell_type": "code",
      "metadata": {
        "id": "tt7-s4YRUCCX",
        "outputId": "bd1a7ee8-517e-4d72-d085-6006088ad8f5",
        "colab": {
          "base_uri": "https://localhost:8080/",
          "height": 102
        }
      },
      "source": [
        "encoder_Y = to_categorical(targets)\n",
        "print(Y[0], \": \", encoder_Y[0])\n",
        "print(Y[50], \": \", encoder_Y[50])\n",
        "print(Y[100], \": \", encoder_Y[100])\n",
        "print(Y[150], \": \", encoder_Y[150])\n",
        "print(Y[1000], \": \", encoder_Y[1000])"
      ],
      "execution_count": 7,
      "outputs": [
        {
          "output_type": "stream",
          "text": [
            "1 :  [1. 0. 0. 0. 0. 0.]\n",
            "1 :  [1. 0. 0. 0. 0. 0.]\n",
            "1 :  [1. 0. 0. 0. 0. 0.]\n",
            "1 :  [1. 0. 0. 0. 0. 0.]\n",
            "3 :  [0. 0. 1. 0. 0. 0.]\n"
          ],
          "name": "stdout"
        }
      ]
    },
    {
      "cell_type": "code",
      "metadata": {
        "id": "hgQgXqSiURWx"
      },
      "source": [
        "import numpy as np\n",
        "def train_test_split(X_data,Y_data,val=0.2,test=0.1):\n",
        "    X_data=np.array(X_data);Y_data=np.array(Y_data)\n",
        "    # create random train/test split\n",
        "    indices = list(range(X_data.shape[0]))\n",
        "    train_split=1.0-(val+test)\n",
        "    num_training_indices = int(train_split * X_data.shape[0])\n",
        "    num_valid_indices = int(val * X_data.shape[0])\n",
        "    #num_test_indices = int(train_split * X_data.shape[0])\n",
        "    np.random.shuffle(indices)\n",
        "    train_indices = indices[:num_training_indices]\n",
        "    valid_indices=indices[num_training_indices:num_training_indices+num_valid_indices]\n",
        "    test_indices = indices[num_training_indices+num_valid_indices:]\n",
        "\n",
        "    # split the actual data\n",
        "    X_data_train, X_data_val, X_data_test = X_data[train_indices], X_data[valid_indices], X_data[test_indices]\n",
        "    Y_data_train, Y_data_val ,Y_data_test = Y_data[train_indices], Y_data[valid_indices], Y_data[test_indices]\n",
        "    return (X_data_train, X_data_val, X_data_test, Y_data_train, Y_data_val, Y_data_test)\n"
      ],
      "execution_count": 8,
      "outputs": []
    },
    {
      "cell_type": "code",
      "metadata": {
        "id": "qCYTD1irURkl"
      },
      "source": [
        "from tensorflow.keras.utils import normalize\n",
        "#from keras.preprocessing import timeseries_dataset_from_array\n",
        "X=normalize(X)"
      ],
      "execution_count": 9,
      "outputs": []
    },
    {
      "cell_type": "code",
      "metadata": {
        "id": "xxczGPP3atTf"
      },
      "source": [
        "def batcher(l,y,n=10):\n",
        "  batches=[]\n",
        "  labels_b=[]\n",
        "  for i in range(0,len(l),1):\n",
        "    if (i<len(l)-n):\n",
        "      batches.append(l[i:n+i])\n",
        "      labels_b.append(y[i])\n",
        "  return batches,labels_b\n",
        "      #print(l[i:n+i])\n",
        "\n",
        "batches,labels_batches=batcher(X,encoder_Y) \n",
        "\n",
        "X_train, X_val, X_test, Y_train, Y_val, Y_test=train_test_split(batches,labels_batches)"
      ],
      "execution_count": 10,
      "outputs": []
    },
    {
      "cell_type": "code",
      "metadata": {
        "id": "K9bzYL75eg6B",
        "outputId": "b41cfda5-d5f8-43d6-850d-db055afc5d4e",
        "colab": {
          "base_uri": "https://localhost:8080/",
          "height": 51
        }
      },
      "source": [
        "print(X_train.shape)\n",
        "print(Y_train.shape)\n"
      ],
      "execution_count": 11,
      "outputs": [
        {
          "output_type": "stream",
          "text": [
            "(2093, 10, 24)\n",
            "(2093, 6)\n"
          ],
          "name": "stdout"
        }
      ]
    },
    {
      "cell_type": "code",
      "metadata": {
        "id": "K2rGweuKespy"
      },
      "source": [
        "def build_model(input_shape):\n",
        "    \"\"\"Generates RNN-LSTM model\n",
        "    :param input_shape (tuple): Shape of input set\n",
        "    :return model: RNN-LSTM model\n",
        "    \"\"\"\n",
        "\n",
        "    # build network topology\n",
        "    model = keras.Sequential()\n",
        "\n",
        "    # 2 LSTM layers\n",
        "    model.add(keras.layers.LSTM(24, input_shape=input_shape, return_sequences=True))\n",
        "    model.add(keras.layers.LSTM(64))\n",
        "\n",
        "    # dense layer\n",
        "    model.add(keras.layers.Dense(64, activation='relu'))\n",
        "    model.add(keras.layers.Dropout(0.3))\n",
        "    #model.add(keras.layers.LSTM(1, activation=\"tanh\"))\n",
        "    # output layer\n",
        "    model.add(keras.layers.Dense(6, activation='softmax'))\n",
        "\n",
        "    return model\n"
      ],
      "execution_count": 12,
      "outputs": []
    },
    {
      "cell_type": "code",
      "metadata": {
        "id": "OObNLkmzfUzb",
        "outputId": "a273035d-89b4-4648-873f-e77035d7ed9d",
        "colab": {
          "base_uri": "https://localhost:8080/",
          "height": 323
        }
      },
      "source": [
        "input_shape = (X_train.shape[1], X_train.shape[2])\n",
        "model=build_model(input_shape)\n",
        "model.summary()\n",
        "\n",
        "optimiser = keras.optimizers.Adam(learning_rate=0.0001)\n",
        "model.compile(optimizer=optimiser, loss='categorical_crossentropy', metrics=['accuracy'])"
      ],
      "execution_count": 15,
      "outputs": [
        {
          "output_type": "stream",
          "text": [
            "Model: \"sequential_1\"\n",
            "_________________________________________________________________\n",
            "Layer (type)                 Output Shape              Param #   \n",
            "=================================================================\n",
            "lstm_2 (LSTM)                (None, 10, 24)            4704      \n",
            "_________________________________________________________________\n",
            "lstm_3 (LSTM)                (None, 64)                22784     \n",
            "_________________________________________________________________\n",
            "dense_2 (Dense)              (None, 64)                4160      \n",
            "_________________________________________________________________\n",
            "dropout_1 (Dropout)          (None, 64)                0         \n",
            "_________________________________________________________________\n",
            "dense_3 (Dense)              (None, 6)                 390       \n",
            "=================================================================\n",
            "Total params: 32,038\n",
            "Trainable params: 32,038\n",
            "Non-trainable params: 0\n",
            "_________________________________________________________________\n"
          ],
          "name": "stdout"
        }
      ]
    },
    {
      "cell_type": "code",
      "metadata": {
        "id": "R8kcPMHGURlE"
      },
      "source": [
        "# batch_size: number of samples per gradient update\n",
        "# epochs: how many times to pass through the whole training set\n",
        "# verbose: show one line for every completed epoch\n",
        "history=model.fit(X_train, Y_train, batch_size=10, epochs=100, verbose=2, validation_data=(X_val, Y_val))\n",
        "#model.summary()"
      ],
      "execution_count": null,
      "outputs": []
    },
    {
      "cell_type": "code",
      "metadata": {
        "id": "xuCw_ULAYZ55"
      },
      "source": [
        "# Save the trained model\n",
        "model.save('./lstm_500_N.h5')"
      ],
      "execution_count": 19,
      "outputs": []
    },
    {
      "cell_type": "code",
      "metadata": {
        "id": "Az94zXRMpe1t",
        "outputId": "8cec9693-ae6b-4d17-c73d-822630d2c635",
        "colab": {
          "base_uri": "https://localhost:8080/",
          "height": 34
        }
      },
      "source": [
        "history.history.keys()"
      ],
      "execution_count": 21,
      "outputs": [
        {
          "output_type": "execute_result",
          "data": {
            "text/plain": [
              "dict_keys(['loss', 'acc', 'val_loss', 'val_acc'])"
            ]
          },
          "metadata": {
            "tags": []
          },
          "execution_count": 21
        }
      ]
    },
    {
      "cell_type": "code",
      "metadata": {
        "id": "Hpv8CKUNVIGd",
        "outputId": "d7ebb932-2d98-48d1-f8e9-6011da5e76a5",
        "colab": {
          "base_uri": "https://localhost:8080/",
          "height": 573
        }
      },
      "source": [
        "def plot_history(history):\n",
        "  history_dict = history.history\n",
        "  keys=list(history_dict.keys())\n",
        "  acc = history_dict['acc']\n",
        "  val_acc = history_dict['val_acc']\n",
        "  loss = history_dict['loss']\n",
        "  val_loss = history_dict['val_loss']\n",
        "\n",
        "  epochs = range(1, len(acc) + 1)\n",
        "\n",
        "  # \"bo\" is for \"blue dot\"\n",
        "  plt.plot(epochs, loss, 'r', label='Training loss')\n",
        "  # b is for \"solid blue line\"\n",
        "  plt.plot(epochs, val_loss, 'b', label='Validation loss')\n",
        "  plt.title('Training and validation loss')\n",
        "  plt.xlabel('Epochs')\n",
        "  plt.ylabel('Loss')\n",
        "  plt.legend()\n",
        "\n",
        "  plt.show()\n",
        "\n",
        "  plt.plot(epochs, acc, 'r', label='Training acc')\n",
        "  plt.plot(epochs, val_acc, 'b', label='Validation acc')\n",
        "  plt.title('Training and validation accuracy')\n",
        "  plt.xlabel('Epochs')\n",
        "  plt.ylabel('Accuracy')\n",
        "  plt.legend(loc='lower right')\n",
        "\n",
        "  plt.show()\n",
        "\n",
        "plot_history(history)\n",
        "\n"
      ],
      "execution_count": 22,
      "outputs": [
        {
          "output_type": "display_data",
          "data": {
            "image/png": "[encoded data removed]",
            "text/plain": [
              "<Figure size 432x288 with 1 Axes>"
            ]
          },
          "metadata": {
            "tags": [],
            "needs_background": "light"
          }
        },
        {
          "output_type": "display_data",
          "data": {
            "image/png": "[encoded data removed]",
            "text/plain": [
              "<Figure size 432x288 with 1 Axes>"
            ]
          },
          "metadata": {
            "tags": [],
            "needs_background": "light"
          }
        }
      ]
    },
    {
      "cell_type": "code",
      "metadata": {
        "id": "kmcQZwpfnLLQ"
      },
      "source": [
        ""
      ],
      "execution_count": null,
      "outputs": []
    }
  ]
}