{
  "nbformat": 4,
  "nbformat_minor": 0,
  "metadata": {
    "colab": {
      "name": "vanilla_rnn_trainer.ipynb",
      "provenance": [],
      "authorship_tag": "ABX9TyMV+yDTWlnEa3Uyb6t/yrkD",
      "include_colab_link": true
    },
    "kernelspec": {
      "name": "python3",
      "display_name": "Python 3"
    }
  },
  "cells": [
    {
      "cell_type": "markdown",
      "metadata": {
        "id": "view-in-github",
        "colab_type": "text"
      },
      "source": [
        "<a href=\"https://colab.research.google.com/github/Sathyakumarnsk/action_classifier/blob/master/vanilla_rnn_trainer.ipynb\" target=\"_parent\"><img src=\"https://colab.research.google.com/assets/colab-badge.svg\" alt=\"Open In Colab\"/></a>"
      ]
    },
    {
      "cell_type": "code",
      "metadata": {
        "id": "1xEY2j6pvuyC"
      },
      "source": [
        ""
      ],
      "execution_count": null,
      "outputs": []
    },
    {
      "cell_type": "code",
      "metadata": {
        "id": "Bnezd7OCSsyn",
        "outputId": "479cf2f7-360e-4464-f8e5-91cccfe6a897",
        "colab": {
          "base_uri": "https://localhost:8080/",
          "height": 51
        }
      },
      "source": [
        "%tensorflow_version 1.x\n",
        "import json\n",
        "import numpy as np\n",
        "#from sklearn.model_selection import train_test_split\n",
        "import tensorflow.keras as keras\n",
        "import matplotlib.pyplot as plt\n",
        "import tensorflow as tf\n",
        "\n",
        "from tensorflow.keras.utils import to_categorical\n",
        "from keras.models import Sequential\n",
        "from keras.layers import Dense,Input\n",
        "from keras.layers.normalization import BatchNormalization\n",
        "from tensorflow.keras import regularizers\n",
        "from keras.optimizers import Adam, SGD\n",
        "from keras.layers import LeakyReLU"
      ],
      "execution_count": 4,
      "outputs": [
        {
          "output_type": "stream",
          "text": [
            "TensorFlow 1.x selected.\n"
          ],
          "name": "stdout"
        },
        {
          "output_type": "stream",
          "text": [
            "Using TensorFlow backend.\n"
          ],
          "name": "stderr"
        }
      ]
    },
    {
      "cell_type": "code",
      "metadata": {
        "id": "ICNw9rAmSxe8"
      },
      "source": [
        "#Loading in data\n",
        "data_path = \"./data_humans.json\"\n",
        "#Load data\n",
        "with open(data_path, \"r\") as fp:\n",
        "    data = json.load(fp)\n"
      ],
      "execution_count": 6,
      "outputs": []
    },
    {
      "cell_type": "code",
      "metadata": {
        "id": "_7Fnl_S7TJWy"
      },
      "source": [
        "# data.keys()\n",
        "labels=data['metadata']['all labels in loaded order']\n",
        "# data['metadata'].keys()\n",
        "#data['dataperclass'].keys()"
      ],
      "execution_count": 7,
      "outputs": []
    },
    {
      "cell_type": "code",
      "metadata": {
        "id": "iOhtYTjhTMAs",
        "outputId": "cb905bc6-45d5-4865-c16c-2c51842319f0",
        "colab": {
          "base_uri": "https://localhost:8080/",
          "height": 257
        }
      },
      "source": [
        "X=list(); Y=list()\n",
        "C_x=list();C_y=list()\n",
        "for i,c in enumerate(labels):\n",
        "  print(c)\n",
        "  skel_class=data['dataperclass'][c]['skelsinfo_list']\n",
        "  #print(np.array(skel_class))\n",
        "  C_x.append(skel_class)\n",
        "  print(np.array(C_x).shape)\n",
        "  label_class=data['dataperclass'][c]['label_list']\n",
        "  C_y.append(label_class)\n",
        "  #print(len(C_y))\n",
        "  X.extend(skel_class)\n",
        "  Y.extend(label_class)"
      ],
      "execution_count": 8,
      "outputs": [
        {
          "output_type": "stream",
          "text": [
            "drink\n",
            "(1, 1000, 24)\n",
            "follow\n",
            "(2, 1000, 24)\n",
            "pour\n",
            "(3, 1000, 24)\n",
            "pp\n",
            "(4, 1000, 24)\n",
            "stand\n",
            "(5, 1000, 24)\n",
            "stop\n",
            "(6, 1000, 24)\n",
            "wave\n",
            "(7, 1000, 24)\n"
          ],
          "name": "stdout"
        }
      ]
    },
    {
      "cell_type": "code",
      "metadata": {
        "id": "WpXYd8h8T5io",
        "outputId": "0ea2a508-e2a4-44e5-de33-dabfbbf15d24",
        "colab": {
          "base_uri": "https://localhost:8080/",
          "height": 51
        }
      },
      "source": [
        "print(np.array(X).shape)\n",
        "print(np.array(Y).shape)"
      ],
      "execution_count": 9,
      "outputs": [
        {
          "output_type": "stream",
          "text": [
            "(7000, 24)\n",
            "(7000,)\n"
          ],
          "name": "stdout"
        }
      ]
    },
    {
      "cell_type": "code",
      "metadata": {
        "id": "h3gGsTa0u_-d"
      },
      "source": [
        ""
      ],
      "execution_count": 9,
      "outputs": []
    },
    {
      "cell_type": "code",
      "metadata": {
        "id": "tt7-s4YRUCCX",
        "outputId": "b801f219-ccb1-446e-f9a2-818d06c38e9d",
        "colab": {
          "base_uri": "https://localhost:8080/",
          "height": 154
        }
      },
      "source": [
        "encoder_Y = to_categorical(Y)\n",
        "print(Y[0], \": \", encoder_Y[0])\n",
        "print(Y[50], \": \", encoder_Y[50])\n",
        "print(Y[100], \": \", encoder_Y[100])\n",
        "print(Y[150], \": \", encoder_Y[150])\n",
        "print(Y[1000], \": \", encoder_Y[1000])\n",
        "print(Y[1500], \": \", encoder_Y[1500])\n",
        "print(Y[2000], \": \", encoder_Y[2000])\n",
        "print(Y[2500], \": \", encoder_Y[2500])"
      ],
      "execution_count": 10,
      "outputs": [
        {
          "output_type": "stream",
          "text": [
            "0 :  [1. 0. 0. 0. 0. 0. 0.]\n",
            "0 :  [1. 0. 0. 0. 0. 0. 0.]\n",
            "0 :  [1. 0. 0. 0. 0. 0. 0.]\n",
            "0 :  [1. 0. 0. 0. 0. 0. 0.]\n",
            "1 :  [0. 1. 0. 0. 0. 0. 0.]\n",
            "1 :  [0. 1. 0. 0. 0. 0. 0.]\n",
            "2 :  [0. 0. 1. 0. 0. 0. 0.]\n",
            "2 :  [0. 0. 1. 0. 0. 0. 0.]\n"
          ],
          "name": "stdout"
        }
      ]
    },
    {
      "cell_type": "code",
      "metadata": {
        "id": "hgQgXqSiURWx"
      },
      "source": [
        "import numpy as np\n",
        "def train_test_split(X_data,Y_data,val=0.2,test=0.1):\n",
        "    X_data=np.array(X_data);Y_data=np.array(Y_data)\n",
        "    # create random train/test split\n",
        "    indices = list(range(X_data.shape[0]))\n",
        "    train_split=1.0-(val+test)\n",
        "    num_training_indices = int(train_split * X_data.shape[0])\n",
        "    num_valid_indices = int(val * X_data.shape[0])\n",
        "    #num_test_indices = int(train_split * X_data.shape[0])\n",
        "    np.random.shuffle(indices)\n",
        "    train_indices = indices[:num_training_indices]\n",
        "    valid_indices=indices[num_training_indices:num_training_indices+num_valid_indices]\n",
        "    test_indices = indices[num_training_indices+num_valid_indices:]\n",
        "\n",
        "    # split the actual data\n",
        "    X_data_train, X_data_val, X_data_test = X_data[train_indices], X_data[valid_indices], X_data[test_indices]\n",
        "    Y_data_train, Y_data_val ,Y_data_test = Y_data[train_indices], Y_data[valid_indices], Y_data[test_indices]\n",
        "    return (X_data_train, X_data_val, X_data_test, Y_data_train, Y_data_val, Y_data_test)\n"
      ],
      "execution_count": 11,
      "outputs": []
    },
    {
      "cell_type": "code",
      "metadata": {
        "id": "qCYTD1irURkl"
      },
      "source": [
        "# from tensorflow.keras.utils import normalize\n",
        "# #from keras.preprocessing import timeseries_dataset_from_array\n",
        "# X=normalize(X)"
      ],
      "execution_count": 12,
      "outputs": []
    },
    {
      "cell_type": "code",
      "metadata": {
        "id": "xxczGPP3atTf"
      },
      "source": [
        "def batcher(l,y,n=10):\n",
        "  batches=[]\n",
        "  labels_b=[]\n",
        "  for i in range(0,len(l),1):\n",
        "    if (i<len(l)-n):\n",
        "      batches.append(l[i:n+i])\n",
        "      labels_b.append(y[i])\n",
        "  return batches,labels_b\n",
        "      #print(l[i:n+i])\n",
        "\n",
        "batches,labels_batches=batcher(X,encoder_Y) \n",
        "\n",
        "X_train, X_val, X_test, Y_train, Y_val, Y_test=train_test_split(batches,labels_batches)"
      ],
      "execution_count": 13,
      "outputs": []
    },
    {
      "cell_type": "code",
      "metadata": {
        "id": "K9bzYL75eg6B",
        "outputId": "90cc2378-d925-4287-a24c-098f15301eb5",
        "colab": {
          "base_uri": "https://localhost:8080/",
          "height": 51
        }
      },
      "source": [
        "print(X_train.shape)\n",
        "print(Y_train.shape)\n"
      ],
      "execution_count": 14,
      "outputs": [
        {
          "output_type": "stream",
          "text": [
            "(4893, 10, 24)\n",
            "(4893, 7)\n"
          ],
          "name": "stdout"
        }
      ]
    },
    {
      "cell_type": "code",
      "metadata": {
        "id": "K2rGweuKespy"
      },
      "source": [
        "def build_model(input_shape):\n",
        "    \"\"\"Generates RNN-LSTM model\n",
        "    :param input_shape (tuple): Shape of input set\n",
        "    :return model: RNN-LSTM model\n",
        "    \"\"\"\n",
        "\n",
        "    # build network topology\n",
        "    model = keras.Sequential()\n",
        "\n",
        "    # 2 RNN layers\n",
        "    model.add(keras.layers.SimpleRNN(24, input_shape=input_shape, return_sequences=True, return_state=False))\n",
        "    model.add(keras.layers.SimpleRNN(64))\n",
        "\n",
        " \n",
        "    # dense layer\n",
        "    model.add(keras.layers.Dense(64, activation='relu'))\n",
        "    model.add(keras.layers.Dropout(0.3))\n",
        "    #model.add(keras.layers.LSTM(1, activation=\"tanh\"))\n",
        "    # output layer\n",
        "    model.add(keras.layers.Dense(7, activation='softmax'))\n",
        "\n",
        "    return model\n"
      ],
      "execution_count": 27,
      "outputs": []
    },
    {
      "cell_type": "code",
      "metadata": {
        "id": "OObNLkmzfUzb",
        "outputId": "7ec98a57-748a-4ed2-981f-58407c2beb96",
        "colab": {
          "base_uri": "https://localhost:8080/",
          "height": 326
        }
      },
      "source": [
        "input_shape = (X_train.shape[1], X_train.shape[2])\n",
        "model=build_model(input_shape)\n",
        "model.summary()\n",
        "optimiser = keras.optimizers.Adam(learning_rate=0.0001)\n",
        "model.compile(optimizer=optimiser, loss='categorical_crossentropy', metrics=['accuracy'])"
      ],
      "execution_count": 28,
      "outputs": [
        {
          "output_type": "stream",
          "text": [
            "Model: \"sequential_6\"\n",
            "_________________________________________________________________\n",
            "Layer (type)                 Output Shape              Param #   \n",
            "=================================================================\n",
            "simple_rnn_10 (SimpleRNN)    (None, 10, 24)            1176      \n",
            "_________________________________________________________________\n",
            "simple_rnn_11 (SimpleRNN)    (None, 64)                5696      \n",
            "_________________________________________________________________\n",
            "dense_8 (Dense)              (None, 64)                4160      \n",
            "_________________________________________________________________\n",
            "dropout_4 (Dropout)          (None, 64)                0         \n",
            "_________________________________________________________________\n",
            "dense_9 (Dense)              (None, 7)                 455       \n",
            "=================================================================\n",
            "Total params: 11,487\n",
            "Trainable params: 11,487\n",
            "Non-trainable params: 0\n",
            "_________________________________________________________________\n"
          ],
          "name": "stdout"
        }
      ]
    },
    {
      "cell_type": "code",
      "metadata": {
        "id": "R8kcPMHGURlE",
        "outputId": "71d3aaaa-8e0a-48d4-dd65-e5df26c5dd22",
        "colab": {
          "base_uri": "https://localhost:8080/",
          "height": 1000
        }
      },
      "source": [
        "# batch_size: number of samples per gradient update\n",
        "# epochs: how many times to pass through the whole training set\n",
        "# verbose: show one line for every completed epoch\n",
        "history=model.fit(X_train, Y_train, batch_size=10, epochs=100, verbose=2, validation_data=(X_val, Y_val))\n",
        "#model.summary()"
      ],
      "execution_count": 33,
      "outputs": [
        {
          "output_type": "stream",
          "text": [
            "Train on 4893 samples, validate on 1398 samples\n",
            "Epoch 1/100\n",
            "4893/4893 - 2s - loss: 0.0615 - acc: 0.9820 - val_loss: 0.0292 - val_acc: 0.9936\n",
            "Epoch 2/100\n",
            "4893/4893 - 2s - loss: 0.0455 - acc: 0.9871 - val_loss: 0.0424 - val_acc: 0.9864\n",
            "Epoch 3/100\n",
            "4893/4893 - 2s - loss: 0.0582 - acc: 0.9828 - val_loss: 0.0783 - val_acc: 0.9728\n",
            "Epoch 4/100\n",
            "4893/4893 - 2s - loss: 0.0462 - acc: 0.9845 - val_loss: 0.0286 - val_acc: 0.9928\n",
            "Epoch 5/100\n",
            "4893/4893 - 2s - loss: 0.0547 - acc: 0.9824 - val_loss: 0.0617 - val_acc: 0.9800\n",
            "Epoch 6/100\n",
            "4893/4893 - 2s - loss: 0.0447 - acc: 0.9863 - val_loss: 0.0654 - val_acc: 0.9793\n",
            "Epoch 7/100\n",
            "4893/4893 - 2s - loss: 0.0500 - acc: 0.9841 - val_loss: 0.0328 - val_acc: 0.9921\n",
            "Epoch 8/100\n",
            "4893/4893 - 2s - loss: 0.0398 - acc: 0.9881 - val_loss: 0.0355 - val_acc: 0.9893\n",
            "Epoch 9/100\n",
            "4893/4893 - 2s - loss: 0.0595 - acc: 0.9814 - val_loss: 0.0344 - val_acc: 0.9914\n",
            "Epoch 10/100\n",
            "4893/4893 - 2s - loss: 0.0799 - acc: 0.9751 - val_loss: 0.0284 - val_acc: 0.9936\n",
            "Epoch 11/100\n",
            "4893/4893 - 2s - loss: 0.0346 - acc: 0.9912 - val_loss: 0.0409 - val_acc: 0.9864\n",
            "Epoch 12/100\n",
            "4893/4893 - 2s - loss: 0.0396 - acc: 0.9869 - val_loss: 0.0415 - val_acc: 0.9886\n",
            "Epoch 13/100\n",
            "4893/4893 - 2s - loss: 0.0477 - acc: 0.9849 - val_loss: 0.0597 - val_acc: 0.9771\n",
            "Epoch 14/100\n",
            "4893/4893 - 2s - loss: 0.0439 - acc: 0.9855 - val_loss: 0.0280 - val_acc: 0.9921\n",
            "Epoch 15/100\n",
            "4893/4893 - 2s - loss: 0.0442 - acc: 0.9867 - val_loss: 0.0252 - val_acc: 0.9943\n",
            "Epoch 16/100\n",
            "4893/4893 - 2s - loss: 0.0320 - acc: 0.9914 - val_loss: 0.0476 - val_acc: 0.9814\n",
            "Epoch 17/100\n",
            "4893/4893 - 2s - loss: 0.0476 - acc: 0.9863 - val_loss: 0.0653 - val_acc: 0.9771\n",
            "Epoch 18/100\n",
            "4893/4893 - 2s - loss: 0.0313 - acc: 0.9902 - val_loss: 0.0269 - val_acc: 0.9936\n",
            "Epoch 19/100\n",
            "4893/4893 - 2s - loss: 0.0446 - acc: 0.9857 - val_loss: 0.0637 - val_acc: 0.9771\n",
            "Epoch 20/100\n",
            "4893/4893 - 2s - loss: 0.0372 - acc: 0.9867 - val_loss: 0.0537 - val_acc: 0.9800\n",
            "Epoch 21/100\n",
            "4893/4893 - 2s - loss: 0.0519 - acc: 0.9828 - val_loss: 0.0283 - val_acc: 0.9928\n",
            "Epoch 22/100\n",
            "4893/4893 - 2s - loss: 0.0349 - acc: 0.9902 - val_loss: 0.0717 - val_acc: 0.9764\n",
            "Epoch 23/100\n",
            "4893/4893 - 2s - loss: 0.0332 - acc: 0.9900 - val_loss: 0.0596 - val_acc: 0.9785\n",
            "Epoch 24/100\n",
            "4893/4893 - 2s - loss: 0.0613 - acc: 0.9814 - val_loss: 0.0548 - val_acc: 0.9821\n",
            "Epoch 25/100\n",
            "4893/4893 - 2s - loss: 0.0361 - acc: 0.9886 - val_loss: 0.0271 - val_acc: 0.9914\n",
            "Epoch 26/100\n",
            "4893/4893 - 2s - loss: 0.0328 - acc: 0.9900 - val_loss: 0.0331 - val_acc: 0.9907\n",
            "Epoch 27/100\n",
            "4893/4893 - 2s - loss: 0.0404 - acc: 0.9879 - val_loss: 0.0478 - val_acc: 0.9864\n",
            "Epoch 28/100\n",
            "4893/4893 - 2s - loss: 0.0337 - acc: 0.9898 - val_loss: 0.0321 - val_acc: 0.9878\n",
            "Epoch 29/100\n",
            "4893/4893 - 2s - loss: 0.0603 - acc: 0.9818 - val_loss: 0.0737 - val_acc: 0.9714\n",
            "Epoch 30/100\n",
            "4893/4893 - 2s - loss: 0.0248 - acc: 0.9937 - val_loss: 0.0260 - val_acc: 0.9928\n",
            "Epoch 31/100\n",
            "4893/4893 - 2s - loss: 0.0324 - acc: 0.9910 - val_loss: 0.0320 - val_acc: 0.9907\n",
            "Epoch 32/100\n",
            "4893/4893 - 2s - loss: 0.0296 - acc: 0.9916 - val_loss: 0.0434 - val_acc: 0.9850\n",
            "Epoch 33/100\n",
            "4893/4893 - 2s - loss: 0.0260 - acc: 0.9926 - val_loss: 0.0386 - val_acc: 0.9886\n",
            "Epoch 34/100\n",
            "4893/4893 - 2s - loss: 0.0521 - acc: 0.9832 - val_loss: 0.0192 - val_acc: 0.9950\n",
            "Epoch 35/100\n",
            "4893/4893 - 2s - loss: 0.0226 - acc: 0.9937 - val_loss: 0.0207 - val_acc: 0.9950\n",
            "Epoch 36/100\n",
            "4893/4893 - 2s - loss: 0.0265 - acc: 0.9928 - val_loss: 0.0243 - val_acc: 0.9921\n",
            "Epoch 37/100\n",
            "4893/4893 - 2s - loss: 0.0302 - acc: 0.9902 - val_loss: 0.0228 - val_acc: 0.9943\n",
            "Epoch 38/100\n",
            "4893/4893 - 2s - loss: 0.0306 - acc: 0.9922 - val_loss: 0.0187 - val_acc: 0.9957\n",
            "Epoch 39/100\n",
            "4893/4893 - 2s - loss: 0.0565 - acc: 0.9826 - val_loss: 0.0353 - val_acc: 0.9878\n",
            "Epoch 40/100\n",
            "4893/4893 - 2s - loss: 0.0222 - acc: 0.9941 - val_loss: 0.0223 - val_acc: 0.9928\n",
            "Epoch 41/100\n",
            "4893/4893 - 2s - loss: 0.0272 - acc: 0.9916 - val_loss: 0.0305 - val_acc: 0.9893\n",
            "Epoch 42/100\n",
            "4893/4893 - 2s - loss: 0.0272 - acc: 0.9918 - val_loss: 0.0407 - val_acc: 0.9843\n",
            "Epoch 43/100\n",
            "4893/4893 - 2s - loss: 0.0320 - acc: 0.9908 - val_loss: 0.0359 - val_acc: 0.9893\n",
            "Epoch 44/100\n",
            "4893/4893 - 2s - loss: 0.0422 - acc: 0.9881 - val_loss: 0.0991 - val_acc: 0.9700\n",
            "Epoch 45/100\n",
            "4893/4893 - 2s - loss: 0.0293 - acc: 0.9912 - val_loss: 0.0158 - val_acc: 0.9971\n",
            "Epoch 46/100\n",
            "4893/4893 - 2s - loss: 0.0244 - acc: 0.9918 - val_loss: 0.0410 - val_acc: 0.9878\n",
            "Epoch 47/100\n",
            "4893/4893 - 2s - loss: 0.0322 - acc: 0.9898 - val_loss: 0.0219 - val_acc: 0.9950\n",
            "Epoch 48/100\n",
            "4893/4893 - 2s - loss: 0.0402 - acc: 0.9873 - val_loss: 0.0242 - val_acc: 0.9936\n",
            "Epoch 49/100\n",
            "4893/4893 - 2s - loss: 0.0420 - acc: 0.9843 - val_loss: 0.0201 - val_acc: 0.9943\n",
            "Epoch 50/100\n",
            "4893/4893 - 2s - loss: 0.0187 - acc: 0.9947 - val_loss: 0.0243 - val_acc: 0.9943\n",
            "Epoch 51/100\n",
            "4893/4893 - 2s - loss: 0.0153 - acc: 0.9955 - val_loss: 0.0250 - val_acc: 0.9921\n",
            "Epoch 52/100\n",
            "4893/4893 - 2s - loss: 0.0304 - acc: 0.9912 - val_loss: 0.0205 - val_acc: 0.9943\n",
            "Epoch 53/100\n",
            "4893/4893 - 2s - loss: 0.0322 - acc: 0.9900 - val_loss: 0.0226 - val_acc: 0.9943\n",
            "Epoch 54/100\n",
            "4893/4893 - 2s - loss: 0.0189 - acc: 0.9941 - val_loss: 0.0390 - val_acc: 0.9871\n",
            "Epoch 55/100\n",
            "4893/4893 - 2s - loss: 0.0659 - acc: 0.9828 - val_loss: 0.0275 - val_acc: 0.9928\n",
            "Epoch 56/100\n",
            "4893/4893 - 2s - loss: 0.0175 - acc: 0.9965 - val_loss: 0.0161 - val_acc: 0.9971\n",
            "Epoch 57/100\n",
            "4893/4893 - 2s - loss: 0.0244 - acc: 0.9941 - val_loss: 0.0213 - val_acc: 0.9928\n",
            "Epoch 58/100\n",
            "4893/4893 - 2s - loss: 0.0276 - acc: 0.9904 - val_loss: 0.0156 - val_acc: 0.9964\n",
            "Epoch 59/100\n",
            "4893/4893 - 2s - loss: 0.0269 - acc: 0.9916 - val_loss: 0.0204 - val_acc: 0.9950\n",
            "Epoch 60/100\n",
            "4893/4893 - 2s - loss: 0.0200 - acc: 0.9937 - val_loss: 0.6197 - val_acc: 0.8662\n",
            "Epoch 61/100\n",
            "4893/4893 - 2s - loss: 0.0316 - acc: 0.9902 - val_loss: 0.0242 - val_acc: 0.9900\n",
            "Epoch 62/100\n",
            "4893/4893 - 2s - loss: 0.0178 - acc: 0.9943 - val_loss: 0.0170 - val_acc: 0.9964\n",
            "Epoch 63/100\n",
            "4893/4893 - 2s - loss: 0.0201 - acc: 0.9937 - val_loss: 0.0178 - val_acc: 0.9964\n",
            "Epoch 64/100\n",
            "4893/4893 - 2s - loss: 0.0370 - acc: 0.9877 - val_loss: 0.0711 - val_acc: 0.9692\n",
            "Epoch 65/100\n",
            "4893/4893 - 2s - loss: 0.0247 - acc: 0.9928 - val_loss: 0.0281 - val_acc: 0.9907\n",
            "Epoch 66/100\n",
            "4893/4893 - 2s - loss: 0.0133 - acc: 0.9963 - val_loss: 0.0416 - val_acc: 0.9878\n",
            "Epoch 67/100\n",
            "4893/4893 - 2s - loss: 0.0345 - acc: 0.9896 - val_loss: 0.0160 - val_acc: 0.9964\n",
            "Epoch 68/100\n",
            "4893/4893 - 2s - loss: 0.0164 - acc: 0.9959 - val_loss: 0.0378 - val_acc: 0.9886\n",
            "Epoch 69/100\n",
            "4893/4893 - 4s - loss: 0.0320 - acc: 0.9894 - val_loss: 0.2193 - val_acc: 0.9578\n",
            "Epoch 70/100\n",
            "4893/4893 - 4s - loss: 0.0141 - acc: 0.9961 - val_loss: 0.0363 - val_acc: 0.9886\n",
            "Epoch 71/100\n",
            "4893/4893 - 3s - loss: 0.0304 - acc: 0.9902 - val_loss: 0.0428 - val_acc: 0.9850\n",
            "Epoch 72/100\n",
            "4893/4893 - 2s - loss: 0.0284 - acc: 0.9933 - val_loss: 0.0282 - val_acc: 0.9907\n",
            "Epoch 73/100\n",
            "4893/4893 - 2s - loss: 0.0217 - acc: 0.9920 - val_loss: 0.0203 - val_acc: 0.9936\n",
            "Epoch 74/100\n",
            "4893/4893 - 2s - loss: 0.0171 - acc: 0.9957 - val_loss: 0.0685 - val_acc: 0.9742\n",
            "Epoch 75/100\n",
            "4893/4893 - 2s - loss: 0.0191 - acc: 0.9943 - val_loss: 0.0482 - val_acc: 0.9793\n",
            "Epoch 76/100\n",
            "4893/4893 - 2s - loss: 0.0246 - acc: 0.9922 - val_loss: 0.0834 - val_acc: 0.9728\n",
            "Epoch 77/100\n",
            "4893/4893 - 2s - loss: 0.0159 - acc: 0.9953 - val_loss: 0.0131 - val_acc: 0.9971\n",
            "Epoch 78/100\n",
            "4893/4893 - 2s - loss: 0.0185 - acc: 0.9945 - val_loss: 0.0157 - val_acc: 0.9950\n",
            "Epoch 79/100\n",
            "4893/4893 - 2s - loss: 0.0175 - acc: 0.9949 - val_loss: 0.0426 - val_acc: 0.9835\n",
            "Epoch 80/100\n",
            "4893/4893 - 2s - loss: 0.0213 - acc: 0.9924 - val_loss: 0.0102 - val_acc: 0.9979\n",
            "Epoch 81/100\n",
            "4893/4893 - 2s - loss: 0.0301 - acc: 0.9908 - val_loss: 0.0375 - val_acc: 0.9893\n",
            "Epoch 82/100\n",
            "4893/4893 - 2s - loss: 0.0127 - acc: 0.9959 - val_loss: 0.0311 - val_acc: 0.9900\n",
            "Epoch 83/100\n",
            "4893/4893 - 2s - loss: 0.0169 - acc: 0.9951 - val_loss: 0.0510 - val_acc: 0.9821\n",
            "Epoch 84/100\n",
            "4893/4893 - 2s - loss: 0.0301 - acc: 0.9900 - val_loss: 0.0204 - val_acc: 0.9943\n",
            "Epoch 85/100\n",
            "4893/4893 - 2s - loss: 0.0136 - acc: 0.9961 - val_loss: 0.0321 - val_acc: 0.9900\n",
            "Epoch 86/100\n",
            "4893/4893 - 2s - loss: 0.0134 - acc: 0.9961 - val_loss: 0.0128 - val_acc: 0.9971\n",
            "Epoch 87/100\n",
            "4893/4893 - 2s - loss: 0.0261 - acc: 0.9916 - val_loss: 0.0289 - val_acc: 0.9907\n",
            "Epoch 88/100\n",
            "4893/4893 - 2s - loss: 0.0170 - acc: 0.9951 - val_loss: 0.0121 - val_acc: 0.9979\n",
            "Epoch 89/100\n",
            "4893/4893 - 2s - loss: 0.0173 - acc: 0.9947 - val_loss: 0.0150 - val_acc: 0.9957\n",
            "Epoch 90/100\n",
            "4893/4893 - 2s - loss: 0.0296 - acc: 0.9912 - val_loss: 0.0143 - val_acc: 0.9957\n",
            "Epoch 91/100\n",
            "4893/4893 - 2s - loss: 0.0102 - acc: 0.9969 - val_loss: 0.0407 - val_acc: 0.9864\n",
            "Epoch 92/100\n",
            "4893/4893 - 2s - loss: 0.0263 - acc: 0.9931 - val_loss: 0.0288 - val_acc: 0.9914\n",
            "Epoch 93/100\n",
            "4893/4893 - 2s - loss: 0.0249 - acc: 0.9924 - val_loss: 0.0532 - val_acc: 0.9850\n",
            "Epoch 94/100\n",
            "4893/4893 - 2s - loss: 0.0232 - acc: 0.9924 - val_loss: 0.0335 - val_acc: 0.9886\n",
            "Epoch 95/100\n",
            "4893/4893 - 2s - loss: 0.0171 - acc: 0.9959 - val_loss: 0.0141 - val_acc: 0.9964\n",
            "Epoch 96/100\n",
            "4893/4893 - 2s - loss: 0.0193 - acc: 0.9939 - val_loss: 0.0103 - val_acc: 0.9979\n",
            "Epoch 97/100\n",
            "4893/4893 - 2s - loss: 0.0215 - acc: 0.9918 - val_loss: 0.0150 - val_acc: 0.9950\n",
            "Epoch 98/100\n",
            "4893/4893 - 2s - loss: 0.0081 - acc: 0.9988 - val_loss: 0.0107 - val_acc: 0.9979\n",
            "Epoch 99/100\n",
            "4893/4893 - 2s - loss: 0.0121 - acc: 0.9967 - val_loss: 0.0157 - val_acc: 0.9943\n",
            "Epoch 100/100\n",
            "4893/4893 - 2s - loss: 0.0188 - acc: 0.9937 - val_loss: 0.4533 - val_acc: 0.8834\n"
          ],
          "name": "stdout"
        }
      ]
    },
    {
      "cell_type": "code",
      "metadata": {
        "id": "xuCw_ULAYZ55"
      },
      "source": [
        "# Save the trained model\n",
        "model.save('./rnn_500_N.h5')"
      ],
      "execution_count": 34,
      "outputs": []
    },
    {
      "cell_type": "code",
      "metadata": {
        "id": "Az94zXRMpe1t",
        "outputId": "f40f19fb-56de-439a-ab85-a9dbe3258604",
        "colab": {
          "base_uri": "https://localhost:8080/",
          "height": 34
        }
      },
      "source": [
        "history.history.keys()"
      ],
      "execution_count": 35,
      "outputs": [
        {
          "output_type": "execute_result",
          "data": {
            "text/plain": [
              "dict_keys(['loss', 'acc', 'val_loss', 'val_acc'])"
            ]
          },
          "metadata": {
            "tags": []
          },
          "execution_count": 35
        }
      ]
    },
    {
      "cell_type": "code",
      "metadata": {
        "id": "Hpv8CKUNVIGd",
        "outputId": "b0d8fb0f-b577-46bc-d82a-0b8d58dc590c",
        "colab": {
          "base_uri": "https://localhost:8080/",
          "height": 573
        }
      },
      "source": [
        "def plot_history(history):\n",
        "  history_dict = history.history\n",
        "  keys=list(history_dict.keys())\n",
        "  acc = history_dict['acc']\n",
        "  val_acc = history_dict['val_acc']\n",
        "  loss = history_dict['loss']\n",
        "  val_loss = history_dict['val_loss']\n",
        "\n",
        "  epochs = range(1, len(acc) + 1)\n",
        "\n",
        "  # \"bo\" is for \"blue dot\"\n",
        "  plt.plot(epochs, loss, 'r', label='Training loss')\n",
        "  # b is for \"solid blue line\"\n",
        "  plt.plot(epochs, val_loss, 'b', label='Validation loss')\n",
        "  plt.title('Training and validation loss')\n",
        "  plt.xlabel('Epochs')\n",
        "  plt.ylabel('Loss')\n",
        "  plt.legend()\n",
        "\n",
        "  plt.show()\n",
        "\n",
        "  plt.plot(epochs, acc, 'r', label='Training acc')\n",
        "  plt.plot(epochs, val_acc, 'b', label='Validation acc')\n",
        "  plt.title('Training and validation accuracy')\n",
        "  plt.xlabel('Epochs')\n",
        "  plt.ylabel('Accuracy')\n",
        "  plt.legend(loc='lower right')\n",
        "\n",
        "  plt.show()\n",
        "\n",
        "plot_history(history)\n",
        "\n"
      ],
      "execution_count": 36,
      "outputs": [
        {
          "output_type": "display_data",
          "data": {
            "image/png": "[encoded data removed]",
            "text/plain": [
              "<Figure size 432x288 with 1 Axes>"
            ]
          },
          "metadata": {
            "tags": [],
            "needs_background": "light"
          }
        },
        {
          "output_type": "display_data",
          "data": {
            "image/png": "[encoded data removed]",
            "text/plain": [
              "<Figure size 432x288 with 1 Axes>"
            ]
          },
          "metadata": {
            "tags": [],
            "needs_background": "light"
          }
        }
      ]
    },
    {
      "cell_type": "code",
      "metadata": {
        "id": "kmcQZwpfnLLQ"
      },
      "source": [
        ""
      ],
      "execution_count": 36,
      "outputs": []
    }
  ]
}